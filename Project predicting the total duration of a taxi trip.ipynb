{
 "cells": [
  {
   "cell_type": "markdown",
   "metadata": {
    "id": "uGEW4IMl9quy"
   },
   "source": [
    "# project_jovian_final\n",
    "\n"
   ]
  },
  {
   "cell_type": "markdown",
   "metadata": {
    "id": "0czKJchEDp16"
   },
   "source": [
    "**Documentation:**\n",
    "Using this available data(New York City Taxi Trip Duration) I will predict the duration of trip duration, I will predict the total duration of a trip in new york city using 2 models Linear Regression and Decision Tree Regressor, and based on the loss I will choose the best to train my model and to predict the total duration for the test data. This data contain training data and test data and for the input columns, I drop 1 column called[ 'dropoff_datetime']because it is not available on the test data and I consider 'trip_duration' as the target because that's what we are looking for. for numeric data I apply feature engineering on ['dropoff_datetime'], I split it to [ year, month, and day ], and on my numeric columns I drop [year] because have the same value(Year=2016), also I drop ' [vendor_id and passenger_count'] columns because they are not useful and will not help to get the right prediction. on my categorical columns I drop ['id and dropoff_datetime'] because they are not useful and I keep only ['store_and_fwd_flag']. I train 2 models and I choose Decision Tree Regressor because it has less root mean square error.*"
   ]
  },
  {
   "cell_type": "code",
   "execution_count": 2,
   "metadata": {
    "executionInfo": {
     "elapsed": 3067,
     "status": "ok",
     "timestamp": 1635307943626,
     "user": {
      "displayName": "Nouhaila Bouanane",
      "photoUrl": "https://lh3.googleusercontent.com/a-/AOh14Gibt5TeymiB1HISp8umASDl5e8Z0WKFiZZfiJER=s64",
      "userId": "14306738336085774049"
     },
     "user_tz": -180
    },
    "id": "51F4kdOO9qu1"
   },
   "outputs": [],
   "source": [
    "!pip install jovian --upgrade --quiet"
   ]
  },
  {
   "cell_type": "code",
   "execution_count": 3,
   "metadata": {
    "executionInfo": {
     "elapsed": 32,
     "status": "ok",
     "timestamp": 1635307943626,
     "user": {
      "displayName": "Nouhaila Bouanane",
      "photoUrl": "https://lh3.googleusercontent.com/a-/AOh14Gibt5TeymiB1HISp8umASDl5e8Z0WKFiZZfiJER=s64",
      "userId": "14306738336085774049"
     },
     "user_tz": -180
    },
    "id": "bxDqifIy9qu2"
   },
   "outputs": [],
   "source": [
    "import jovian"
   ]
  },
  {
   "cell_type": "code",
   "execution_count": 4,
   "metadata": {
    "colab": {
     "base_uri": "https://localhost:8080/",
     "height": 120
    },
    "executionInfo": {
     "elapsed": 45730,
     "status": "ok",
     "timestamp": 1635307989326,
     "user": {
      "displayName": "Nouhaila Bouanane",
      "photoUrl": "https://lh3.googleusercontent.com/a-/AOh14Gibt5TeymiB1HISp8umASDl5e8Z0WKFiZZfiJER=s64",
      "userId": "14306738336085774049"
     },
     "user_tz": -180
    },
    "id": "PCWHluXc9qu2",
    "outputId": "3a6753ca-e80c-4cb3-f5ec-c78ffbcf70a8"
   },
   "outputs": [
    {
     "name": "stdout",
     "output_type": "stream",
     "text": [
      "[jovian] Detected Colab notebook...\u001b[0m\n",
      "[jovian] Please enter your API key ( from https://jovian.ai/ ):\u001b[0m\n",
      "API KEY: ··········\n",
      "[jovian] Uploading colab notebook to Jovian...\u001b[0m\n",
      "Committed successfully! https://jovian.ai/bouanane133/projectjovianfinal\n"
     ]
    },
    {
     "data": {
      "application/vnd.google.colaboratory.intrinsic+json": {
       "type": "string"
      },
      "text/plain": [
       "'https://jovian.ai/bouanane133/projectjovianfinal'"
      ]
     },
     "execution_count": 4,
     "metadata": {},
     "output_type": "execute_result"
    }
   ],
   "source": [
    "# Execute this to save new versions of the notebook\n",
    "jovian.commit(project=\"projectjovianfinal\")"
   ]
  },
  {
   "cell_type": "code",
   "execution_count": 5,
   "metadata": {
    "executionInfo": {
     "elapsed": 3419,
     "status": "ok",
     "timestamp": 1635307992734,
     "user": {
      "displayName": "Nouhaila Bouanane",
      "photoUrl": "https://lh3.googleusercontent.com/a-/AOh14Gibt5TeymiB1HISp8umASDl5e8Z0WKFiZZfiJER=s64",
      "userId": "14306738336085774049"
     },
     "user_tz": -180
    },
    "id": "HKNW32Zv9qu3"
   },
   "outputs": [],
   "source": [
    "!pip install opendatasets --quiet"
   ]
  },
  {
   "cell_type": "code",
   "execution_count": 6,
   "metadata": {
    "executionInfo": {
     "elapsed": 904,
     "status": "ok",
     "timestamp": 1635307993632,
     "user": {
      "displayName": "Nouhaila Bouanane",
      "photoUrl": "https://lh3.googleusercontent.com/a-/AOh14Gibt5TeymiB1HISp8umASDl5e8Z0WKFiZZfiJER=s64",
      "userId": "14306738336085774049"
     },
     "user_tz": -180
    },
    "id": "XtzLhEw--BI_"
   },
   "outputs": [],
   "source": [
    "import numpy as np\n",
    "import pandas as pd\n",
    "import opendatasets as od\n",
    "import os\n",
    "import matplotlib.pyplot as plt\n",
    "import seaborn as sns"
   ]
  },
  {
   "cell_type": "code",
   "execution_count": 7,
   "metadata": {
    "colab": {
     "base_uri": "https://localhost:8080/"
    },
    "executionInfo": {
     "elapsed": 62717,
     "status": "ok",
     "timestamp": 1635308056306,
     "user": {
      "displayName": "Nouhaila Bouanane",
      "photoUrl": "https://lh3.googleusercontent.com/a-/AOh14Gibt5TeymiB1HISp8umASDl5e8Z0WKFiZZfiJER=s64",
      "userId": "14306738336085774049"
     },
     "user_tz": -180
    },
    "id": "l_pKADmb-EdR",
    "outputId": "64008b92-46dd-41c7-a864-f517896aeedb"
   },
   "outputs": [
    {
     "name": "stdout",
     "output_type": "stream",
     "text": [
      "Please provide your Kaggle credentials to download this dataset. Learn more: http://bit.ly/kaggle-creds\n",
      "Your Kaggle username: nouhailabouanane\n",
      "Your Kaggle Key: ··········\n",
      "Downloading nyc-taxi-trip-duration.zip to ./nyc-taxi-trip-duration\n"
     ]
    },
    {
     "name": "stderr",
     "output_type": "stream",
     "text": [
      "100%|██████████| 85.8M/85.8M [00:00<00:00, 120MB/s]\n"
     ]
    },
    {
     "name": "stdout",
     "output_type": "stream",
     "text": [
      "\n",
      "Extracting archive ./nyc-taxi-trip-duration/nyc-taxi-trip-duration.zip to ./nyc-taxi-trip-duration\n"
     ]
    }
   ],
   "source": [
    "od.download('https://www.kaggle.com/c/nyc-taxi-trip-duration')"
   ]
  },
  {
   "cell_type": "code",
   "execution_count": 8,
   "metadata": {
    "colab": {
     "base_uri": "https://localhost:8080/"
    },
    "executionInfo": {
     "elapsed": 35,
     "status": "ok",
     "timestamp": 1635308056307,
     "user": {
      "displayName": "Nouhaila Bouanane",
      "photoUrl": "https://lh3.googleusercontent.com/a-/AOh14Gibt5TeymiB1HISp8umASDl5e8Z0WKFiZZfiJER=s64",
      "userId": "14306738336085774049"
     },
     "user_tz": -180
    },
    "id": "Wm09guHd-M5I",
    "outputId": "d750c984-1a5b-4940-99c9-13126a4e838a"
   },
   "outputs": [
    {
     "data": {
      "text/plain": [
       "['test.zip', 'train.zip', 'sample_submission.zip']"
      ]
     },
     "execution_count": 8,
     "metadata": {},
     "output_type": "execute_result"
    }
   ],
   "source": [
    "os.listdir('nyc-taxi-trip-duration')"
   ]
  },
  {
   "cell_type": "code",
   "execution_count": 9,
   "metadata": {
    "executionInfo": {
     "elapsed": 8477,
     "status": "ok",
     "timestamp": 1635308064767,
     "user": {
      "displayName": "Nouhaila Bouanane",
      "photoUrl": "https://lh3.googleusercontent.com/a-/AOh14Gibt5TeymiB1HISp8umASDl5e8Z0WKFiZZfiJER=s64",
      "userId": "14306738336085774049"
     },
     "user_tz": -180
    },
    "id": "613LvVLl-Pc3"
   },
   "outputs": [],
   "source": [
    "taxi_df=pd.read_csv('nyc-taxi-trip-duration/train.zip')\n",
    "test_df=pd.read_csv('nyc-taxi-trip-duration/test.zip')\n",
    "submission_df = pd.read_csv('nyc-taxi-trip-duration/sample_submission.zip')"
   ]
  },
  {
   "cell_type": "markdown",
   "metadata": {
    "id": "ynEL7pR6-RcA"
   },
   "source": [
    "**descovering data**"
   ]
  },
  {
   "cell_type": "code",
   "execution_count": 10,
   "metadata": {
    "colab": {
     "base_uri": "https://localhost:8080/",
     "height": 309
    },
    "executionInfo": {
     "elapsed": 54,
     "status": "ok",
     "timestamp": 1635308064768,
     "user": {
      "displayName": "Nouhaila Bouanane",
      "photoUrl": "https://lh3.googleusercontent.com/a-/AOh14Gibt5TeymiB1HISp8umASDl5e8Z0WKFiZZfiJER=s64",
      "userId": "14306738336085774049"
     },
     "user_tz": -180
    },
    "id": "7h8AvNvE-Ulv",
    "outputId": "a2a425c4-f871-4209-fb7a-f2947cec706c"
   },
   "outputs": [
    {
     "data": {
      "text/html": [
       "<div>\n",
       "<style scoped>\n",
       "    .dataframe tbody tr th:only-of-type {\n",
       "        vertical-align: middle;\n",
       "    }\n",
       "\n",
       "    .dataframe tbody tr th {\n",
       "        vertical-align: top;\n",
       "    }\n",
       "\n",
       "    .dataframe thead th {\n",
       "        text-align: right;\n",
       "    }\n",
       "</style>\n",
       "<table border=\"1\" class=\"dataframe\">\n",
       "  <thead>\n",
       "    <tr style=\"text-align: right;\">\n",
       "      <th></th>\n",
       "      <th>id</th>\n",
       "      <th>vendor_id</th>\n",
       "      <th>pickup_datetime</th>\n",
       "      <th>dropoff_datetime</th>\n",
       "      <th>passenger_count</th>\n",
       "      <th>pickup_longitude</th>\n",
       "      <th>pickup_latitude</th>\n",
       "      <th>dropoff_longitude</th>\n",
       "      <th>dropoff_latitude</th>\n",
       "      <th>store_and_fwd_flag</th>\n",
       "      <th>trip_duration</th>\n",
       "    </tr>\n",
       "  </thead>\n",
       "  <tbody>\n",
       "    <tr>\n",
       "      <th>0</th>\n",
       "      <td>id2875421</td>\n",
       "      <td>2</td>\n",
       "      <td>2016-03-14 17:24:55</td>\n",
       "      <td>2016-03-14 17:32:30</td>\n",
       "      <td>1</td>\n",
       "      <td>-73.982155</td>\n",
       "      <td>40.767937</td>\n",
       "      <td>-73.964630</td>\n",
       "      <td>40.765602</td>\n",
       "      <td>N</td>\n",
       "      <td>455</td>\n",
       "    </tr>\n",
       "    <tr>\n",
       "      <th>1</th>\n",
       "      <td>id2377394</td>\n",
       "      <td>1</td>\n",
       "      <td>2016-06-12 00:43:35</td>\n",
       "      <td>2016-06-12 00:54:38</td>\n",
       "      <td>1</td>\n",
       "      <td>-73.980415</td>\n",
       "      <td>40.738564</td>\n",
       "      <td>-73.999481</td>\n",
       "      <td>40.731152</td>\n",
       "      <td>N</td>\n",
       "      <td>663</td>\n",
       "    </tr>\n",
       "    <tr>\n",
       "      <th>2</th>\n",
       "      <td>id3858529</td>\n",
       "      <td>2</td>\n",
       "      <td>2016-01-19 11:35:24</td>\n",
       "      <td>2016-01-19 12:10:48</td>\n",
       "      <td>1</td>\n",
       "      <td>-73.979027</td>\n",
       "      <td>40.763939</td>\n",
       "      <td>-74.005333</td>\n",
       "      <td>40.710087</td>\n",
       "      <td>N</td>\n",
       "      <td>2124</td>\n",
       "    </tr>\n",
       "    <tr>\n",
       "      <th>3</th>\n",
       "      <td>id3504673</td>\n",
       "      <td>2</td>\n",
       "      <td>2016-04-06 19:32:31</td>\n",
       "      <td>2016-04-06 19:39:40</td>\n",
       "      <td>1</td>\n",
       "      <td>-74.010040</td>\n",
       "      <td>40.719971</td>\n",
       "      <td>-74.012268</td>\n",
       "      <td>40.706718</td>\n",
       "      <td>N</td>\n",
       "      <td>429</td>\n",
       "    </tr>\n",
       "    <tr>\n",
       "      <th>4</th>\n",
       "      <td>id2181028</td>\n",
       "      <td>2</td>\n",
       "      <td>2016-03-26 13:30:55</td>\n",
       "      <td>2016-03-26 13:38:10</td>\n",
       "      <td>1</td>\n",
       "      <td>-73.973053</td>\n",
       "      <td>40.793209</td>\n",
       "      <td>-73.972923</td>\n",
       "      <td>40.782520</td>\n",
       "      <td>N</td>\n",
       "      <td>435</td>\n",
       "    </tr>\n",
       "  </tbody>\n",
       "</table>\n",
       "</div>"
      ],
      "text/plain": [
       "          id  vendor_id  ... store_and_fwd_flag trip_duration\n",
       "0  id2875421          2  ...                  N           455\n",
       "1  id2377394          1  ...                  N           663\n",
       "2  id3858529          2  ...                  N          2124\n",
       "3  id3504673          2  ...                  N           429\n",
       "4  id2181028          2  ...                  N           435\n",
       "\n",
       "[5 rows x 11 columns]"
      ]
     },
     "execution_count": 10,
     "metadata": {},
     "output_type": "execute_result"
    }
   ],
   "source": [
    "taxi_df.head()"
   ]
  },
  {
   "cell_type": "code",
   "execution_count": 11,
   "metadata": {
    "colab": {
     "base_uri": "https://localhost:8080/",
     "height": 204
    },
    "executionInfo": {
     "elapsed": 50,
     "status": "ok",
     "timestamp": 1635308064770,
     "user": {
      "displayName": "Nouhaila Bouanane",
      "photoUrl": "https://lh3.googleusercontent.com/a-/AOh14Gibt5TeymiB1HISp8umASDl5e8Z0WKFiZZfiJER=s64",
      "userId": "14306738336085774049"
     },
     "user_tz": -180
    },
    "id": "ywVSKxmN-adb",
    "outputId": "64b2628f-9653-4325-c0cd-651449515deb"
   },
   "outputs": [
    {
     "data": {
      "text/html": [
       "<div>\n",
       "<style scoped>\n",
       "    .dataframe tbody tr th:only-of-type {\n",
       "        vertical-align: middle;\n",
       "    }\n",
       "\n",
       "    .dataframe tbody tr th {\n",
       "        vertical-align: top;\n",
       "    }\n",
       "\n",
       "    .dataframe thead th {\n",
       "        text-align: right;\n",
       "    }\n",
       "</style>\n",
       "<table border=\"1\" class=\"dataframe\">\n",
       "  <thead>\n",
       "    <tr style=\"text-align: right;\">\n",
       "      <th></th>\n",
       "      <th>id</th>\n",
       "      <th>vendor_id</th>\n",
       "      <th>pickup_datetime</th>\n",
       "      <th>passenger_count</th>\n",
       "      <th>pickup_longitude</th>\n",
       "      <th>pickup_latitude</th>\n",
       "      <th>dropoff_longitude</th>\n",
       "      <th>dropoff_latitude</th>\n",
       "      <th>store_and_fwd_flag</th>\n",
       "    </tr>\n",
       "  </thead>\n",
       "  <tbody>\n",
       "    <tr>\n",
       "      <th>0</th>\n",
       "      <td>id3004672</td>\n",
       "      <td>1</td>\n",
       "      <td>2016-06-30 23:59:58</td>\n",
       "      <td>1</td>\n",
       "      <td>-73.988129</td>\n",
       "      <td>40.732029</td>\n",
       "      <td>-73.990173</td>\n",
       "      <td>40.756680</td>\n",
       "      <td>N</td>\n",
       "    </tr>\n",
       "    <tr>\n",
       "      <th>1</th>\n",
       "      <td>id3505355</td>\n",
       "      <td>1</td>\n",
       "      <td>2016-06-30 23:59:53</td>\n",
       "      <td>1</td>\n",
       "      <td>-73.964203</td>\n",
       "      <td>40.679993</td>\n",
       "      <td>-73.959808</td>\n",
       "      <td>40.655403</td>\n",
       "      <td>N</td>\n",
       "    </tr>\n",
       "    <tr>\n",
       "      <th>2</th>\n",
       "      <td>id1217141</td>\n",
       "      <td>1</td>\n",
       "      <td>2016-06-30 23:59:47</td>\n",
       "      <td>1</td>\n",
       "      <td>-73.997437</td>\n",
       "      <td>40.737583</td>\n",
       "      <td>-73.986160</td>\n",
       "      <td>40.729523</td>\n",
       "      <td>N</td>\n",
       "    </tr>\n",
       "    <tr>\n",
       "      <th>3</th>\n",
       "      <td>id2150126</td>\n",
       "      <td>2</td>\n",
       "      <td>2016-06-30 23:59:41</td>\n",
       "      <td>1</td>\n",
       "      <td>-73.956070</td>\n",
       "      <td>40.771900</td>\n",
       "      <td>-73.986427</td>\n",
       "      <td>40.730469</td>\n",
       "      <td>N</td>\n",
       "    </tr>\n",
       "    <tr>\n",
       "      <th>4</th>\n",
       "      <td>id1598245</td>\n",
       "      <td>1</td>\n",
       "      <td>2016-06-30 23:59:33</td>\n",
       "      <td>1</td>\n",
       "      <td>-73.970215</td>\n",
       "      <td>40.761475</td>\n",
       "      <td>-73.961510</td>\n",
       "      <td>40.755890</td>\n",
       "      <td>N</td>\n",
       "    </tr>\n",
       "  </tbody>\n",
       "</table>\n",
       "</div>"
      ],
      "text/plain": [
       "          id  vendor_id  ... dropoff_latitude  store_and_fwd_flag\n",
       "0  id3004672          1  ...        40.756680                   N\n",
       "1  id3505355          1  ...        40.655403                   N\n",
       "2  id1217141          1  ...        40.729523                   N\n",
       "3  id2150126          2  ...        40.730469                   N\n",
       "4  id1598245          1  ...        40.755890                   N\n",
       "\n",
       "[5 rows x 9 columns]"
      ]
     },
     "execution_count": 11,
     "metadata": {},
     "output_type": "execute_result"
    }
   ],
   "source": [
    "test_df.head()"
   ]
  },
  {
   "cell_type": "code",
   "execution_count": 12,
   "metadata": {
    "colab": {
     "base_uri": "https://localhost:8080/"
    },
    "executionInfo": {
     "elapsed": 400,
     "status": "ok",
     "timestamp": 1635308065127,
     "user": {
      "displayName": "Nouhaila Bouanane",
      "photoUrl": "https://lh3.googleusercontent.com/a-/AOh14Gibt5TeymiB1HISp8umASDl5e8Z0WKFiZZfiJER=s64",
      "userId": "14306738336085774049"
     },
     "user_tz": -180
    },
    "id": "FB1faDF1-bR1",
    "outputId": "e747df13-3550-45af-d9e5-f594fc396b38"
   },
   "outputs": [
    {
     "name": "stdout",
     "output_type": "stream",
     "text": [
      "<class 'pandas.core.frame.DataFrame'>\n",
      "RangeIndex: 625134 entries, 0 to 625133\n",
      "Data columns (total 9 columns):\n",
      " #   Column              Non-Null Count   Dtype  \n",
      "---  ------              --------------   -----  \n",
      " 0   id                  625134 non-null  object \n",
      " 1   vendor_id           625134 non-null  int64  \n",
      " 2   pickup_datetime     625134 non-null  object \n",
      " 3   passenger_count     625134 non-null  int64  \n",
      " 4   pickup_longitude    625134 non-null  float64\n",
      " 5   pickup_latitude     625134 non-null  float64\n",
      " 6   dropoff_longitude   625134 non-null  float64\n",
      " 7   dropoff_latitude    625134 non-null  float64\n",
      " 8   store_and_fwd_flag  625134 non-null  object \n",
      "dtypes: float64(4), int64(2), object(3)\n",
      "memory usage: 42.9+ MB\n"
     ]
    }
   ],
   "source": [
    "test_df.info()"
   ]
  },
  {
   "cell_type": "code",
   "execution_count": 13,
   "metadata": {
    "colab": {
     "base_uri": "https://localhost:8080/"
    },
    "executionInfo": {
     "elapsed": 23,
     "status": "ok",
     "timestamp": 1635308065129,
     "user": {
      "displayName": "Nouhaila Bouanane",
      "photoUrl": "https://lh3.googleusercontent.com/a-/AOh14Gibt5TeymiB1HISp8umASDl5e8Z0WKFiZZfiJER=s64",
      "userId": "14306738336085774049"
     },
     "user_tz": -180
    },
    "id": "Kndry89L-jvF",
    "outputId": "0f005937-1ff8-429d-c749-ff5419fd7a3a"
   },
   "outputs": [
    {
     "name": "stdout",
     "output_type": "stream",
     "text": [
      "<class 'pandas.core.frame.DataFrame'>\n",
      "RangeIndex: 1458644 entries, 0 to 1458643\n",
      "Data columns (total 11 columns):\n",
      " #   Column              Non-Null Count    Dtype  \n",
      "---  ------              --------------    -----  \n",
      " 0   id                  1458644 non-null  object \n",
      " 1   vendor_id           1458644 non-null  int64  \n",
      " 2   pickup_datetime     1458644 non-null  object \n",
      " 3   dropoff_datetime    1458644 non-null  object \n",
      " 4   passenger_count     1458644 non-null  int64  \n",
      " 5   pickup_longitude    1458644 non-null  float64\n",
      " 6   pickup_latitude     1458644 non-null  float64\n",
      " 7   dropoff_longitude   1458644 non-null  float64\n",
      " 8   dropoff_latitude    1458644 non-null  float64\n",
      " 9   store_and_fwd_flag  1458644 non-null  object \n",
      " 10  trip_duration       1458644 non-null  int64  \n",
      "dtypes: float64(4), int64(3), object(4)\n",
      "memory usage: 122.4+ MB\n"
     ]
    }
   ],
   "source": [
    "taxi_df.info()"
   ]
  },
  {
   "cell_type": "code",
   "execution_count": 14,
   "metadata": {
    "colab": {
     "base_uri": "https://localhost:8080/",
     "height": 297
    },
    "executionInfo": {
     "elapsed": 583,
     "status": "ok",
     "timestamp": 1635308065702,
     "user": {
      "displayName": "Nouhaila Bouanane",
      "photoUrl": "https://lh3.googleusercontent.com/a-/AOh14Gibt5TeymiB1HISp8umASDl5e8Z0WKFiZZfiJER=s64",
      "userId": "14306738336085774049"
     },
     "user_tz": -180
    },
    "id": "60_8XLzC-m8j",
    "outputId": "4042ec55-c3a1-489f-f95d-73c056975629"
   },
   "outputs": [
    {
     "data": {
      "text/html": [
       "<div>\n",
       "<style scoped>\n",
       "    .dataframe tbody tr th:only-of-type {\n",
       "        vertical-align: middle;\n",
       "    }\n",
       "\n",
       "    .dataframe tbody tr th {\n",
       "        vertical-align: top;\n",
       "    }\n",
       "\n",
       "    .dataframe thead th {\n",
       "        text-align: right;\n",
       "    }\n",
       "</style>\n",
       "<table border=\"1\" class=\"dataframe\">\n",
       "  <thead>\n",
       "    <tr style=\"text-align: right;\">\n",
       "      <th></th>\n",
       "      <th>vendor_id</th>\n",
       "      <th>passenger_count</th>\n",
       "      <th>pickup_longitude</th>\n",
       "      <th>pickup_latitude</th>\n",
       "      <th>dropoff_longitude</th>\n",
       "      <th>dropoff_latitude</th>\n",
       "      <th>trip_duration</th>\n",
       "    </tr>\n",
       "  </thead>\n",
       "  <tbody>\n",
       "    <tr>\n",
       "      <th>count</th>\n",
       "      <td>1.458644e+06</td>\n",
       "      <td>1.458644e+06</td>\n",
       "      <td>1.458644e+06</td>\n",
       "      <td>1.458644e+06</td>\n",
       "      <td>1.458644e+06</td>\n",
       "      <td>1.458644e+06</td>\n",
       "      <td>1.458644e+06</td>\n",
       "    </tr>\n",
       "    <tr>\n",
       "      <th>mean</th>\n",
       "      <td>1.534950e+00</td>\n",
       "      <td>1.664530e+00</td>\n",
       "      <td>-7.397349e+01</td>\n",
       "      <td>4.075092e+01</td>\n",
       "      <td>-7.397342e+01</td>\n",
       "      <td>4.075180e+01</td>\n",
       "      <td>9.594923e+02</td>\n",
       "    </tr>\n",
       "    <tr>\n",
       "      <th>std</th>\n",
       "      <td>4.987772e-01</td>\n",
       "      <td>1.314242e+00</td>\n",
       "      <td>7.090186e-02</td>\n",
       "      <td>3.288119e-02</td>\n",
       "      <td>7.064327e-02</td>\n",
       "      <td>3.589056e-02</td>\n",
       "      <td>5.237432e+03</td>\n",
       "    </tr>\n",
       "    <tr>\n",
       "      <th>min</th>\n",
       "      <td>1.000000e+00</td>\n",
       "      <td>0.000000e+00</td>\n",
       "      <td>-1.219333e+02</td>\n",
       "      <td>3.435970e+01</td>\n",
       "      <td>-1.219333e+02</td>\n",
       "      <td>3.218114e+01</td>\n",
       "      <td>1.000000e+00</td>\n",
       "    </tr>\n",
       "    <tr>\n",
       "      <th>25%</th>\n",
       "      <td>1.000000e+00</td>\n",
       "      <td>1.000000e+00</td>\n",
       "      <td>-7.399187e+01</td>\n",
       "      <td>4.073735e+01</td>\n",
       "      <td>-7.399133e+01</td>\n",
       "      <td>4.073588e+01</td>\n",
       "      <td>3.970000e+02</td>\n",
       "    </tr>\n",
       "    <tr>\n",
       "      <th>50%</th>\n",
       "      <td>2.000000e+00</td>\n",
       "      <td>1.000000e+00</td>\n",
       "      <td>-7.398174e+01</td>\n",
       "      <td>4.075410e+01</td>\n",
       "      <td>-7.397975e+01</td>\n",
       "      <td>4.075452e+01</td>\n",
       "      <td>6.620000e+02</td>\n",
       "    </tr>\n",
       "    <tr>\n",
       "      <th>75%</th>\n",
       "      <td>2.000000e+00</td>\n",
       "      <td>2.000000e+00</td>\n",
       "      <td>-7.396733e+01</td>\n",
       "      <td>4.076836e+01</td>\n",
       "      <td>-7.396301e+01</td>\n",
       "      <td>4.076981e+01</td>\n",
       "      <td>1.075000e+03</td>\n",
       "    </tr>\n",
       "    <tr>\n",
       "      <th>max</th>\n",
       "      <td>2.000000e+00</td>\n",
       "      <td>9.000000e+00</td>\n",
       "      <td>-6.133553e+01</td>\n",
       "      <td>5.188108e+01</td>\n",
       "      <td>-6.133553e+01</td>\n",
       "      <td>4.392103e+01</td>\n",
       "      <td>3.526282e+06</td>\n",
       "    </tr>\n",
       "  </tbody>\n",
       "</table>\n",
       "</div>"
      ],
      "text/plain": [
       "          vendor_id  passenger_count  ...  dropoff_latitude  trip_duration\n",
       "count  1.458644e+06     1.458644e+06  ...      1.458644e+06   1.458644e+06\n",
       "mean   1.534950e+00     1.664530e+00  ...      4.075180e+01   9.594923e+02\n",
       "std    4.987772e-01     1.314242e+00  ...      3.589056e-02   5.237432e+03\n",
       "min    1.000000e+00     0.000000e+00  ...      3.218114e+01   1.000000e+00\n",
       "25%    1.000000e+00     1.000000e+00  ...      4.073588e+01   3.970000e+02\n",
       "50%    2.000000e+00     1.000000e+00  ...      4.075452e+01   6.620000e+02\n",
       "75%    2.000000e+00     2.000000e+00  ...      4.076981e+01   1.075000e+03\n",
       "max    2.000000e+00     9.000000e+00  ...      4.392103e+01   3.526282e+06\n",
       "\n",
       "[8 rows x 7 columns]"
      ]
     },
     "execution_count": 14,
     "metadata": {},
     "output_type": "execute_result"
    }
   ],
   "source": [
    "taxi_df.describe()"
   ]
  },
  {
   "cell_type": "code",
   "execution_count": 15,
   "metadata": {
    "colab": {
     "base_uri": "https://localhost:8080/"
    },
    "executionInfo": {
     "elapsed": 331,
     "status": "ok",
     "timestamp": 1635308065712,
     "user": {
      "displayName": "Nouhaila Bouanane",
      "photoUrl": "https://lh3.googleusercontent.com/a-/AOh14Gibt5TeymiB1HISp8umASDl5e8Z0WKFiZZfiJER=s64",
      "userId": "14306738336085774049"
     },
     "user_tz": -180
    },
    "id": "vMwB6y6h-x7G",
    "outputId": "a77aef10-05cf-4379-f29a-4d55b2992537"
   },
   "outputs": [
    {
     "data": {
      "text/plain": [
       "count     1458644\n",
       "unique          2\n",
       "top             N\n",
       "freq      1450599\n",
       "Name: store_and_fwd_flag, dtype: object"
      ]
     },
     "execution_count": 15,
     "metadata": {},
     "output_type": "execute_result"
    }
   ],
   "source": [
    "taxi_df['store_and_fwd_flag'].describe()"
   ]
  },
  {
   "cell_type": "code",
   "execution_count": 16,
   "metadata": {
    "colab": {
     "base_uri": "https://localhost:8080/",
     "height": 609
    },
    "executionInfo": {
     "elapsed": 878,
     "status": "ok",
     "timestamp": 1635308066574,
     "user": {
      "displayName": "Nouhaila Bouanane",
      "photoUrl": "https://lh3.googleusercontent.com/a-/AOh14Gibt5TeymiB1HISp8umASDl5e8Z0WKFiZZfiJER=s64",
      "userId": "14306738336085774049"
     },
     "user_tz": -180
    },
    "id": "x4kd91TU-0sm",
    "outputId": "e15aa811-df73-4071-d966-93e903aa5b70"
   },
   "outputs": [
    {
     "data": {
      "text/html": [
       "<div>\n",
       "<style scoped>\n",
       "    .dataframe tbody tr th:only-of-type {\n",
       "        vertical-align: middle;\n",
       "    }\n",
       "\n",
       "    .dataframe tbody tr th {\n",
       "        vertical-align: top;\n",
       "    }\n",
       "\n",
       "    .dataframe thead th {\n",
       "        text-align: right;\n",
       "    }\n",
       "</style>\n",
       "<table border=\"1\" class=\"dataframe\">\n",
       "  <thead>\n",
       "    <tr style=\"text-align: right;\">\n",
       "      <th></th>\n",
       "      <th>id</th>\n",
       "      <th>vendor_id</th>\n",
       "      <th>pickup_datetime</th>\n",
       "      <th>dropoff_datetime</th>\n",
       "      <th>passenger_count</th>\n",
       "      <th>pickup_longitude</th>\n",
       "      <th>pickup_latitude</th>\n",
       "      <th>dropoff_longitude</th>\n",
       "      <th>dropoff_latitude</th>\n",
       "      <th>store_and_fwd_flag</th>\n",
       "      <th>trip_duration</th>\n",
       "    </tr>\n",
       "  </thead>\n",
       "  <tbody>\n",
       "    <tr>\n",
       "      <th>0</th>\n",
       "      <td>id2875421</td>\n",
       "      <td>2</td>\n",
       "      <td>2016-03-14 17:24:55</td>\n",
       "      <td>2016-03-14 17:32:30</td>\n",
       "      <td>1</td>\n",
       "      <td>-73.982155</td>\n",
       "      <td>40.767937</td>\n",
       "      <td>-73.964630</td>\n",
       "      <td>40.765602</td>\n",
       "      <td>N</td>\n",
       "      <td>455</td>\n",
       "    </tr>\n",
       "    <tr>\n",
       "      <th>1</th>\n",
       "      <td>id2377394</td>\n",
       "      <td>1</td>\n",
       "      <td>2016-06-12 00:43:35</td>\n",
       "      <td>2016-06-12 00:54:38</td>\n",
       "      <td>1</td>\n",
       "      <td>-73.980415</td>\n",
       "      <td>40.738564</td>\n",
       "      <td>-73.999481</td>\n",
       "      <td>40.731152</td>\n",
       "      <td>N</td>\n",
       "      <td>663</td>\n",
       "    </tr>\n",
       "    <tr>\n",
       "      <th>2</th>\n",
       "      <td>id3858529</td>\n",
       "      <td>2</td>\n",
       "      <td>2016-01-19 11:35:24</td>\n",
       "      <td>2016-01-19 12:10:48</td>\n",
       "      <td>1</td>\n",
       "      <td>-73.979027</td>\n",
       "      <td>40.763939</td>\n",
       "      <td>-74.005333</td>\n",
       "      <td>40.710087</td>\n",
       "      <td>N</td>\n",
       "      <td>2124</td>\n",
       "    </tr>\n",
       "    <tr>\n",
       "      <th>3</th>\n",
       "      <td>id3504673</td>\n",
       "      <td>2</td>\n",
       "      <td>2016-04-06 19:32:31</td>\n",
       "      <td>2016-04-06 19:39:40</td>\n",
       "      <td>1</td>\n",
       "      <td>-74.010040</td>\n",
       "      <td>40.719971</td>\n",
       "      <td>-74.012268</td>\n",
       "      <td>40.706718</td>\n",
       "      <td>N</td>\n",
       "      <td>429</td>\n",
       "    </tr>\n",
       "    <tr>\n",
       "      <th>4</th>\n",
       "      <td>id2181028</td>\n",
       "      <td>2</td>\n",
       "      <td>2016-03-26 13:30:55</td>\n",
       "      <td>2016-03-26 13:38:10</td>\n",
       "      <td>1</td>\n",
       "      <td>-73.973053</td>\n",
       "      <td>40.793209</td>\n",
       "      <td>-73.972923</td>\n",
       "      <td>40.782520</td>\n",
       "      <td>N</td>\n",
       "      <td>435</td>\n",
       "    </tr>\n",
       "    <tr>\n",
       "      <th>...</th>\n",
       "      <td>...</td>\n",
       "      <td>...</td>\n",
       "      <td>...</td>\n",
       "      <td>...</td>\n",
       "      <td>...</td>\n",
       "      <td>...</td>\n",
       "      <td>...</td>\n",
       "      <td>...</td>\n",
       "      <td>...</td>\n",
       "      <td>...</td>\n",
       "      <td>...</td>\n",
       "    </tr>\n",
       "    <tr>\n",
       "      <th>1458639</th>\n",
       "      <td>id2376096</td>\n",
       "      <td>2</td>\n",
       "      <td>2016-04-08 13:31:04</td>\n",
       "      <td>2016-04-08 13:44:02</td>\n",
       "      <td>4</td>\n",
       "      <td>-73.982201</td>\n",
       "      <td>40.745522</td>\n",
       "      <td>-73.994911</td>\n",
       "      <td>40.740170</td>\n",
       "      <td>N</td>\n",
       "      <td>778</td>\n",
       "    </tr>\n",
       "    <tr>\n",
       "      <th>1458640</th>\n",
       "      <td>id1049543</td>\n",
       "      <td>1</td>\n",
       "      <td>2016-01-10 07:35:15</td>\n",
       "      <td>2016-01-10 07:46:10</td>\n",
       "      <td>1</td>\n",
       "      <td>-74.000946</td>\n",
       "      <td>40.747379</td>\n",
       "      <td>-73.970184</td>\n",
       "      <td>40.796547</td>\n",
       "      <td>N</td>\n",
       "      <td>655</td>\n",
       "    </tr>\n",
       "    <tr>\n",
       "      <th>1458641</th>\n",
       "      <td>id2304944</td>\n",
       "      <td>2</td>\n",
       "      <td>2016-04-22 06:57:41</td>\n",
       "      <td>2016-04-22 07:10:25</td>\n",
       "      <td>1</td>\n",
       "      <td>-73.959129</td>\n",
       "      <td>40.768799</td>\n",
       "      <td>-74.004433</td>\n",
       "      <td>40.707371</td>\n",
       "      <td>N</td>\n",
       "      <td>764</td>\n",
       "    </tr>\n",
       "    <tr>\n",
       "      <th>1458642</th>\n",
       "      <td>id2714485</td>\n",
       "      <td>1</td>\n",
       "      <td>2016-01-05 15:56:26</td>\n",
       "      <td>2016-01-05 16:02:39</td>\n",
       "      <td>1</td>\n",
       "      <td>-73.982079</td>\n",
       "      <td>40.749062</td>\n",
       "      <td>-73.974632</td>\n",
       "      <td>40.757107</td>\n",
       "      <td>N</td>\n",
       "      <td>373</td>\n",
       "    </tr>\n",
       "    <tr>\n",
       "      <th>1458643</th>\n",
       "      <td>id1209952</td>\n",
       "      <td>1</td>\n",
       "      <td>2016-04-05 14:44:25</td>\n",
       "      <td>2016-04-05 14:47:43</td>\n",
       "      <td>1</td>\n",
       "      <td>-73.979538</td>\n",
       "      <td>40.781750</td>\n",
       "      <td>-73.972809</td>\n",
       "      <td>40.790585</td>\n",
       "      <td>N</td>\n",
       "      <td>198</td>\n",
       "    </tr>\n",
       "  </tbody>\n",
       "</table>\n",
       "<p>1458644 rows × 11 columns</p>\n",
       "</div>"
      ],
      "text/plain": [
       "                id  vendor_id  ... store_and_fwd_flag trip_duration\n",
       "0        id2875421          2  ...                  N           455\n",
       "1        id2377394          1  ...                  N           663\n",
       "2        id3858529          2  ...                  N          2124\n",
       "3        id3504673          2  ...                  N           429\n",
       "4        id2181028          2  ...                  N           435\n",
       "...            ...        ...  ...                ...           ...\n",
       "1458639  id2376096          2  ...                  N           778\n",
       "1458640  id1049543          1  ...                  N           655\n",
       "1458641  id2304944          2  ...                  N           764\n",
       "1458642  id2714485          1  ...                  N           373\n",
       "1458643  id1209952          1  ...                  N           198\n",
       "\n",
       "[1458644 rows x 11 columns]"
      ]
     },
     "execution_count": 16,
     "metadata": {},
     "output_type": "execute_result"
    }
   ],
   "source": [
    "taxi_df"
   ]
  },
  {
   "cell_type": "markdown",
   "metadata": {
    "id": "QWvvt6CM-7ya"
   },
   "source": [
    " **Correlation**"
   ]
  },
  {
   "cell_type": "code",
   "execution_count": 17,
   "metadata": {
    "colab": {
     "base_uri": "https://localhost:8080/"
    },
    "executionInfo": {
     "elapsed": 28,
     "status": "ok",
     "timestamp": 1635308066576,
     "user": {
      "displayName": "Nouhaila Bouanane",
      "photoUrl": "https://lh3.googleusercontent.com/a-/AOh14Gibt5TeymiB1HISp8umASDl5e8Z0WKFiZZfiJER=s64",
      "userId": "14306738336085774049"
     },
     "user_tz": -180
    },
    "id": "1zJY3Xhs-9mw",
    "outputId": "64a29612-eb22-4ef2-f174-c66879fac9ed"
   },
   "outputs": [
    {
     "data": {
      "text/plain": [
       "-0.02920447086833206"
      ]
     },
     "execution_count": 17,
     "metadata": {},
     "output_type": "execute_result"
    }
   ],
   "source": [
    "taxi_df.pickup_latitude.corr(taxi_df.trip_duration)"
   ]
  },
  {
   "cell_type": "code",
   "execution_count": 18,
   "metadata": {
    "colab": {
     "base_uri": "https://localhost:8080/"
    },
    "executionInfo": {
     "elapsed": 21,
     "status": "ok",
     "timestamp": 1635308066577,
     "user": {
      "displayName": "Nouhaila Bouanane",
      "photoUrl": "https://lh3.googleusercontent.com/a-/AOh14Gibt5TeymiB1HISp8umASDl5e8Z0WKFiZZfiJER=s64",
      "userId": "14306738336085774049"
     },
     "user_tz": -180
    },
    "id": "dhaejaaN_Byw",
    "outputId": "07207d51-d743-4316-9582-a812ac11a3c5"
   },
   "outputs": [
    {
     "data": {
      "text/plain": [
       "-0.020676530250917795"
      ]
     },
     "execution_count": 18,
     "metadata": {},
     "output_type": "execute_result"
    }
   ],
   "source": [
    "taxi_df.dropoff_latitude.corr(taxi_df.trip_duration)"
   ]
  },
  {
   "cell_type": "code",
   "execution_count": 19,
   "metadata": {
    "colab": {
     "base_uri": "https://localhost:8080/"
    },
    "executionInfo": {
     "elapsed": 17,
     "status": "ok",
     "timestamp": 1635308066578,
     "user": {
      "displayName": "Nouhaila Bouanane",
      "photoUrl": "https://lh3.googleusercontent.com/a-/AOh14Gibt5TeymiB1HISp8umASDl5e8Z0WKFiZZfiJER=s64",
      "userId": "14306738336085774049"
     },
     "user_tz": -180
    },
    "id": "EUHRqrPy_EdV",
    "outputId": "84b63967-3764-4c9d-a2fb-de55a07c5133"
   },
   "outputs": [
    {
     "data": {
      "text/plain": [
       "0.026542259424659743"
      ]
     },
     "execution_count": 19,
     "metadata": {},
     "output_type": "execute_result"
    }
   ],
   "source": [
    "taxi_df.pickup_longitude.corr(taxi_df.trip_duration)"
   ]
  },
  {
   "cell_type": "code",
   "execution_count": 20,
   "metadata": {
    "colab": {
     "base_uri": "https://localhost:8080/"
    },
    "executionInfo": {
     "elapsed": 14,
     "status": "ok",
     "timestamp": 1635308066579,
     "user": {
      "displayName": "Nouhaila Bouanane",
      "photoUrl": "https://lh3.googleusercontent.com/a-/AOh14Gibt5TeymiB1HISp8umASDl5e8Z0WKFiZZfiJER=s64",
      "userId": "14306738336085774049"
     },
     "user_tz": -180
    },
    "id": "deIwIOci_GeT",
    "outputId": "b04d3611-0465-4db7-b4e7-4ece0d62bbb5"
   },
   "outputs": [
    {
     "data": {
      "text/plain": [
       "0.020304177490054868"
      ]
     },
     "execution_count": 20,
     "metadata": {},
     "output_type": "execute_result"
    }
   ],
   "source": [
    "taxi_df.vendor_id.corr(taxi_df.trip_duration)"
   ]
  },
  {
   "cell_type": "code",
   "execution_count": 21,
   "metadata": {
    "colab": {
     "base_uri": "https://localhost:8080/",
     "height": 266
    },
    "executionInfo": {
     "elapsed": 380,
     "status": "ok",
     "timestamp": 1635308066948,
     "user": {
      "displayName": "Nouhaila Bouanane",
      "photoUrl": "https://lh3.googleusercontent.com/a-/AOh14Gibt5TeymiB1HISp8umASDl5e8Z0WKFiZZfiJER=s64",
      "userId": "14306738336085774049"
     },
     "user_tz": -180
    },
    "id": "EoB2wqY3_Iq2",
    "outputId": "b408c594-5eb2-4f61-9e69-7e3d7f482279"
   },
   "outputs": [
    {
     "data": {
      "text/html": [
       "<div>\n",
       "<style scoped>\n",
       "    .dataframe tbody tr th:only-of-type {\n",
       "        vertical-align: middle;\n",
       "    }\n",
       "\n",
       "    .dataframe tbody tr th {\n",
       "        vertical-align: top;\n",
       "    }\n",
       "\n",
       "    .dataframe thead th {\n",
       "        text-align: right;\n",
       "    }\n",
       "</style>\n",
       "<table border=\"1\" class=\"dataframe\">\n",
       "  <thead>\n",
       "    <tr style=\"text-align: right;\">\n",
       "      <th></th>\n",
       "      <th>vendor_id</th>\n",
       "      <th>passenger_count</th>\n",
       "      <th>pickup_longitude</th>\n",
       "      <th>pickup_latitude</th>\n",
       "      <th>dropoff_longitude</th>\n",
       "      <th>dropoff_latitude</th>\n",
       "      <th>trip_duration</th>\n",
       "    </tr>\n",
       "  </thead>\n",
       "  <tbody>\n",
       "    <tr>\n",
       "      <th>vendor_id</th>\n",
       "      <td>1.000000</td>\n",
       "      <td>0.287415</td>\n",
       "      <td>0.007820</td>\n",
       "      <td>0.001742</td>\n",
       "      <td>0.001528</td>\n",
       "      <td>0.004496</td>\n",
       "      <td>0.020304</td>\n",
       "    </tr>\n",
       "    <tr>\n",
       "      <th>passenger_count</th>\n",
       "      <td>0.287415</td>\n",
       "      <td>1.000000</td>\n",
       "      <td>0.002169</td>\n",
       "      <td>-0.005125</td>\n",
       "      <td>-0.000343</td>\n",
       "      <td>-0.002762</td>\n",
       "      <td>0.008471</td>\n",
       "    </tr>\n",
       "    <tr>\n",
       "      <th>pickup_longitude</th>\n",
       "      <td>0.007820</td>\n",
       "      <td>0.002169</td>\n",
       "      <td>1.000000</td>\n",
       "      <td>0.022568</td>\n",
       "      <td>0.783582</td>\n",
       "      <td>0.100190</td>\n",
       "      <td>0.026542</td>\n",
       "    </tr>\n",
       "    <tr>\n",
       "      <th>pickup_latitude</th>\n",
       "      <td>0.001742</td>\n",
       "      <td>-0.005125</td>\n",
       "      <td>0.022568</td>\n",
       "      <td>1.000000</td>\n",
       "      <td>0.114884</td>\n",
       "      <td>0.494038</td>\n",
       "      <td>-0.029204</td>\n",
       "    </tr>\n",
       "    <tr>\n",
       "      <th>dropoff_longitude</th>\n",
       "      <td>0.001528</td>\n",
       "      <td>-0.000343</td>\n",
       "      <td>0.783582</td>\n",
       "      <td>0.114884</td>\n",
       "      <td>1.000000</td>\n",
       "      <td>0.124873</td>\n",
       "      <td>0.014678</td>\n",
       "    </tr>\n",
       "    <tr>\n",
       "      <th>dropoff_latitude</th>\n",
       "      <td>0.004496</td>\n",
       "      <td>-0.002762</td>\n",
       "      <td>0.100190</td>\n",
       "      <td>0.494038</td>\n",
       "      <td>0.124873</td>\n",
       "      <td>1.000000</td>\n",
       "      <td>-0.020677</td>\n",
       "    </tr>\n",
       "    <tr>\n",
       "      <th>trip_duration</th>\n",
       "      <td>0.020304</td>\n",
       "      <td>0.008471</td>\n",
       "      <td>0.026542</td>\n",
       "      <td>-0.029204</td>\n",
       "      <td>0.014678</td>\n",
       "      <td>-0.020677</td>\n",
       "      <td>1.000000</td>\n",
       "    </tr>\n",
       "  </tbody>\n",
       "</table>\n",
       "</div>"
      ],
      "text/plain": [
       "                   vendor_id  passenger_count  ...  dropoff_latitude  trip_duration\n",
       "vendor_id           1.000000         0.287415  ...          0.004496       0.020304\n",
       "passenger_count     0.287415         1.000000  ...         -0.002762       0.008471\n",
       "pickup_longitude    0.007820         0.002169  ...          0.100190       0.026542\n",
       "pickup_latitude     0.001742        -0.005125  ...          0.494038      -0.029204\n",
       "dropoff_longitude   0.001528        -0.000343  ...          0.124873       0.014678\n",
       "dropoff_latitude    0.004496        -0.002762  ...          1.000000      -0.020677\n",
       "trip_duration       0.020304         0.008471  ...         -0.020677       1.000000\n",
       "\n",
       "[7 rows x 7 columns]"
      ]
     },
     "execution_count": 21,
     "metadata": {},
     "output_type": "execute_result"
    }
   ],
   "source": [
    "taxi_df.corr()"
   ]
  },
  {
   "cell_type": "code",
   "execution_count": 22,
   "metadata": {
    "colab": {
     "base_uri": "https://localhost:8080/",
     "height": 376
    },
    "executionInfo": {
     "elapsed": 503,
     "status": "ok",
     "timestamp": 1635308067439,
     "user": {
      "displayName": "Nouhaila Bouanane",
      "photoUrl": "https://lh3.googleusercontent.com/a-/AOh14Gibt5TeymiB1HISp8umASDl5e8Z0WKFiZZfiJER=s64",
      "userId": "14306738336085774049"
     },
     "user_tz": -180
    },
    "id": "NafNZJ64_Qce",
    "outputId": "1fab61ad-66ef-42a6-bf79-52dfd675d59c"
   },
   "outputs": [
    {
     "data": {
      "text/plain": [
       "Text(0.5, 1.0, 'Correlation matrix')"
      ]
     },
     "execution_count": 22,
     "metadata": {},
     "output_type": "execute_result"
    },
    {
     "data": {
      "image/png": "[encoded data removed]",
      "text/plain": [
       "<Figure size 432x288 with 2 Axes>"
      ]
     },
     "metadata": {
      "needs_background": "light"
     },
     "output_type": "display_data"
    }
   ],
   "source": [
    "sns.heatmap(taxi_df.corr(),annot=True)\n",
    "plt.title(\"Correlation matrix\")"
   ]
  },
  {
   "cell_type": "markdown",
   "metadata": {
    "id": "vcProe9QEIlZ"
   },
   "source": [
    "**Preprocessing and Feature engineering**"
   ]
  },
  {
   "cell_type": "code",
   "execution_count": 23,
   "metadata": {
    "executionInfo": {
     "elapsed": 18,
     "status": "ok",
     "timestamp": 1635308067444,
     "user": {
      "displayName": "Nouhaila Bouanane",
      "photoUrl": "https://lh3.googleusercontent.com/a-/AOh14Gibt5TeymiB1HISp8umASDl5e8Z0WKFiZZfiJER=s64",
      "userId": "14306738336085774049"
     },
     "user_tz": -180
    },
    "id": "LVB4fhal-q_H"
   },
   "outputs": [],
   "source": [
    "def split_Date(df):\n",
    "  df['pickup_datetime']=pd.to_datetime(df['pickup_datetime'])\n",
    "  df['Year']=df.pickup_datetime.dt.year\n",
    "  df['Month']=df.pickup_datetime.dt.month\n",
    "  df['Day']=df.pickup_datetime.dt.day\n",
    "  df['Hour']=df.pickup_datetime.dt.hour"
   ]
  },
  {
   "cell_type": "code",
   "execution_count": 24,
   "metadata": {
    "executionInfo": {
     "elapsed": 1325,
     "status": "ok",
     "timestamp": 1635308068752,
     "user": {
      "displayName": "Nouhaila Bouanane",
      "photoUrl": "https://lh3.googleusercontent.com/a-/AOh14Gibt5TeymiB1HISp8umASDl5e8Z0WKFiZZfiJER=s64",
      "userId": "14306738336085774049"
     },
     "user_tz": -180
    },
    "id": "MZVqNdIw-vVf"
   },
   "outputs": [],
   "source": [
    "split_Date(taxi_df)\n",
    "split_Date(test_df)"
   ]
  },
  {
   "cell_type": "code",
   "execution_count": 25,
   "metadata": {
    "colab": {
     "base_uri": "https://localhost:8080/"
    },
    "executionInfo": {
     "elapsed": 40,
     "status": "ok",
     "timestamp": 1635308068760,
     "user": {
      "displayName": "Nouhaila Bouanane",
      "photoUrl": "https://lh3.googleusercontent.com/a-/AOh14Gibt5TeymiB1HISp8umASDl5e8Z0WKFiZZfiJER=s64",
      "userId": "14306738336085774049"
     },
     "user_tz": -180
    },
    "id": "PXykV6HT-5GW",
    "outputId": "14234698-4bad-4035-cb9b-ac09d303e49f"
   },
   "outputs": [
    {
     "data": {
      "text/plain": [
       "count    1458644.0\n",
       "mean        2016.0\n",
       "std            0.0\n",
       "min         2016.0\n",
       "25%         2016.0\n",
       "50%         2016.0\n",
       "75%         2016.0\n",
       "max         2016.0\n",
       "Name: Year, dtype: float64"
      ]
     },
     "execution_count": 25,
     "metadata": {},
     "output_type": "execute_result"
    }
   ],
   "source": [
    "taxi_df['Year'].describe()"
   ]
  },
  {
   "cell_type": "code",
   "execution_count": 26,
   "metadata": {
    "colab": {
     "base_uri": "https://localhost:8080/",
     "height": 309
    },
    "executionInfo": {
     "elapsed": 22,
     "status": "ok",
     "timestamp": 1635308068762,
     "user": {
      "displayName": "Nouhaila Bouanane",
      "photoUrl": "https://lh3.googleusercontent.com/a-/AOh14Gibt5TeymiB1HISp8umASDl5e8Z0WKFiZZfiJER=s64",
      "userId": "14306738336085774049"
     },
     "user_tz": -180
    },
    "id": "bacHJNfY_UDr",
    "outputId": "e1910875-350e-4157-98d4-7ab1ccdbc832"
   },
   "outputs": [
    {
     "data": {
      "text/html": [
       "<div>\n",
       "<style scoped>\n",
       "    .dataframe tbody tr th:only-of-type {\n",
       "        vertical-align: middle;\n",
       "    }\n",
       "\n",
       "    .dataframe tbody tr th {\n",
       "        vertical-align: top;\n",
       "    }\n",
       "\n",
       "    .dataframe thead th {\n",
       "        text-align: right;\n",
       "    }\n",
       "</style>\n",
       "<table border=\"1\" class=\"dataframe\">\n",
       "  <thead>\n",
       "    <tr style=\"text-align: right;\">\n",
       "      <th></th>\n",
       "      <th>id</th>\n",
       "      <th>vendor_id</th>\n",
       "      <th>pickup_datetime</th>\n",
       "      <th>dropoff_datetime</th>\n",
       "      <th>passenger_count</th>\n",
       "      <th>pickup_longitude</th>\n",
       "      <th>pickup_latitude</th>\n",
       "      <th>dropoff_longitude</th>\n",
       "      <th>dropoff_latitude</th>\n",
       "      <th>store_and_fwd_flag</th>\n",
       "      <th>trip_duration</th>\n",
       "      <th>Year</th>\n",
       "      <th>Month</th>\n",
       "      <th>Day</th>\n",
       "      <th>Hour</th>\n",
       "    </tr>\n",
       "  </thead>\n",
       "  <tbody>\n",
       "    <tr>\n",
       "      <th>0</th>\n",
       "      <td>id2875421</td>\n",
       "      <td>2</td>\n",
       "      <td>2016-03-14 17:24:55</td>\n",
       "      <td>2016-03-14 17:32:30</td>\n",
       "      <td>1</td>\n",
       "      <td>-73.982155</td>\n",
       "      <td>40.767937</td>\n",
       "      <td>-73.964630</td>\n",
       "      <td>40.765602</td>\n",
       "      <td>N</td>\n",
       "      <td>455</td>\n",
       "      <td>2016</td>\n",
       "      <td>3</td>\n",
       "      <td>14</td>\n",
       "      <td>17</td>\n",
       "    </tr>\n",
       "    <tr>\n",
       "      <th>1</th>\n",
       "      <td>id2377394</td>\n",
       "      <td>1</td>\n",
       "      <td>2016-06-12 00:43:35</td>\n",
       "      <td>2016-06-12 00:54:38</td>\n",
       "      <td>1</td>\n",
       "      <td>-73.980415</td>\n",
       "      <td>40.738564</td>\n",
       "      <td>-73.999481</td>\n",
       "      <td>40.731152</td>\n",
       "      <td>N</td>\n",
       "      <td>663</td>\n",
       "      <td>2016</td>\n",
       "      <td>6</td>\n",
       "      <td>12</td>\n",
       "      <td>0</td>\n",
       "    </tr>\n",
       "    <tr>\n",
       "      <th>2</th>\n",
       "      <td>id3858529</td>\n",
       "      <td>2</td>\n",
       "      <td>2016-01-19 11:35:24</td>\n",
       "      <td>2016-01-19 12:10:48</td>\n",
       "      <td>1</td>\n",
       "      <td>-73.979027</td>\n",
       "      <td>40.763939</td>\n",
       "      <td>-74.005333</td>\n",
       "      <td>40.710087</td>\n",
       "      <td>N</td>\n",
       "      <td>2124</td>\n",
       "      <td>2016</td>\n",
       "      <td>1</td>\n",
       "      <td>19</td>\n",
       "      <td>11</td>\n",
       "    </tr>\n",
       "    <tr>\n",
       "      <th>3</th>\n",
       "      <td>id3504673</td>\n",
       "      <td>2</td>\n",
       "      <td>2016-04-06 19:32:31</td>\n",
       "      <td>2016-04-06 19:39:40</td>\n",
       "      <td>1</td>\n",
       "      <td>-74.010040</td>\n",
       "      <td>40.719971</td>\n",
       "      <td>-74.012268</td>\n",
       "      <td>40.706718</td>\n",
       "      <td>N</td>\n",
       "      <td>429</td>\n",
       "      <td>2016</td>\n",
       "      <td>4</td>\n",
       "      <td>6</td>\n",
       "      <td>19</td>\n",
       "    </tr>\n",
       "    <tr>\n",
       "      <th>4</th>\n",
       "      <td>id2181028</td>\n",
       "      <td>2</td>\n",
       "      <td>2016-03-26 13:30:55</td>\n",
       "      <td>2016-03-26 13:38:10</td>\n",
       "      <td>1</td>\n",
       "      <td>-73.973053</td>\n",
       "      <td>40.793209</td>\n",
       "      <td>-73.972923</td>\n",
       "      <td>40.782520</td>\n",
       "      <td>N</td>\n",
       "      <td>435</td>\n",
       "      <td>2016</td>\n",
       "      <td>3</td>\n",
       "      <td>26</td>\n",
       "      <td>13</td>\n",
       "    </tr>\n",
       "  </tbody>\n",
       "</table>\n",
       "</div>"
      ],
      "text/plain": [
       "          id  vendor_id     pickup_datetime  ... Month  Day  Hour\n",
       "0  id2875421          2 2016-03-14 17:24:55  ...     3   14    17\n",
       "1  id2377394          1 2016-06-12 00:43:35  ...     6   12     0\n",
       "2  id3858529          2 2016-01-19 11:35:24  ...     1   19    11\n",
       "3  id3504673          2 2016-04-06 19:32:31  ...     4    6    19\n",
       "4  id2181028          2 2016-03-26 13:30:55  ...     3   26    13\n",
       "\n",
       "[5 rows x 15 columns]"
      ]
     },
     "execution_count": 26,
     "metadata": {},
     "output_type": "execute_result"
    }
   ],
   "source": [
    "taxi_df.head()"
   ]
  },
  {
   "cell_type": "markdown",
   "metadata": {
    "id": "oJq0X6Zs_Zx1"
   },
   "source": [
    "**Identify Inputs and Targets**"
   ]
  },
  {
   "cell_type": "code",
   "execution_count": 27,
   "metadata": {
    "executionInfo": {
     "elapsed": 20,
     "status": "ok",
     "timestamp": 1635308068764,
     "user": {
      "displayName": "Nouhaila Bouanane",
      "photoUrl": "https://lh3.googleusercontent.com/a-/AOh14Gibt5TeymiB1HISp8umASDl5e8Z0WKFiZZfiJER=s64",
      "userId": "14306738336085774049"
     },
     "user_tz": -180
    },
    "id": "FixjfK3I_cOW"
   },
   "outputs": [],
   "source": [
    "input_cols=['pickup_longitude','pickup_latitude','dropoff_longitude','dropoff_latitude','store_and_fwd_flag','Month','Day','Hour']"
   ]
  },
  {
   "cell_type": "code",
   "execution_count": 28,
   "metadata": {
    "executionInfo": {
     "elapsed": 17,
     "status": "ok",
     "timestamp": 1635308068764,
     "user": {
      "displayName": "Nouhaila Bouanane",
      "photoUrl": "https://lh3.googleusercontent.com/a-/AOh14Gibt5TeymiB1HISp8umASDl5e8Z0WKFiZZfiJER=s64",
      "userId": "14306738336085774049"
     },
     "user_tz": -180
    },
    "id": "LSJzWVpM_gXC"
   },
   "outputs": [],
   "source": [
    "target_col=['trip_duration']"
   ]
  },
  {
   "cell_type": "code",
   "execution_count": 29,
   "metadata": {
    "executionInfo": {
     "elapsed": 358,
     "status": "ok",
     "timestamp": 1635308069107,
     "user": {
      "displayName": "Nouhaila Bouanane",
      "photoUrl": "https://lh3.googleusercontent.com/a-/AOh14Gibt5TeymiB1HISp8umASDl5e8Z0WKFiZZfiJER=s64",
      "userId": "14306738336085774049"
     },
     "user_tz": -180
    },
    "id": "w8EbnrOi_lOh"
   },
   "outputs": [],
   "source": [
    "inputs=taxi_df[input_cols].copy()\n",
    "targets=taxi_df[target_col].copy()"
   ]
  },
  {
   "cell_type": "code",
   "execution_count": 30,
   "metadata": {
    "executionInfo": {
     "elapsed": 7,
     "status": "ok",
     "timestamp": 1635308069108,
     "user": {
      "displayName": "Nouhaila Bouanane",
      "photoUrl": "https://lh3.googleusercontent.com/a-/AOh14Gibt5TeymiB1HISp8umASDl5e8Z0WKFiZZfiJER=s64",
      "userId": "14306738336085774049"
     },
     "user_tz": -180
    },
    "id": "mq-0RAqq_oVM"
   },
   "outputs": [],
   "source": [
    "inputs_test=test_df[input_cols].copy()"
   ]
  },
  {
   "cell_type": "markdown",
   "metadata": {
    "id": "Z7hENgqx_tL2"
   },
   "source": [
    "**Identify numeric and categorical columns**"
   ]
  },
  {
   "cell_type": "code",
   "execution_count": 31,
   "metadata": {
    "colab": {
     "base_uri": "https://localhost:8080/"
    },
    "executionInfo": {
     "elapsed": 375,
     "status": "ok",
     "timestamp": 1635308069477,
     "user": {
      "displayName": "Nouhaila Bouanane",
      "photoUrl": "https://lh3.googleusercontent.com/a-/AOh14Gibt5TeymiB1HISp8umASDl5e8Z0WKFiZZfiJER=s64",
      "userId": "14306738336085774049"
     },
     "user_tz": -180
    },
    "id": "_SmZ-Bwa_pzg",
    "outputId": "acf42b76-407d-4b80-e3d1-a7ea3de83e6e"
   },
   "outputs": [
    {
     "name": "stdout",
     "output_type": "stream",
     "text": [
      "<class 'pandas.core.frame.DataFrame'>\n",
      "RangeIndex: 1458644 entries, 0 to 1458643\n",
      "Data columns (total 15 columns):\n",
      " #   Column              Non-Null Count    Dtype         \n",
      "---  ------              --------------    -----         \n",
      " 0   id                  1458644 non-null  object        \n",
      " 1   vendor_id           1458644 non-null  int64         \n",
      " 2   pickup_datetime     1458644 non-null  datetime64[ns]\n",
      " 3   dropoff_datetime    1458644 non-null  object        \n",
      " 4   passenger_count     1458644 non-null  int64         \n",
      " 5   pickup_longitude    1458644 non-null  float64       \n",
      " 6   pickup_latitude     1458644 non-null  float64       \n",
      " 7   dropoff_longitude   1458644 non-null  float64       \n",
      " 8   dropoff_latitude    1458644 non-null  float64       \n",
      " 9   store_and_fwd_flag  1458644 non-null  object        \n",
      " 10  trip_duration       1458644 non-null  int64         \n",
      " 11  Year                1458644 non-null  int64         \n",
      " 12  Month               1458644 non-null  int64         \n",
      " 13  Day                 1458644 non-null  int64         \n",
      " 14  Hour                1458644 non-null  int64         \n",
      "dtypes: datetime64[ns](1), float64(4), int64(7), object(3)\n",
      "memory usage: 166.9+ MB\n"
     ]
    }
   ],
   "source": [
    "taxi_df.info()"
   ]
  },
  {
   "cell_type": "code",
   "execution_count": 32,
   "metadata": {
    "executionInfo": {
     "elapsed": 29,
     "status": "ok",
     "timestamp": 1635308069479,
     "user": {
      "displayName": "Nouhaila Bouanane",
      "photoUrl": "https://lh3.googleusercontent.com/a-/AOh14Gibt5TeymiB1HISp8umASDl5e8Z0WKFiZZfiJER=s64",
      "userId": "14306738336085774049"
     },
     "user_tz": -180
    },
    "id": "TwwJUavG_zOS"
   },
   "outputs": [],
   "source": [
    "categorical_cols=taxi_df.select_dtypes('object').columns.tolist()"
   ]
  },
  {
   "cell_type": "code",
   "execution_count": 33,
   "metadata": {
    "colab": {
     "base_uri": "https://localhost:8080/"
    },
    "executionInfo": {
     "elapsed": 29,
     "status": "ok",
     "timestamp": 1635308069484,
     "user": {
      "displayName": "Nouhaila Bouanane",
      "photoUrl": "https://lh3.googleusercontent.com/a-/AOh14Gibt5TeymiB1HISp8umASDl5e8Z0WKFiZZfiJER=s64",
      "userId": "14306738336085774049"
     },
     "user_tz": -180
    },
    "id": "Fqo284VD_140",
    "outputId": "d54da7e2-85f0-47b2-c511-c6c5e0b28d12"
   },
   "outputs": [
    {
     "data": {
      "text/plain": [
       "['id', 'dropoff_datetime', 'store_and_fwd_flag']"
      ]
     },
     "execution_count": 33,
     "metadata": {},
     "output_type": "execute_result"
    }
   ],
   "source": [
    "categorical_cols"
   ]
  },
  {
   "cell_type": "code",
   "execution_count": 34,
   "metadata": {
    "executionInfo": {
     "elapsed": 21,
     "status": "ok",
     "timestamp": 1635308069485,
     "user": {
      "displayName": "Nouhaila Bouanane",
      "photoUrl": "https://lh3.googleusercontent.com/a-/AOh14Gibt5TeymiB1HISp8umASDl5e8Z0WKFiZZfiJER=s64",
      "userId": "14306738336085774049"
     },
     "user_tz": -180
    },
    "id": "fI_ZAFpB_4se"
   },
   "outputs": [],
   "source": [
    "numeric_cols=taxi_df.select_dtypes(include=['int64','float64'])"
   ]
  },
  {
   "cell_type": "code",
   "execution_count": 35,
   "metadata": {
    "colab": {
     "base_uri": "https://localhost:8080/",
     "height": 419
    },
    "executionInfo": {
     "elapsed": 287,
     "status": "ok",
     "timestamp": 1635308069752,
     "user": {
      "displayName": "Nouhaila Bouanane",
      "photoUrl": "https://lh3.googleusercontent.com/a-/AOh14Gibt5TeymiB1HISp8umASDl5e8Z0WKFiZZfiJER=s64",
      "userId": "14306738336085774049"
     },
     "user_tz": -180
    },
    "id": "cIktN4GU_6-J",
    "outputId": "ae33fc36-db1b-4ab5-9434-3abe498ed2df"
   },
   "outputs": [
    {
     "data": {
      "text/html": [
       "<div>\n",
       "<style scoped>\n",
       "    .dataframe tbody tr th:only-of-type {\n",
       "        vertical-align: middle;\n",
       "    }\n",
       "\n",
       "    .dataframe tbody tr th {\n",
       "        vertical-align: top;\n",
       "    }\n",
       "\n",
       "    .dataframe thead th {\n",
       "        text-align: right;\n",
       "    }\n",
       "</style>\n",
       "<table border=\"1\" class=\"dataframe\">\n",
       "  <thead>\n",
       "    <tr style=\"text-align: right;\">\n",
       "      <th></th>\n",
       "      <th>vendor_id</th>\n",
       "      <th>passenger_count</th>\n",
       "      <th>pickup_longitude</th>\n",
       "      <th>pickup_latitude</th>\n",
       "      <th>dropoff_longitude</th>\n",
       "      <th>dropoff_latitude</th>\n",
       "      <th>trip_duration</th>\n",
       "      <th>Year</th>\n",
       "      <th>Month</th>\n",
       "      <th>Day</th>\n",
       "      <th>Hour</th>\n",
       "    </tr>\n",
       "  </thead>\n",
       "  <tbody>\n",
       "    <tr>\n",
       "      <th>0</th>\n",
       "      <td>2</td>\n",
       "      <td>1</td>\n",
       "      <td>-73.982155</td>\n",
       "      <td>40.767937</td>\n",
       "      <td>-73.964630</td>\n",
       "      <td>40.765602</td>\n",
       "      <td>455</td>\n",
       "      <td>2016</td>\n",
       "      <td>3</td>\n",
       "      <td>14</td>\n",
       "      <td>17</td>\n",
       "    </tr>\n",
       "    <tr>\n",
       "      <th>1</th>\n",
       "      <td>1</td>\n",
       "      <td>1</td>\n",
       "      <td>-73.980415</td>\n",
       "      <td>40.738564</td>\n",
       "      <td>-73.999481</td>\n",
       "      <td>40.731152</td>\n",
       "      <td>663</td>\n",
       "      <td>2016</td>\n",
       "      <td>6</td>\n",
       "      <td>12</td>\n",
       "      <td>0</td>\n",
       "    </tr>\n",
       "    <tr>\n",
       "      <th>2</th>\n",
       "      <td>2</td>\n",
       "      <td>1</td>\n",
       "      <td>-73.979027</td>\n",
       "      <td>40.763939</td>\n",
       "      <td>-74.005333</td>\n",
       "      <td>40.710087</td>\n",
       "      <td>2124</td>\n",
       "      <td>2016</td>\n",
       "      <td>1</td>\n",
       "      <td>19</td>\n",
       "      <td>11</td>\n",
       "    </tr>\n",
       "    <tr>\n",
       "      <th>3</th>\n",
       "      <td>2</td>\n",
       "      <td>1</td>\n",
       "      <td>-74.010040</td>\n",
       "      <td>40.719971</td>\n",
       "      <td>-74.012268</td>\n",
       "      <td>40.706718</td>\n",
       "      <td>429</td>\n",
       "      <td>2016</td>\n",
       "      <td>4</td>\n",
       "      <td>6</td>\n",
       "      <td>19</td>\n",
       "    </tr>\n",
       "    <tr>\n",
       "      <th>4</th>\n",
       "      <td>2</td>\n",
       "      <td>1</td>\n",
       "      <td>-73.973053</td>\n",
       "      <td>40.793209</td>\n",
       "      <td>-73.972923</td>\n",
       "      <td>40.782520</td>\n",
       "      <td>435</td>\n",
       "      <td>2016</td>\n",
       "      <td>3</td>\n",
       "      <td>26</td>\n",
       "      <td>13</td>\n",
       "    </tr>\n",
       "    <tr>\n",
       "      <th>...</th>\n",
       "      <td>...</td>\n",
       "      <td>...</td>\n",
       "      <td>...</td>\n",
       "      <td>...</td>\n",
       "      <td>...</td>\n",
       "      <td>...</td>\n",
       "      <td>...</td>\n",
       "      <td>...</td>\n",
       "      <td>...</td>\n",
       "      <td>...</td>\n",
       "      <td>...</td>\n",
       "    </tr>\n",
       "    <tr>\n",
       "      <th>1458639</th>\n",
       "      <td>2</td>\n",
       "      <td>4</td>\n",
       "      <td>-73.982201</td>\n",
       "      <td>40.745522</td>\n",
       "      <td>-73.994911</td>\n",
       "      <td>40.740170</td>\n",
       "      <td>778</td>\n",
       "      <td>2016</td>\n",
       "      <td>4</td>\n",
       "      <td>8</td>\n",
       "      <td>13</td>\n",
       "    </tr>\n",
       "    <tr>\n",
       "      <th>1458640</th>\n",
       "      <td>1</td>\n",
       "      <td>1</td>\n",
       "      <td>-74.000946</td>\n",
       "      <td>40.747379</td>\n",
       "      <td>-73.970184</td>\n",
       "      <td>40.796547</td>\n",
       "      <td>655</td>\n",
       "      <td>2016</td>\n",
       "      <td>1</td>\n",
       "      <td>10</td>\n",
       "      <td>7</td>\n",
       "    </tr>\n",
       "    <tr>\n",
       "      <th>1458641</th>\n",
       "      <td>2</td>\n",
       "      <td>1</td>\n",
       "      <td>-73.959129</td>\n",
       "      <td>40.768799</td>\n",
       "      <td>-74.004433</td>\n",
       "      <td>40.707371</td>\n",
       "      <td>764</td>\n",
       "      <td>2016</td>\n",
       "      <td>4</td>\n",
       "      <td>22</td>\n",
       "      <td>6</td>\n",
       "    </tr>\n",
       "    <tr>\n",
       "      <th>1458642</th>\n",
       "      <td>1</td>\n",
       "      <td>1</td>\n",
       "      <td>-73.982079</td>\n",
       "      <td>40.749062</td>\n",
       "      <td>-73.974632</td>\n",
       "      <td>40.757107</td>\n",
       "      <td>373</td>\n",
       "      <td>2016</td>\n",
       "      <td>1</td>\n",
       "      <td>5</td>\n",
       "      <td>15</td>\n",
       "    </tr>\n",
       "    <tr>\n",
       "      <th>1458643</th>\n",
       "      <td>1</td>\n",
       "      <td>1</td>\n",
       "      <td>-73.979538</td>\n",
       "      <td>40.781750</td>\n",
       "      <td>-73.972809</td>\n",
       "      <td>40.790585</td>\n",
       "      <td>198</td>\n",
       "      <td>2016</td>\n",
       "      <td>4</td>\n",
       "      <td>5</td>\n",
       "      <td>14</td>\n",
       "    </tr>\n",
       "  </tbody>\n",
       "</table>\n",
       "<p>1458644 rows × 11 columns</p>\n",
       "</div>"
      ],
      "text/plain": [
       "         vendor_id  passenger_count  pickup_longitude  ...  Month  Day  Hour\n",
       "0                2                1        -73.982155  ...      3   14    17\n",
       "1                1                1        -73.980415  ...      6   12     0\n",
       "2                2                1        -73.979027  ...      1   19    11\n",
       "3                2                1        -74.010040  ...      4    6    19\n",
       "4                2                1        -73.973053  ...      3   26    13\n",
       "...            ...              ...               ...  ...    ...  ...   ...\n",
       "1458639          2                4        -73.982201  ...      4    8    13\n",
       "1458640          1                1        -74.000946  ...      1   10     7\n",
       "1458641          2                1        -73.959129  ...      4   22     6\n",
       "1458642          1                1        -73.982079  ...      1    5    15\n",
       "1458643          1                1        -73.979538  ...      4    5    14\n",
       "\n",
       "[1458644 rows x 11 columns]"
      ]
     },
     "execution_count": 35,
     "metadata": {},
     "output_type": "execute_result"
    }
   ],
   "source": [
    "numeric_cols"
   ]
  },
  {
   "cell_type": "code",
   "execution_count": 36,
   "metadata": {
    "executionInfo": {
     "elapsed": 25,
     "status": "ok",
     "timestamp": 1635308069754,
     "user": {
      "displayName": "Nouhaila Bouanane",
      "photoUrl": "https://lh3.googleusercontent.com/a-/AOh14Gibt5TeymiB1HISp8umASDl5e8Z0WKFiZZfiJER=s64",
      "userId": "14306738336085774049"
     },
     "user_tz": -180
    },
    "id": "op60wWDU_-Jd"
   },
   "outputs": [],
   "source": [
    "my_numerical_cols=['pickup_longitude','pickup_latitude','dropoff_longitude','dropoff_latitude','Month','Day','Hour']\n",
    "my_categorical_col=['store_and_fwd_flag']"
   ]
  },
  {
   "cell_type": "markdown",
   "metadata": {
    "id": "ZtmW-WchACt3"
   },
   "source": [
    "**impute Numerical data**"
   ]
  },
  {
   "cell_type": "code",
   "execution_count": 37,
   "metadata": {
    "colab": {
     "base_uri": "https://localhost:8080/"
    },
    "executionInfo": {
     "elapsed": 24,
     "status": "ok",
     "timestamp": 1635308069755,
     "user": {
      "displayName": "Nouhaila Bouanane",
      "photoUrl": "https://lh3.googleusercontent.com/a-/AOh14Gibt5TeymiB1HISp8umASDl5e8Z0WKFiZZfiJER=s64",
      "userId": "14306738336085774049"
     },
     "user_tz": -180
    },
    "id": "4w9VUbl0AEpl",
    "outputId": "859c86aa-e5a5-408f-9c1a-a0f70f204183"
   },
   "outputs": [
    {
     "data": {
      "text/plain": [
       "id                    0\n",
       "vendor_id             0\n",
       "pickup_datetime       0\n",
       "dropoff_datetime      0\n",
       "passenger_count       0\n",
       "pickup_longitude      0\n",
       "pickup_latitude       0\n",
       "dropoff_longitude     0\n",
       "dropoff_latitude      0\n",
       "store_and_fwd_flag    0\n",
       "trip_duration         0\n",
       "Year                  0\n",
       "Month                 0\n",
       "Day                   0\n",
       "Hour                  0\n",
       "dtype: int64"
      ]
     },
     "execution_count": 37,
     "metadata": {},
     "output_type": "execute_result"
    }
   ],
   "source": [
    "taxi_df.isna().sum()"
   ]
  },
  {
   "cell_type": "markdown",
   "metadata": {
    "id": "xsapSiOmAM4j"
   },
   "source": [
    "**There is no imputation because there isn't null values**"
   ]
  },
  {
   "cell_type": "code",
   "execution_count": 38,
   "metadata": {
    "executionInfo": {
     "elapsed": 304,
     "status": "ok",
     "timestamp": 1635308070048,
     "user": {
      "displayName": "Nouhaila Bouanane",
      "photoUrl": "https://lh3.googleusercontent.com/a-/AOh14Gibt5TeymiB1HISp8umASDl5e8Z0WKFiZZfiJER=s64",
      "userId": "14306738336085774049"
     },
     "user_tz": -180
    },
    "id": "FGOdzdtkANxK"
   },
   "outputs": [],
   "source": [
    "from sklearn.preprocessing import MinMaxScaler"
   ]
  },
  {
   "cell_type": "code",
   "execution_count": 39,
   "metadata": {
    "executionInfo": {
     "elapsed": 4,
     "status": "ok",
     "timestamp": 1635308070048,
     "user": {
      "displayName": "Nouhaila Bouanane",
      "photoUrl": "https://lh3.googleusercontent.com/a-/AOh14Gibt5TeymiB1HISp8umASDl5e8Z0WKFiZZfiJER=s64",
      "userId": "14306738336085774049"
     },
     "user_tz": -180
    },
    "id": "0cxBXSrCARqH"
   },
   "outputs": [],
   "source": [
    "scaler=MinMaxScaler().fit(inputs[my_numerical_cols])"
   ]
  },
  {
   "cell_type": "code",
   "execution_count": 40,
   "metadata": {
    "executionInfo": {
     "elapsed": 2504,
     "status": "ok",
     "timestamp": 1635308072548,
     "user": {
      "displayName": "Nouhaila Bouanane",
      "photoUrl": "https://lh3.googleusercontent.com/a-/AOh14Gibt5TeymiB1HISp8umASDl5e8Z0WKFiZZfiJER=s64",
      "userId": "14306738336085774049"
     },
     "user_tz": -180
    },
    "id": "tD__9mTwAUwj"
   },
   "outputs": [],
   "source": [
    "inputs[my_numerical_cols]=scaler.transform(inputs[my_numerical_cols])\n",
    "inputs_test[my_numerical_cols]=scaler.transform(inputs_test[my_numerical_cols])"
   ]
  },
  {
   "cell_type": "code",
   "execution_count": 41,
   "metadata": {
    "colab": {
     "base_uri": "https://localhost:8080/",
     "height": 419
    },
    "executionInfo": {
     "elapsed": 25,
     "status": "ok",
     "timestamp": 1635308072553,
     "user": {
      "displayName": "Nouhaila Bouanane",
      "photoUrl": "https://lh3.googleusercontent.com/a-/AOh14Gibt5TeymiB1HISp8umASDl5e8Z0WKFiZZfiJER=s64",
      "userId": "14306738336085774049"
     },
     "user_tz": -180
    },
    "id": "byq2dbGWAXSh",
    "outputId": "aaead443-6d85-437d-b8d2-5d5d94c7c631"
   },
   "outputs": [
    {
     "data": {
      "text/html": [
       "<div>\n",
       "<style scoped>\n",
       "    .dataframe tbody tr th:only-of-type {\n",
       "        vertical-align: middle;\n",
       "    }\n",
       "\n",
       "    .dataframe tbody tr th {\n",
       "        vertical-align: top;\n",
       "    }\n",
       "\n",
       "    .dataframe thead th {\n",
       "        text-align: right;\n",
       "    }\n",
       "</style>\n",
       "<table border=\"1\" class=\"dataframe\">\n",
       "  <thead>\n",
       "    <tr style=\"text-align: right;\">\n",
       "      <th></th>\n",
       "      <th>pickup_longitude</th>\n",
       "      <th>pickup_latitude</th>\n",
       "      <th>dropoff_longitude</th>\n",
       "      <th>dropoff_latitude</th>\n",
       "      <th>Month</th>\n",
       "      <th>Day</th>\n",
       "      <th>Hour</th>\n",
       "    </tr>\n",
       "  </thead>\n",
       "  <tbody>\n",
       "    <tr>\n",
       "      <th>0</th>\n",
       "      <td>0.791302</td>\n",
       "      <td>0.365738</td>\n",
       "      <td>0.791591</td>\n",
       "      <td>0.731222</td>\n",
       "      <td>0.4</td>\n",
       "      <td>0.433333</td>\n",
       "      <td>0.739130</td>\n",
       "    </tr>\n",
       "    <tr>\n",
       "      <th>1</th>\n",
       "      <td>0.791331</td>\n",
       "      <td>0.364062</td>\n",
       "      <td>0.791016</td>\n",
       "      <td>0.728287</td>\n",
       "      <td>1.0</td>\n",
       "      <td>0.366667</td>\n",
       "      <td>0.000000</td>\n",
       "    </tr>\n",
       "    <tr>\n",
       "      <th>2</th>\n",
       "      <td>0.791354</td>\n",
       "      <td>0.365510</td>\n",
       "      <td>0.790920</td>\n",
       "      <td>0.726493</td>\n",
       "      <td>0.0</td>\n",
       "      <td>0.600000</td>\n",
       "      <td>0.478261</td>\n",
       "    </tr>\n",
       "    <tr>\n",
       "      <th>3</th>\n",
       "      <td>0.790842</td>\n",
       "      <td>0.363001</td>\n",
       "      <td>0.790805</td>\n",
       "      <td>0.726206</td>\n",
       "      <td>0.6</td>\n",
       "      <td>0.166667</td>\n",
       "      <td>0.826087</td>\n",
       "    </tr>\n",
       "    <tr>\n",
       "      <th>4</th>\n",
       "      <td>0.791452</td>\n",
       "      <td>0.367181</td>\n",
       "      <td>0.791454</td>\n",
       "      <td>0.732663</td>\n",
       "      <td>0.4</td>\n",
       "      <td>0.833333</td>\n",
       "      <td>0.565217</td>\n",
       "    </tr>\n",
       "    <tr>\n",
       "      <th>...</th>\n",
       "      <td>...</td>\n",
       "      <td>...</td>\n",
       "      <td>...</td>\n",
       "      <td>...</td>\n",
       "      <td>...</td>\n",
       "      <td>...</td>\n",
       "      <td>...</td>\n",
       "    </tr>\n",
       "    <tr>\n",
       "      <th>1458639</th>\n",
       "      <td>0.791302</td>\n",
       "      <td>0.364459</td>\n",
       "      <td>0.791092</td>\n",
       "      <td>0.729055</td>\n",
       "      <td>0.6</td>\n",
       "      <td>0.233333</td>\n",
       "      <td>0.565217</td>\n",
       "    </tr>\n",
       "    <tr>\n",
       "      <th>1458640</th>\n",
       "      <td>0.790992</td>\n",
       "      <td>0.364565</td>\n",
       "      <td>0.791500</td>\n",
       "      <td>0.733858</td>\n",
       "      <td>0.0</td>\n",
       "      <td>0.300000</td>\n",
       "      <td>0.304348</td>\n",
       "    </tr>\n",
       "    <tr>\n",
       "      <th>1458641</th>\n",
       "      <td>0.791682</td>\n",
       "      <td>0.365787</td>\n",
       "      <td>0.790935</td>\n",
       "      <td>0.726262</td>\n",
       "      <td>0.6</td>\n",
       "      <td>0.700000</td>\n",
       "      <td>0.260870</td>\n",
       "    </tr>\n",
       "    <tr>\n",
       "      <th>1458642</th>\n",
       "      <td>0.791304</td>\n",
       "      <td>0.364661</td>\n",
       "      <td>0.791426</td>\n",
       "      <td>0.730498</td>\n",
       "      <td>0.0</td>\n",
       "      <td>0.133333</td>\n",
       "      <td>0.652174</td>\n",
       "    </tr>\n",
       "    <tr>\n",
       "      <th>1458643</th>\n",
       "      <td>0.791345</td>\n",
       "      <td>0.366527</td>\n",
       "      <td>0.791456</td>\n",
       "      <td>0.733350</td>\n",
       "      <td>0.6</td>\n",
       "      <td>0.133333</td>\n",
       "      <td>0.608696</td>\n",
       "    </tr>\n",
       "  </tbody>\n",
       "</table>\n",
       "<p>1458644 rows × 7 columns</p>\n",
       "</div>"
      ],
      "text/plain": [
       "         pickup_longitude  pickup_latitude  ...       Day      Hour\n",
       "0                0.791302         0.365738  ...  0.433333  0.739130\n",
       "1                0.791331         0.364062  ...  0.366667  0.000000\n",
       "2                0.791354         0.365510  ...  0.600000  0.478261\n",
       "3                0.790842         0.363001  ...  0.166667  0.826087\n",
       "4                0.791452         0.367181  ...  0.833333  0.565217\n",
       "...                   ...              ...  ...       ...       ...\n",
       "1458639          0.791302         0.364459  ...  0.233333  0.565217\n",
       "1458640          0.790992         0.364565  ...  0.300000  0.304348\n",
       "1458641          0.791682         0.365787  ...  0.700000  0.260870\n",
       "1458642          0.791304         0.364661  ...  0.133333  0.652174\n",
       "1458643          0.791345         0.366527  ...  0.133333  0.608696\n",
       "\n",
       "[1458644 rows x 7 columns]"
      ]
     },
     "execution_count": 41,
     "metadata": {},
     "output_type": "execute_result"
    }
   ],
   "source": [
    "inputs[my_numerical_cols]"
   ]
  },
  {
   "cell_type": "code",
   "execution_count": 42,
   "metadata": {
    "colab": {
     "base_uri": "https://localhost:8080/",
     "height": 111
    },
    "executionInfo": {
     "elapsed": 400,
     "status": "ok",
     "timestamp": 1635308072934,
     "user": {
      "displayName": "Nouhaila Bouanane",
      "photoUrl": "https://lh3.googleusercontent.com/a-/AOh14Gibt5TeymiB1HISp8umASDl5e8Z0WKFiZZfiJER=s64",
      "userId": "14306738336085774049"
     },
     "user_tz": -180
    },
    "id": "cSaU9PgRAalx",
    "outputId": "eee34d0d-057b-4327-fcb3-119d3052ae8f"
   },
   "outputs": [
    {
     "data": {
      "text/html": [
       "<div>\n",
       "<style scoped>\n",
       "    .dataframe tbody tr th:only-of-type {\n",
       "        vertical-align: middle;\n",
       "    }\n",
       "\n",
       "    .dataframe tbody tr th {\n",
       "        vertical-align: top;\n",
       "    }\n",
       "\n",
       "    .dataframe thead th {\n",
       "        text-align: right;\n",
       "    }\n",
       "</style>\n",
       "<table border=\"1\" class=\"dataframe\">\n",
       "  <thead>\n",
       "    <tr style=\"text-align: right;\">\n",
       "      <th></th>\n",
       "      <th>pickup_longitude</th>\n",
       "      <th>pickup_latitude</th>\n",
       "      <th>dropoff_longitude</th>\n",
       "      <th>dropoff_latitude</th>\n",
       "      <th>Month</th>\n",
       "      <th>Day</th>\n",
       "      <th>Hour</th>\n",
       "    </tr>\n",
       "  </thead>\n",
       "  <tbody>\n",
       "    <tr>\n",
       "      <th>min</th>\n",
       "      <td>0.0</td>\n",
       "      <td>0.0</td>\n",
       "      <td>0.0</td>\n",
       "      <td>0.0</td>\n",
       "      <td>0.0</td>\n",
       "      <td>0.0</td>\n",
       "      <td>0.0</td>\n",
       "    </tr>\n",
       "    <tr>\n",
       "      <th>max</th>\n",
       "      <td>1.0</td>\n",
       "      <td>1.0</td>\n",
       "      <td>1.0</td>\n",
       "      <td>1.0</td>\n",
       "      <td>1.0</td>\n",
       "      <td>1.0</td>\n",
       "      <td>1.0</td>\n",
       "    </tr>\n",
       "  </tbody>\n",
       "</table>\n",
       "</div>"
      ],
      "text/plain": [
       "     pickup_longitude  pickup_latitude  dropoff_longitude  ...  Month  Day  Hour\n",
       "min               0.0              0.0                0.0  ...    0.0  0.0   0.0\n",
       "max               1.0              1.0                1.0  ...    1.0  1.0   1.0\n",
       "\n",
       "[2 rows x 7 columns]"
      ]
     },
     "execution_count": 42,
     "metadata": {},
     "output_type": "execute_result"
    }
   ],
   "source": [
    "inputs[my_numerical_cols].describe().loc[['min', 'max']]"
   ]
  },
  {
   "cell_type": "markdown",
   "metadata": {
    "id": "fobirEBTAdin"
   },
   "source": [
    "**Encode Categorical Value**"
   ]
  },
  {
   "cell_type": "code",
   "execution_count": 43,
   "metadata": {
    "executionInfo": {
     "elapsed": 5,
     "status": "ok",
     "timestamp": 1635308072935,
     "user": {
      "displayName": "Nouhaila Bouanane",
      "photoUrl": "https://lh3.googleusercontent.com/a-/AOh14Gibt5TeymiB1HISp8umASDl5e8Z0WKFiZZfiJER=s64",
      "userId": "14306738336085774049"
     },
     "user_tz": -180
    },
    "id": "P_VRDVRdAeeJ"
   },
   "outputs": [],
   "source": [
    "from sklearn.preprocessing import OneHotEncoder"
   ]
  },
  {
   "cell_type": "code",
   "execution_count": 44,
   "metadata": {
    "executionInfo": {
     "elapsed": 304,
     "status": "ok",
     "timestamp": 1635308073234,
     "user": {
      "displayName": "Nouhaila Bouanane",
      "photoUrl": "https://lh3.googleusercontent.com/a-/AOh14Gibt5TeymiB1HISp8umASDl5e8Z0WKFiZZfiJER=s64",
      "userId": "14306738336085774049"
     },
     "user_tz": -180
    },
    "id": "R6pIfdmUAiOD"
   },
   "outputs": [],
   "source": [
    "encoder=OneHotEncoder(sparse=False,handle_unknown='ignore').fit(inputs[my_categorical_col])"
   ]
  },
  {
   "cell_type": "code",
   "execution_count": 45,
   "metadata": {
    "executionInfo": {
     "elapsed": 17,
     "status": "ok",
     "timestamp": 1635308073235,
     "user": {
      "displayName": "Nouhaila Bouanane",
      "photoUrl": "https://lh3.googleusercontent.com/a-/AOh14Gibt5TeymiB1HISp8umASDl5e8Z0WKFiZZfiJER=s64",
      "userId": "14306738336085774049"
     },
     "user_tz": -180
    },
    "id": "3SsBiS94Akfv"
   },
   "outputs": [],
   "source": [
    "encoded_cols=list(encoder.get_feature_names(my_categorical_col))"
   ]
  },
  {
   "cell_type": "code",
   "execution_count": 46,
   "metadata": {
    "colab": {
     "base_uri": "https://localhost:8080/"
    },
    "executionInfo": {
     "elapsed": 17,
     "status": "ok",
     "timestamp": 1635308073236,
     "user": {
      "displayName": "Nouhaila Bouanane",
      "photoUrl": "https://lh3.googleusercontent.com/a-/AOh14Gibt5TeymiB1HISp8umASDl5e8Z0WKFiZZfiJER=s64",
      "userId": "14306738336085774049"
     },
     "user_tz": -180
    },
    "id": "sIBKVXYNAlfn",
    "outputId": "f198ac88-13a7-485a-b2a7-9741dbc07e7f"
   },
   "outputs": [
    {
     "data": {
      "text/plain": [
       "['store_and_fwd_flag_N', 'store_and_fwd_flag_Y']"
      ]
     },
     "execution_count": 46,
     "metadata": {},
     "output_type": "execute_result"
    }
   ],
   "source": [
    "encoded_cols"
   ]
  },
  {
   "cell_type": "code",
   "execution_count": 47,
   "metadata": {
    "executionInfo": {
     "elapsed": 1299,
     "status": "ok",
     "timestamp": 1635308074525,
     "user": {
      "displayName": "Nouhaila Bouanane",
      "photoUrl": "https://lh3.googleusercontent.com/a-/AOh14Gibt5TeymiB1HISp8umASDl5e8Z0WKFiZZfiJER=s64",
      "userId": "14306738336085774049"
     },
     "user_tz": -180
    },
    "id": "EbGmdmq7AnBd"
   },
   "outputs": [],
   "source": [
    "inputs[encoded_cols]=encoder.transform(inputs[my_categorical_col])\n",
    "inputs_test[encoded_cols]=encoder.transform(inputs_test[my_categorical_col])"
   ]
  },
  {
   "cell_type": "code",
   "execution_count": 48,
   "metadata": {
    "colab": {
     "base_uri": "https://localhost:8080/",
     "height": 439
    },
    "executionInfo": {
     "elapsed": 36,
     "status": "ok",
     "timestamp": 1635308074536,
     "user": {
      "displayName": "Nouhaila Bouanane",
      "photoUrl": "https://lh3.googleusercontent.com/a-/AOh14Gibt5TeymiB1HISp8umASDl5e8Z0WKFiZZfiJER=s64",
      "userId": "14306738336085774049"
     },
     "user_tz": -180
    },
    "id": "sZStzi_GAt5d",
    "outputId": "e174dea4-bfbb-4efa-ce4b-99fbad1dce3f"
   },
   "outputs": [
    {
     "data": {
      "text/html": [
       "<div>\n",
       "<style scoped>\n",
       "    .dataframe tbody tr th:only-of-type {\n",
       "        vertical-align: middle;\n",
       "    }\n",
       "\n",
       "    .dataframe tbody tr th {\n",
       "        vertical-align: top;\n",
       "    }\n",
       "\n",
       "    .dataframe thead th {\n",
       "        text-align: right;\n",
       "    }\n",
       "</style>\n",
       "<table border=\"1\" class=\"dataframe\">\n",
       "  <thead>\n",
       "    <tr style=\"text-align: right;\">\n",
       "      <th></th>\n",
       "      <th>pickup_longitude</th>\n",
       "      <th>pickup_latitude</th>\n",
       "      <th>dropoff_longitude</th>\n",
       "      <th>dropoff_latitude</th>\n",
       "      <th>store_and_fwd_flag</th>\n",
       "      <th>Month</th>\n",
       "      <th>Day</th>\n",
       "      <th>Hour</th>\n",
       "      <th>store_and_fwd_flag_N</th>\n",
       "      <th>store_and_fwd_flag_Y</th>\n",
       "    </tr>\n",
       "  </thead>\n",
       "  <tbody>\n",
       "    <tr>\n",
       "      <th>0</th>\n",
       "      <td>0.791302</td>\n",
       "      <td>0.365738</td>\n",
       "      <td>0.791591</td>\n",
       "      <td>0.731222</td>\n",
       "      <td>N</td>\n",
       "      <td>0.4</td>\n",
       "      <td>0.433333</td>\n",
       "      <td>0.739130</td>\n",
       "      <td>1.0</td>\n",
       "      <td>0.0</td>\n",
       "    </tr>\n",
       "    <tr>\n",
       "      <th>1</th>\n",
       "      <td>0.791331</td>\n",
       "      <td>0.364062</td>\n",
       "      <td>0.791016</td>\n",
       "      <td>0.728287</td>\n",
       "      <td>N</td>\n",
       "      <td>1.0</td>\n",
       "      <td>0.366667</td>\n",
       "      <td>0.000000</td>\n",
       "      <td>1.0</td>\n",
       "      <td>0.0</td>\n",
       "    </tr>\n",
       "    <tr>\n",
       "      <th>2</th>\n",
       "      <td>0.791354</td>\n",
       "      <td>0.365510</td>\n",
       "      <td>0.790920</td>\n",
       "      <td>0.726493</td>\n",
       "      <td>N</td>\n",
       "      <td>0.0</td>\n",
       "      <td>0.600000</td>\n",
       "      <td>0.478261</td>\n",
       "      <td>1.0</td>\n",
       "      <td>0.0</td>\n",
       "    </tr>\n",
       "    <tr>\n",
       "      <th>3</th>\n",
       "      <td>0.790842</td>\n",
       "      <td>0.363001</td>\n",
       "      <td>0.790805</td>\n",
       "      <td>0.726206</td>\n",
       "      <td>N</td>\n",
       "      <td>0.6</td>\n",
       "      <td>0.166667</td>\n",
       "      <td>0.826087</td>\n",
       "      <td>1.0</td>\n",
       "      <td>0.0</td>\n",
       "    </tr>\n",
       "    <tr>\n",
       "      <th>4</th>\n",
       "      <td>0.791452</td>\n",
       "      <td>0.367181</td>\n",
       "      <td>0.791454</td>\n",
       "      <td>0.732663</td>\n",
       "      <td>N</td>\n",
       "      <td>0.4</td>\n",
       "      <td>0.833333</td>\n",
       "      <td>0.565217</td>\n",
       "      <td>1.0</td>\n",
       "      <td>0.0</td>\n",
       "    </tr>\n",
       "    <tr>\n",
       "      <th>...</th>\n",
       "      <td>...</td>\n",
       "      <td>...</td>\n",
       "      <td>...</td>\n",
       "      <td>...</td>\n",
       "      <td>...</td>\n",
       "      <td>...</td>\n",
       "      <td>...</td>\n",
       "      <td>...</td>\n",
       "      <td>...</td>\n",
       "      <td>...</td>\n",
       "    </tr>\n",
       "    <tr>\n",
       "      <th>1458639</th>\n",
       "      <td>0.791302</td>\n",
       "      <td>0.364459</td>\n",
       "      <td>0.791092</td>\n",
       "      <td>0.729055</td>\n",
       "      <td>N</td>\n",
       "      <td>0.6</td>\n",
       "      <td>0.233333</td>\n",
       "      <td>0.565217</td>\n",
       "      <td>1.0</td>\n",
       "      <td>0.0</td>\n",
       "    </tr>\n",
       "    <tr>\n",
       "      <th>1458640</th>\n",
       "      <td>0.790992</td>\n",
       "      <td>0.364565</td>\n",
       "      <td>0.791500</td>\n",
       "      <td>0.733858</td>\n",
       "      <td>N</td>\n",
       "      <td>0.0</td>\n",
       "      <td>0.300000</td>\n",
       "      <td>0.304348</td>\n",
       "      <td>1.0</td>\n",
       "      <td>0.0</td>\n",
       "    </tr>\n",
       "    <tr>\n",
       "      <th>1458641</th>\n",
       "      <td>0.791682</td>\n",
       "      <td>0.365787</td>\n",
       "      <td>0.790935</td>\n",
       "      <td>0.726262</td>\n",
       "      <td>N</td>\n",
       "      <td>0.6</td>\n",
       "      <td>0.700000</td>\n",
       "      <td>0.260870</td>\n",
       "      <td>1.0</td>\n",
       "      <td>0.0</td>\n",
       "    </tr>\n",
       "    <tr>\n",
       "      <th>1458642</th>\n",
       "      <td>0.791304</td>\n",
       "      <td>0.364661</td>\n",
       "      <td>0.791426</td>\n",
       "      <td>0.730498</td>\n",
       "      <td>N</td>\n",
       "      <td>0.0</td>\n",
       "      <td>0.133333</td>\n",
       "      <td>0.652174</td>\n",
       "      <td>1.0</td>\n",
       "      <td>0.0</td>\n",
       "    </tr>\n",
       "    <tr>\n",
       "      <th>1458643</th>\n",
       "      <td>0.791345</td>\n",
       "      <td>0.366527</td>\n",
       "      <td>0.791456</td>\n",
       "      <td>0.733350</td>\n",
       "      <td>N</td>\n",
       "      <td>0.6</td>\n",
       "      <td>0.133333</td>\n",
       "      <td>0.608696</td>\n",
       "      <td>1.0</td>\n",
       "      <td>0.0</td>\n",
       "    </tr>\n",
       "  </tbody>\n",
       "</table>\n",
       "<p>1458644 rows × 10 columns</p>\n",
       "</div>"
      ],
      "text/plain": [
       "         pickup_longitude  ...  store_and_fwd_flag_Y\n",
       "0                0.791302  ...                   0.0\n",
       "1                0.791331  ...                   0.0\n",
       "2                0.791354  ...                   0.0\n",
       "3                0.790842  ...                   0.0\n",
       "4                0.791452  ...                   0.0\n",
       "...                   ...  ...                   ...\n",
       "1458639          0.791302  ...                   0.0\n",
       "1458640          0.790992  ...                   0.0\n",
       "1458641          0.791682  ...                   0.0\n",
       "1458642          0.791304  ...                   0.0\n",
       "1458643          0.791345  ...                   0.0\n",
       "\n",
       "[1458644 rows x 10 columns]"
      ]
     },
     "execution_count": 48,
     "metadata": {},
     "output_type": "execute_result"
    }
   ],
   "source": [
    "inputs"
   ]
  },
  {
   "cell_type": "code",
   "execution_count": 49,
   "metadata": {
    "executionInfo": {
     "elapsed": 30,
     "status": "ok",
     "timestamp": 1635308074537,
     "user": {
      "displayName": "Nouhaila Bouanane",
      "photoUrl": "https://lh3.googleusercontent.com/a-/AOh14Gibt5TeymiB1HISp8umASDl5e8Z0WKFiZZfiJER=s64",
      "userId": "14306738336085774049"
     },
     "user_tz": -180
    },
    "id": "HYzLT4szAyMk"
   },
   "outputs": [],
   "source": [
    "X=inputs[my_numerical_cols+encoded_cols]\n",
    "X_test=inputs_test[my_numerical_cols+encoded_cols]"
   ]
  },
  {
   "cell_type": "code",
   "execution_count": 50,
   "metadata": {
    "colab": {
     "base_uri": "https://localhost:8080/",
     "height": 419
    },
    "executionInfo": {
     "elapsed": 30,
     "status": "ok",
     "timestamp": 1635308074538,
     "user": {
      "displayName": "Nouhaila Bouanane",
      "photoUrl": "https://lh3.googleusercontent.com/a-/AOh14Gibt5TeymiB1HISp8umASDl5e8Z0WKFiZZfiJER=s64",
      "userId": "14306738336085774049"
     },
     "user_tz": -180
    },
    "id": "-DMIRZK0A0OA",
    "outputId": "773e3d86-2b1e-4e06-81f5-3110e02a95ec"
   },
   "outputs": [
    {
     "data": {
      "text/html": [
       "<div>\n",
       "<style scoped>\n",
       "    .dataframe tbody tr th:only-of-type {\n",
       "        vertical-align: middle;\n",
       "    }\n",
       "\n",
       "    .dataframe tbody tr th {\n",
       "        vertical-align: top;\n",
       "    }\n",
       "\n",
       "    .dataframe thead th {\n",
       "        text-align: right;\n",
       "    }\n",
       "</style>\n",
       "<table border=\"1\" class=\"dataframe\">\n",
       "  <thead>\n",
       "    <tr style=\"text-align: right;\">\n",
       "      <th></th>\n",
       "      <th>pickup_longitude</th>\n",
       "      <th>pickup_latitude</th>\n",
       "      <th>dropoff_longitude</th>\n",
       "      <th>dropoff_latitude</th>\n",
       "      <th>Month</th>\n",
       "      <th>Day</th>\n",
       "      <th>Hour</th>\n",
       "      <th>store_and_fwd_flag_N</th>\n",
       "      <th>store_and_fwd_flag_Y</th>\n",
       "    </tr>\n",
       "  </thead>\n",
       "  <tbody>\n",
       "    <tr>\n",
       "      <th>0</th>\n",
       "      <td>0.791302</td>\n",
       "      <td>0.365738</td>\n",
       "      <td>0.791591</td>\n",
       "      <td>0.731222</td>\n",
       "      <td>0.4</td>\n",
       "      <td>0.433333</td>\n",
       "      <td>0.739130</td>\n",
       "      <td>1.0</td>\n",
       "      <td>0.0</td>\n",
       "    </tr>\n",
       "    <tr>\n",
       "      <th>1</th>\n",
       "      <td>0.791331</td>\n",
       "      <td>0.364062</td>\n",
       "      <td>0.791016</td>\n",
       "      <td>0.728287</td>\n",
       "      <td>1.0</td>\n",
       "      <td>0.366667</td>\n",
       "      <td>0.000000</td>\n",
       "      <td>1.0</td>\n",
       "      <td>0.0</td>\n",
       "    </tr>\n",
       "    <tr>\n",
       "      <th>2</th>\n",
       "      <td>0.791354</td>\n",
       "      <td>0.365510</td>\n",
       "      <td>0.790920</td>\n",
       "      <td>0.726493</td>\n",
       "      <td>0.0</td>\n",
       "      <td>0.600000</td>\n",
       "      <td>0.478261</td>\n",
       "      <td>1.0</td>\n",
       "      <td>0.0</td>\n",
       "    </tr>\n",
       "    <tr>\n",
       "      <th>3</th>\n",
       "      <td>0.790842</td>\n",
       "      <td>0.363001</td>\n",
       "      <td>0.790805</td>\n",
       "      <td>0.726206</td>\n",
       "      <td>0.6</td>\n",
       "      <td>0.166667</td>\n",
       "      <td>0.826087</td>\n",
       "      <td>1.0</td>\n",
       "      <td>0.0</td>\n",
       "    </tr>\n",
       "    <tr>\n",
       "      <th>4</th>\n",
       "      <td>0.791452</td>\n",
       "      <td>0.367181</td>\n",
       "      <td>0.791454</td>\n",
       "      <td>0.732663</td>\n",
       "      <td>0.4</td>\n",
       "      <td>0.833333</td>\n",
       "      <td>0.565217</td>\n",
       "      <td>1.0</td>\n",
       "      <td>0.0</td>\n",
       "    </tr>\n",
       "    <tr>\n",
       "      <th>...</th>\n",
       "      <td>...</td>\n",
       "      <td>...</td>\n",
       "      <td>...</td>\n",
       "      <td>...</td>\n",
       "      <td>...</td>\n",
       "      <td>...</td>\n",
       "      <td>...</td>\n",
       "      <td>...</td>\n",
       "      <td>...</td>\n",
       "    </tr>\n",
       "    <tr>\n",
       "      <th>1458639</th>\n",
       "      <td>0.791302</td>\n",
       "      <td>0.364459</td>\n",
       "      <td>0.791092</td>\n",
       "      <td>0.729055</td>\n",
       "      <td>0.6</td>\n",
       "      <td>0.233333</td>\n",
       "      <td>0.565217</td>\n",
       "      <td>1.0</td>\n",
       "      <td>0.0</td>\n",
       "    </tr>\n",
       "    <tr>\n",
       "      <th>1458640</th>\n",
       "      <td>0.790992</td>\n",
       "      <td>0.364565</td>\n",
       "      <td>0.791500</td>\n",
       "      <td>0.733858</td>\n",
       "      <td>0.0</td>\n",
       "      <td>0.300000</td>\n",
       "      <td>0.304348</td>\n",
       "      <td>1.0</td>\n",
       "      <td>0.0</td>\n",
       "    </tr>\n",
       "    <tr>\n",
       "      <th>1458641</th>\n",
       "      <td>0.791682</td>\n",
       "      <td>0.365787</td>\n",
       "      <td>0.790935</td>\n",
       "      <td>0.726262</td>\n",
       "      <td>0.6</td>\n",
       "      <td>0.700000</td>\n",
       "      <td>0.260870</td>\n",
       "      <td>1.0</td>\n",
       "      <td>0.0</td>\n",
       "    </tr>\n",
       "    <tr>\n",
       "      <th>1458642</th>\n",
       "      <td>0.791304</td>\n",
       "      <td>0.364661</td>\n",
       "      <td>0.791426</td>\n",
       "      <td>0.730498</td>\n",
       "      <td>0.0</td>\n",
       "      <td>0.133333</td>\n",
       "      <td>0.652174</td>\n",
       "      <td>1.0</td>\n",
       "      <td>0.0</td>\n",
       "    </tr>\n",
       "    <tr>\n",
       "      <th>1458643</th>\n",
       "      <td>0.791345</td>\n",
       "      <td>0.366527</td>\n",
       "      <td>0.791456</td>\n",
       "      <td>0.733350</td>\n",
       "      <td>0.6</td>\n",
       "      <td>0.133333</td>\n",
       "      <td>0.608696</td>\n",
       "      <td>1.0</td>\n",
       "      <td>0.0</td>\n",
       "    </tr>\n",
       "  </tbody>\n",
       "</table>\n",
       "<p>1458644 rows × 9 columns</p>\n",
       "</div>"
      ],
      "text/plain": [
       "         pickup_longitude  ...  store_and_fwd_flag_Y\n",
       "0                0.791302  ...                   0.0\n",
       "1                0.791331  ...                   0.0\n",
       "2                0.791354  ...                   0.0\n",
       "3                0.790842  ...                   0.0\n",
       "4                0.791452  ...                   0.0\n",
       "...                   ...  ...                   ...\n",
       "1458639          0.791302  ...                   0.0\n",
       "1458640          0.790992  ...                   0.0\n",
       "1458641          0.791682  ...                   0.0\n",
       "1458642          0.791304  ...                   0.0\n",
       "1458643          0.791345  ...                   0.0\n",
       "\n",
       "[1458644 rows x 9 columns]"
      ]
     },
     "execution_count": 50,
     "metadata": {},
     "output_type": "execute_result"
    }
   ],
   "source": [
    "X"
   ]
  },
  {
   "cell_type": "code",
   "execution_count": 51,
   "metadata": {
    "colab": {
     "base_uri": "https://localhost:8080/",
     "height": 86
    },
    "executionInfo": {
     "elapsed": 2114,
     "status": "ok",
     "timestamp": 1635308076626,
     "user": {
      "displayName": "Nouhaila Bouanane",
      "photoUrl": "https://lh3.googleusercontent.com/a-/AOh14Gibt5TeymiB1HISp8umASDl5e8Z0WKFiZZfiJER=s64",
      "userId": "14306738336085774049"
     },
     "user_tz": -180
    },
    "id": "uPCga8xMA267",
    "outputId": "a4da79c6-b2c1-41fb-c6a2-bc3057deb70f"
   },
   "outputs": [
    {
     "name": "stdout",
     "output_type": "stream",
     "text": [
      "[jovian] Detected Colab notebook...\u001b[0m\n",
      "[jovian] Uploading colab notebook to Jovian...\u001b[0m\n",
      "Committed successfully! https://jovian.ai/bouanane133/projectjovianfinal\n"
     ]
    },
    {
     "data": {
      "application/vnd.google.colaboratory.intrinsic+json": {
       "type": "string"
      },
      "text/plain": [
       "'https://jovian.ai/bouanane133/projectjovianfinal'"
      ]
     },
     "execution_count": 51,
     "metadata": {},
     "output_type": "execute_result"
    }
   ],
   "source": [
    "jovian.commit()"
   ]
  },
  {
   "cell_type": "markdown",
   "metadata": {
    "id": "r9dEljMbA9XR"
   },
   "source": [
    "**Model 1:**\n"
   ]
  },
  {
   "cell_type": "code",
   "execution_count": 52,
   "metadata": {
    "executionInfo": {
     "elapsed": 24,
     "status": "ok",
     "timestamp": 1635308076628,
     "user": {
      "displayName": "Nouhaila Bouanane",
      "photoUrl": "https://lh3.googleusercontent.com/a-/AOh14Gibt5TeymiB1HISp8umASDl5e8Z0WKFiZZfiJER=s64",
      "userId": "14306738336085774049"
     },
     "user_tz": -180
    },
    "id": "Tout00vnA-n8"
   },
   "outputs": [],
   "source": [
    "from sklearn.linear_model import LinearRegression\n"
   ]
  },
  {
   "cell_type": "code",
   "execution_count": 53,
   "metadata": {
    "executionInfo": {
     "elapsed": 706,
     "status": "ok",
     "timestamp": 1635308077314,
     "user": {
      "displayName": "Nouhaila Bouanane",
      "photoUrl": "https://lh3.googleusercontent.com/a-/AOh14Gibt5TeymiB1HISp8umASDl5e8Z0WKFiZZfiJER=s64",
      "userId": "14306738336085774049"
     },
     "user_tz": -180
    },
    "id": "CwU8eg_uBDIe"
   },
   "outputs": [],
   "source": [
    "model=LinearRegression().fit(X,targets)"
   ]
  },
  {
   "cell_type": "code",
   "execution_count": 54,
   "metadata": {
    "executionInfo": {
     "elapsed": 323,
     "status": "ok",
     "timestamp": 1635308077630,
     "user": {
      "displayName": "Nouhaila Bouanane",
      "photoUrl": "https://lh3.googleusercontent.com/a-/AOh14Gibt5TeymiB1HISp8umASDl5e8Z0WKFiZZfiJER=s64",
      "userId": "14306738336085774049"
     },
     "user_tz": -180
    },
    "id": "hRX6qopgBFXd"
   },
   "outputs": [],
   "source": [
    "preds=model.predict(X)"
   ]
  },
  {
   "cell_type": "code",
   "execution_count": 55,
   "metadata": {
    "executionInfo": {
     "elapsed": 23,
     "status": "ok",
     "timestamp": 1635308077630,
     "user": {
      "displayName": "Nouhaila Bouanane",
      "photoUrl": "https://lh3.googleusercontent.com/a-/AOh14Gibt5TeymiB1HISp8umASDl5e8Z0WKFiZZfiJER=s64",
      "userId": "14306738336085774049"
     },
     "user_tz": -180
    },
    "id": "tEQcl2GRBHUL"
   },
   "outputs": [],
   "source": [
    "from sklearn.metrics import mean_squared_error"
   ]
  },
  {
   "cell_type": "code",
   "execution_count": 56,
   "metadata": {
    "executionInfo": {
     "elapsed": 23,
     "status": "ok",
     "timestamp": 1635308077631,
     "user": {
      "displayName": "Nouhaila Bouanane",
      "photoUrl": "https://lh3.googleusercontent.com/a-/AOh14Gibt5TeymiB1HISp8umASDl5e8Z0WKFiZZfiJER=s64",
      "userId": "14306738336085774049"
     },
     "user_tz": -180
    },
    "id": "GEkQ8OaSBKUz"
   },
   "outputs": [],
   "source": [
    "rmse=mean_squared_error(targets,preds)"
   ]
  },
  {
   "cell_type": "code",
   "execution_count": 57,
   "metadata": {
    "colab": {
     "base_uri": "https://localhost:8080/"
    },
    "executionInfo": {
     "elapsed": 23,
     "status": "ok",
     "timestamp": 1635308077631,
     "user": {
      "displayName": "Nouhaila Bouanane",
      "photoUrl": "https://lh3.googleusercontent.com/a-/AOh14Gibt5TeymiB1HISp8umASDl5e8Z0WKFiZZfiJER=s64",
      "userId": "14306738336085774049"
     },
     "user_tz": -180
    },
    "id": "3grdCh1ZBMaV",
    "outputId": "a3152a75-27c7-4dab-a91c-bfa952ac8bfb"
   },
   "outputs": [
    {
     "data": {
      "text/plain": [
       "27381916.98231716"
      ]
     },
     "execution_count": 57,
     "metadata": {},
     "output_type": "execute_result"
    }
   ],
   "source": [
    "rmse"
   ]
  },
  {
   "cell_type": "code",
   "execution_count": 58,
   "metadata": {
    "colab": {
     "base_uri": "https://localhost:8080/"
    },
    "executionInfo": {
     "elapsed": 18,
     "status": "ok",
     "timestamp": 1635308077631,
     "user": {
      "displayName": "Nouhaila Bouanane",
      "photoUrl": "https://lh3.googleusercontent.com/a-/AOh14Gibt5TeymiB1HISp8umASDl5e8Z0WKFiZZfiJER=s64",
      "userId": "14306738336085774049"
     },
     "user_tz": -180
    },
    "id": "qyyX6RQsBNZN",
    "outputId": "e3846044-f41b-44a7-b337-ccba4f0e2415"
   },
   "outputs": [
    {
     "data": {
      "text/plain": [
       "array([[ 1.55251096e+05, -6.50287204e+04, -3.74185594e+04,\n",
       "        -1.99265487e+04,  1.00788583e+02,  8.50912019e+00,\n",
       "         6.73144469e+01, -3.89450067e+01,  3.89450067e+01]])"
      ]
     },
     "execution_count": 58,
     "metadata": {},
     "output_type": "execute_result"
    }
   ],
   "source": [
    "model.coef_"
   ]
  },
  {
   "cell_type": "code",
   "execution_count": 59,
   "metadata": {
    "colab": {
     "base_uri": "https://localhost:8080/"
    },
    "executionInfo": {
     "elapsed": 15,
     "status": "ok",
     "timestamp": 1635308077632,
     "user": {
      "displayName": "Nouhaila Bouanane",
      "photoUrl": "https://lh3.googleusercontent.com/a-/AOh14Gibt5TeymiB1HISp8umASDl5e8Z0WKFiZZfiJER=s64",
      "userId": "14306738336085774049"
     },
     "user_tz": -180
    },
    "id": "sv7z7nX-BQpj",
    "outputId": "f8b9bf67-c9e5-4801-ae58-a54da6470e8c"
   },
   "outputs": [
    {
     "data": {
      "text/plain": [
       "array([-54087.00054629])"
      ]
     },
     "execution_count": 59,
     "metadata": {},
     "output_type": "execute_result"
    }
   ],
   "source": [
    "model.intercept_"
   ]
  },
  {
   "cell_type": "code",
   "execution_count": 60,
   "metadata": {
    "executionInfo": {
     "elapsed": 12,
     "status": "ok",
     "timestamp": 1635308077632,
     "user": {
      "displayName": "Nouhaila Bouanane",
      "photoUrl": "https://lh3.googleusercontent.com/a-/AOh14Gibt5TeymiB1HISp8umASDl5e8Z0WKFiZZfiJER=s64",
      "userId": "14306738336085774049"
     },
     "user_tz": -180
    },
    "id": "mlkjHtCeT6Zi"
   },
   "outputs": [],
   "source": [
    "predsTest=model.predict(X_test)"
   ]
  },
  {
   "cell_type": "code",
   "execution_count": 61,
   "metadata": {
    "colab": {
     "base_uri": "https://localhost:8080/"
    },
    "executionInfo": {
     "elapsed": 12,
     "status": "ok",
     "timestamp": 1635308077632,
     "user": {
      "displayName": "Nouhaila Bouanane",
      "photoUrl": "https://lh3.googleusercontent.com/a-/AOh14Gibt5TeymiB1HISp8umASDl5e8Z0WKFiZZfiJER=s64",
      "userId": "14306738336085774049"
     },
     "user_tz": -180
    },
    "id": "M1CBWqJ_Vn0L",
    "outputId": "827cfa85-f8c2-4568-c85e-cdf186e9f541"
   },
   "outputs": [
    {
     "data": {
      "text/plain": [
       "array([[1075.38800369],\n",
       "       [1482.96275556],\n",
       "       [1074.54380897],\n",
       "       ...,\n",
       "       [ 779.86133149],\n",
       "       [ 609.9081916 ],\n",
       "       [ 936.94159441]])"
      ]
     },
     "execution_count": 61,
     "metadata": {},
     "output_type": "execute_result"
    }
   ],
   "source": [
    "predsTest"
   ]
  },
  {
   "cell_type": "code",
   "execution_count": 62,
   "metadata": {
    "colab": {
     "base_uri": "https://localhost:8080/",
     "height": 86
    },
    "executionInfo": {
     "elapsed": 1534,
     "status": "ok",
     "timestamp": 1635308079157,
     "user": {
      "displayName": "Nouhaila Bouanane",
      "photoUrl": "https://lh3.googleusercontent.com/a-/AOh14Gibt5TeymiB1HISp8umASDl5e8Z0WKFiZZfiJER=s64",
      "userId": "14306738336085774049"
     },
     "user_tz": -180
    },
    "id": "XccBcz4fBRn1",
    "outputId": "1e179025-3e05-4de2-8d87-4aebc7362c36"
   },
   "outputs": [
    {
     "name": "stdout",
     "output_type": "stream",
     "text": [
      "[jovian] Detected Colab notebook...\u001b[0m\n",
      "[jovian] Uploading colab notebook to Jovian...\u001b[0m\n",
      "Committed successfully! https://jovian.ai/bouanane133/projectjovianfinal\n"
     ]
    },
    {
     "data": {
      "application/vnd.google.colaboratory.intrinsic+json": {
       "type": "string"
      },
      "text/plain": [
       "'https://jovian.ai/bouanane133/projectjovianfinal'"
      ]
     },
     "execution_count": 62,
     "metadata": {},
     "output_type": "execute_result"
    }
   ],
   "source": [
    "jovian.commit()"
   ]
  },
  {
   "cell_type": "markdown",
   "metadata": {
    "id": "6ITHtkchBUmk"
   },
   "source": [
    "**Model 2:**"
   ]
  },
  {
   "cell_type": "code",
   "execution_count": 63,
   "metadata": {
    "executionInfo": {
     "elapsed": 427,
     "status": "ok",
     "timestamp": 1635308079575,
     "user": {
      "displayName": "Nouhaila Bouanane",
      "photoUrl": "https://lh3.googleusercontent.com/a-/AOh14Gibt5TeymiB1HISp8umASDl5e8Z0WKFiZZfiJER=s64",
      "userId": "14306738336085774049"
     },
     "user_tz": -180
    },
    "id": "5v07jw7fBXRV"
   },
   "outputs": [],
   "source": [
    "from sklearn.tree import DecisionTreeRegressor"
   ]
  },
  {
   "cell_type": "code",
   "execution_count": 64,
   "metadata": {
    "executionInfo": {
     "elapsed": 31197,
     "status": "ok",
     "timestamp": 1635308110767,
     "user": {
      "displayName": "Nouhaila Bouanane",
      "photoUrl": "https://lh3.googleusercontent.com/a-/AOh14Gibt5TeymiB1HISp8umASDl5e8Z0WKFiZZfiJER=s64",
      "userId": "14306738336085774049"
     },
     "user_tz": -180
    },
    "id": "vxR1NwoXBcQi"
   },
   "outputs": [],
   "source": [
    "model2=DecisionTreeRegressor(random_state=42).fit(X,targets)"
   ]
  },
  {
   "cell_type": "markdown",
   "metadata": {
    "id": "vzEV8oUABe7H"
   },
   "source": [
    "**Evaluation**"
   ]
  },
  {
   "cell_type": "code",
   "execution_count": 65,
   "metadata": {
    "executionInfo": {
     "elapsed": 1692,
     "status": "ok",
     "timestamp": 1635308112450,
     "user": {
      "displayName": "Nouhaila Bouanane",
      "photoUrl": "https://lh3.googleusercontent.com/a-/AOh14Gibt5TeymiB1HISp8umASDl5e8Z0WKFiZZfiJER=s64",
      "userId": "14306738336085774049"
     },
     "user_tz": -180
    },
    "id": "IrNGMXHjBfvu"
   },
   "outputs": [],
   "source": [
    "pred2=model2.predict(X)"
   ]
  },
  {
   "cell_type": "code",
   "execution_count": 66,
   "metadata": {
    "colab": {
     "base_uri": "https://localhost:8080/"
    },
    "executionInfo": {
     "elapsed": 12,
     "status": "ok",
     "timestamp": 1635308112451,
     "user": {
      "displayName": "Nouhaila Bouanane",
      "photoUrl": "https://lh3.googleusercontent.com/a-/AOh14Gibt5TeymiB1HISp8umASDl5e8Z0WKFiZZfiJER=s64",
      "userId": "14306738336085774049"
     },
     "user_tz": -180
    },
    "id": "KjyN0ODvBh3a",
    "outputId": "e6421da8-b5b5-42c7-adaa-e505b25f393f"
   },
   "outputs": [
    {
     "data": {
      "text/plain": [
       "array([ 455.,  663., 2124., ...,  764.,  373.,  198.])"
      ]
     },
     "execution_count": 66,
     "metadata": {},
     "output_type": "execute_result"
    }
   ],
   "source": [
    "pred2"
   ]
  },
  {
   "cell_type": "code",
   "execution_count": 67,
   "metadata": {
    "colab": {
     "base_uri": "https://localhost:8080/",
     "height": 419
    },
    "executionInfo": {
     "elapsed": 9,
     "status": "ok",
     "timestamp": 1635308112453,
     "user": {
      "displayName": "Nouhaila Bouanane",
      "photoUrl": "https://lh3.googleusercontent.com/a-/AOh14Gibt5TeymiB1HISp8umASDl5e8Z0WKFiZZfiJER=s64",
      "userId": "14306738336085774049"
     },
     "user_tz": -180
    },
    "id": "m6Iq5aGyBjkn",
    "outputId": "4a858dc0-c2b3-477c-aba8-fe848182344b"
   },
   "outputs": [
    {
     "data": {
      "text/html": [
       "<div>\n",
       "<style scoped>\n",
       "    .dataframe tbody tr th:only-of-type {\n",
       "        vertical-align: middle;\n",
       "    }\n",
       "\n",
       "    .dataframe tbody tr th {\n",
       "        vertical-align: top;\n",
       "    }\n",
       "\n",
       "    .dataframe thead th {\n",
       "        text-align: right;\n",
       "    }\n",
       "</style>\n",
       "<table border=\"1\" class=\"dataframe\">\n",
       "  <thead>\n",
       "    <tr style=\"text-align: right;\">\n",
       "      <th></th>\n",
       "      <th>trip_duration</th>\n",
       "    </tr>\n",
       "  </thead>\n",
       "  <tbody>\n",
       "    <tr>\n",
       "      <th>0</th>\n",
       "      <td>455</td>\n",
       "    </tr>\n",
       "    <tr>\n",
       "      <th>1</th>\n",
       "      <td>663</td>\n",
       "    </tr>\n",
       "    <tr>\n",
       "      <th>2</th>\n",
       "      <td>2124</td>\n",
       "    </tr>\n",
       "    <tr>\n",
       "      <th>3</th>\n",
       "      <td>429</td>\n",
       "    </tr>\n",
       "    <tr>\n",
       "      <th>4</th>\n",
       "      <td>435</td>\n",
       "    </tr>\n",
       "    <tr>\n",
       "      <th>...</th>\n",
       "      <td>...</td>\n",
       "    </tr>\n",
       "    <tr>\n",
       "      <th>1458639</th>\n",
       "      <td>778</td>\n",
       "    </tr>\n",
       "    <tr>\n",
       "      <th>1458640</th>\n",
       "      <td>655</td>\n",
       "    </tr>\n",
       "    <tr>\n",
       "      <th>1458641</th>\n",
       "      <td>764</td>\n",
       "    </tr>\n",
       "    <tr>\n",
       "      <th>1458642</th>\n",
       "      <td>373</td>\n",
       "    </tr>\n",
       "    <tr>\n",
       "      <th>1458643</th>\n",
       "      <td>198</td>\n",
       "    </tr>\n",
       "  </tbody>\n",
       "</table>\n",
       "<p>1458644 rows × 1 columns</p>\n",
       "</div>"
      ],
      "text/plain": [
       "         trip_duration\n",
       "0                  455\n",
       "1                  663\n",
       "2                 2124\n",
       "3                  429\n",
       "4                  435\n",
       "...                ...\n",
       "1458639            778\n",
       "1458640            655\n",
       "1458641            764\n",
       "1458642            373\n",
       "1458643            198\n",
       "\n",
       "[1458644 rows x 1 columns]"
      ]
     },
     "execution_count": 67,
     "metadata": {},
     "output_type": "execute_result"
    }
   ],
   "source": [
    "targets"
   ]
  },
  {
   "cell_type": "code",
   "execution_count": 68,
   "metadata": {
    "executionInfo": {
     "elapsed": 1021,
     "status": "ok",
     "timestamp": 1635308113466,
     "user": {
      "displayName": "Nouhaila Bouanane",
      "photoUrl": "https://lh3.googleusercontent.com/a-/AOh14Gibt5TeymiB1HISp8umASDl5e8Z0WKFiZZfiJER=s64",
      "userId": "14306738336085774049"
     },
     "user_tz": -180
    },
    "id": "Xjt6jkFoWi9x"
   },
   "outputs": [],
   "source": [
    "predTest=model2.predict(X_test)"
   ]
  },
  {
   "cell_type": "code",
   "execution_count": 69,
   "metadata": {
    "colab": {
     "base_uri": "https://localhost:8080/"
    },
    "executionInfo": {
     "elapsed": 13,
     "status": "ok",
     "timestamp": 1635308113469,
     "user": {
      "displayName": "Nouhaila Bouanane",
      "photoUrl": "https://lh3.googleusercontent.com/a-/AOh14Gibt5TeymiB1HISp8umASDl5e8Z0WKFiZZfiJER=s64",
      "userId": "14306738336085774049"
     },
     "user_tz": -180
    },
    "id": "IoFa9aIwWvT8",
    "outputId": "4def59b4-a207-4c43-c493-23948acbc6c1"
   },
   "outputs": [
    {
     "data": {
      "text/plain": [
       "array([ 397.,  498.,  624., ..., 1442., 1620.,  950.])"
      ]
     },
     "execution_count": 69,
     "metadata": {},
     "output_type": "execute_result"
    }
   ],
   "source": [
    "predTest"
   ]
  },
  {
   "cell_type": "code",
   "execution_count": 70,
   "metadata": {
    "executionInfo": {
     "elapsed": 9,
     "status": "ok",
     "timestamp": 1635308113470,
     "user": {
      "displayName": "Nouhaila Bouanane",
      "photoUrl": "https://lh3.googleusercontent.com/a-/AOh14Gibt5TeymiB1HISp8umASDl5e8Z0WKFiZZfiJER=s64",
      "userId": "14306738336085774049"
     },
     "user_tz": -180
    },
    "id": "N0vUK2gcBoig"
   },
   "outputs": [],
   "source": [
    "from sklearn.metrics import mean_squared_error"
   ]
  },
  {
   "cell_type": "code",
   "execution_count": 71,
   "metadata": {
    "executionInfo": {
     "elapsed": 9,
     "status": "ok",
     "timestamp": 1635308113470,
     "user": {
      "displayName": "Nouhaila Bouanane",
      "photoUrl": "https://lh3.googleusercontent.com/a-/AOh14Gibt5TeymiB1HISp8umASDl5e8Z0WKFiZZfiJER=s64",
      "userId": "14306738336085774049"
     },
     "user_tz": -180
    },
    "id": "uXZtTFJ6BtC7"
   },
   "outputs": [],
   "source": [
    "rmse2=mean_squared_error(pred2,targets)\n"
   ]
  },
  {
   "cell_type": "code",
   "execution_count": 72,
   "metadata": {
    "colab": {
     "base_uri": "https://localhost:8080/"
    },
    "executionInfo": {
     "elapsed": 8,
     "status": "ok",
     "timestamp": 1635308113470,
     "user": {
      "displayName": "Nouhaila Bouanane",
      "photoUrl": "https://lh3.googleusercontent.com/a-/AOh14Gibt5TeymiB1HISp8umASDl5e8Z0WKFiZZfiJER=s64",
      "userId": "14306738336085774049"
     },
     "user_tz": -180
    },
    "id": "vuxy7P8MByxt",
    "outputId": "e645d390-e296-4b38-ba76-ff1c77f180cc"
   },
   "outputs": [
    {
     "data": {
      "text/plain": [
       "11.389811359043057"
      ]
     },
     "execution_count": 72,
     "metadata": {},
     "output_type": "execute_result"
    }
   ],
   "source": [
    "rmse2"
   ]
  },
  {
   "cell_type": "markdown",
   "metadata": {
    "id": "5H4MeME9ZpES"
   },
   "source": [
    "**Train_test_split**"
   ]
  },
  {
   "cell_type": "code",
   "execution_count": 73,
   "metadata": {
    "executionInfo": {
     "elapsed": 8,
     "status": "ok",
     "timestamp": 1635308113472,
     "user": {
      "displayName": "Nouhaila Bouanane",
      "photoUrl": "https://lh3.googleusercontent.com/a-/AOh14Gibt5TeymiB1HISp8umASDl5e8Z0WKFiZZfiJER=s64",
      "userId": "14306738336085774049"
     },
     "user_tz": -180
    },
    "id": "q872MQtXZw0h"
   },
   "outputs": [],
   "source": [
    "from sklearn.model_selection import train_test_split"
   ]
  },
  {
   "cell_type": "code",
   "execution_count": 74,
   "metadata": {
    "executionInfo": {
     "elapsed": 8,
     "status": "ok",
     "timestamp": 1635308113473,
     "user": {
      "displayName": "Nouhaila Bouanane",
      "photoUrl": "https://lh3.googleusercontent.com/a-/AOh14Gibt5TeymiB1HISp8umASDl5e8Z0WKFiZZfiJER=s64",
      "userId": "14306738336085774049"
     },
     "user_tz": -180
    },
    "id": "9bSY9GGgaIvu"
   },
   "outputs": [],
   "source": [
    "X_train,X_val,train_target,val_target=train_test_split(X,targets,test_size=0.2)"
   ]
  },
  {
   "cell_type": "markdown",
   "metadata": {
    "id": "PisddLC8geFu"
   },
   "source": [
    "**Prediction and Evaluation**"
   ]
  },
  {
   "cell_type": "code",
   "execution_count": 75,
   "metadata": {
    "colab": {
     "base_uri": "https://localhost:8080/"
    },
    "executionInfo": {
     "elapsed": 1298,
     "status": "ok",
     "timestamp": 1635308114763,
     "user": {
      "displayName": "Nouhaila Bouanane",
      "photoUrl": "https://lh3.googleusercontent.com/a-/AOh14Gibt5TeymiB1HISp8umASDl5e8Z0WKFiZZfiJER=s64",
      "userId": "14306738336085774049"
     },
     "user_tz": -180
    },
    "id": "2dhN9LewaI8i",
    "outputId": "854f9f46-4699-4aa3-dbc0-ce5cbb7aab77"
   },
   "outputs": [
    {
     "data": {
      "text/plain": [
       "13.749236448241732"
      ]
     },
     "execution_count": 75,
     "metadata": {},
     "output_type": "execute_result"
    }
   ],
   "source": [
    "rmseTrain=mean_squared_error(model2.predict(X_train),train_target)\n",
    "rmseTrain"
   ]
  },
  {
   "cell_type": "code",
   "execution_count": 76,
   "metadata": {
    "colab": {
     "base_uri": "https://localhost:8080/"
    },
    "executionInfo": {
     "elapsed": 521,
     "status": "ok",
     "timestamp": 1635308115278,
     "user": {
      "displayName": "Nouhaila Bouanane",
      "photoUrl": "https://lh3.googleusercontent.com/a-/AOh14Gibt5TeymiB1HISp8umASDl5e8Z0WKFiZZfiJER=s64",
      "userId": "14306738336085774049"
     },
     "user_tz": -180
    },
    "id": "yawJZmZ4dmN6",
    "outputId": "eeb9e8a4-5eda-4ffc-82e7-0b3e106c03e9"
   },
   "outputs": [
    {
     "data": {
      "text/plain": [
       "1.952119089977342"
      ]
     },
     "execution_count": 76,
     "metadata": {},
     "output_type": "execute_result"
    }
   ],
   "source": [
    "rmseVal=mean_squared_error(model2.predict(X_val),val_target)\n",
    "rmseVal"
   ]
  },
  {
   "cell_type": "code",
   "execution_count": 77,
   "metadata": {
    "colab": {
     "base_uri": "https://localhost:8080/"
    },
    "executionInfo": {
     "elapsed": 1486,
     "status": "ok",
     "timestamp": 1635308116762,
     "user": {
      "displayName": "Nouhaila Bouanane",
      "photoUrl": "https://lh3.googleusercontent.com/a-/AOh14Gibt5TeymiB1HISp8umASDl5e8Z0WKFiZZfiJER=s64",
      "userId": "14306738336085774049"
     },
     "user_tz": -180
    },
    "id": "n3VQKpU1fQUz",
    "outputId": "01dc4d5e-9c25-4425-a256-23139e37124c"
   },
   "outputs": [
    {
     "data": {
      "text/plain": [
       "0.999999567939187"
      ]
     },
     "execution_count": 77,
     "metadata": {},
     "output_type": "execute_result"
    }
   ],
   "source": [
    "model2.score(X_train,train_target)"
   ]
  },
  {
   "cell_type": "code",
   "execution_count": 78,
   "metadata": {
    "colab": {
     "base_uri": "https://localhost:8080/"
    },
    "executionInfo": {
     "elapsed": 669,
     "status": "ok",
     "timestamp": 1635308117166,
     "user": {
      "displayName": "Nouhaila Bouanane",
      "photoUrl": "https://lh3.googleusercontent.com/a-/AOh14Gibt5TeymiB1HISp8umASDl5e8Z0WKFiZZfiJER=s64",
      "userId": "14306738336085774049"
     },
     "user_tz": -180
    },
    "id": "NoMwBamMfiYH",
    "outputId": "3d4c3ff7-fa00-40a3-d8a4-efad1389bb08"
   },
   "outputs": [
    {
     "data": {
      "text/plain": [
       "0.9999998020851141"
      ]
     },
     "execution_count": 78,
     "metadata": {},
     "output_type": "execute_result"
    }
   ],
   "source": [
    "model2.score(X_val,val_target)"
   ]
  },
  {
   "cell_type": "markdown",
   "metadata": {
    "id": "pNIr_UmdhmKw"
   },
   "source": [
    "**KFold**\n"
   ]
  },
  {
   "cell_type": "code",
   "execution_count": 79,
   "metadata": {
    "executionInfo": {
     "elapsed": 26,
     "status": "ok",
     "timestamp": 1635308117170,
     "user": {
      "displayName": "Nouhaila Bouanane",
      "photoUrl": "https://lh3.googleusercontent.com/a-/AOh14Gibt5TeymiB1HISp8umASDl5e8Z0WKFiZZfiJER=s64",
      "userId": "14306738336085774049"
     },
     "user_tz": -180
    },
    "id": "6yN_hggaho82"
   },
   "outputs": [],
   "source": [
    "from sklearn.model_selection import KFold"
   ]
  },
  {
   "cell_type": "code",
   "execution_count": 80,
   "metadata": {
    "executionInfo": {
     "elapsed": 27,
     "status": "ok",
     "timestamp": 1635308117171,
     "user": {
      "displayName": "Nouhaila Bouanane",
      "photoUrl": "https://lh3.googleusercontent.com/a-/AOh14Gibt5TeymiB1HISp8umASDl5e8Z0WKFiZZfiJER=s64",
      "userId": "14306738336085774049"
     },
     "user_tz": -180
    },
    "id": "rbKgoWJQhzeP"
   },
   "outputs": [],
   "source": [
    "kfolds=KFold(n_splits=6,shuffle=True)"
   ]
  },
  {
   "cell_type": "code",
   "execution_count": 81,
   "metadata": {
    "colab": {
     "base_uri": "https://localhost:8080/"
    },
    "executionInfo": {
     "elapsed": 10886,
     "status": "ok",
     "timestamp": 1635308128031,
     "user": {
      "displayName": "Nouhaila Bouanane",
      "photoUrl": "https://lh3.googleusercontent.com/a-/AOh14Gibt5TeymiB1HISp8umASDl5e8Z0WKFiZZfiJER=s64",
      "userId": "14306738336085774049"
     },
     "user_tz": -180
    },
    "id": "EmxPkGwmiEE_",
    "outputId": "b31ed60e-fed4-4d2a-e918-9ec592a36755"
   },
   "outputs": [
    {
     "name": "stdout",
     "output_type": "stream",
     "text": [
      "Train Rmse: 8.25315128470074 and Validation Rmse: 27.073060121427513\n",
      "Train Rmse: 9.274479941359203 and Validation Rmse: 21.966433642660874\n",
      "Train Rmse: 11.418630407795073 and Validation Rmse: 11.245715878193552\n",
      "Train Rmse: 13.378819196782986 and Validation Rmse: 1.44475580711374\n",
      "Train Rmse: 13.107050217311361 and Validation Rmse: 2.8036029402690996\n",
      "Train Rmse: 12.906732785591883 and Validation Rmse: 3.8051917468439824\n"
     ]
    }
   ],
   "source": [
    "for train_input,val_input in kfolds.split(X):\n",
    "  inp_train,inp_target=X.iloc[train_input],targets.iloc[train_input]\n",
    "  val_train,val_target=X.iloc[val_input],targets.iloc[val_input]\n",
    "  rmse_input_train=mean_squared_error(model2.predict(inp_train),inp_target)\n",
    "  rmse_input_val=mean_squared_error(model2.predict(val_train),val_target)\n",
    "  print(\"Train Rmse: {} and Validation Rmse: {}\".format(rmse_input_train,rmse_input_val))"
   ]
  },
  {
   "cell_type": "markdown",
   "metadata": {
    "id": "L_lqSZNyB2Aw"
   },
   "source": [
    "**visualization**"
   ]
  },
  {
   "cell_type": "code",
   "execution_count": 82,
   "metadata": {
    "executionInfo": {
     "elapsed": 13,
     "status": "ok",
     "timestamp": 1635308128032,
     "user": {
      "displayName": "Nouhaila Bouanane",
      "photoUrl": "https://lh3.googleusercontent.com/a-/AOh14Gibt5TeymiB1HISp8umASDl5e8Z0WKFiZZfiJER=s64",
      "userId": "14306738336085774049"
     },
     "user_tz": -180
    },
    "id": "cOrqqytCB29a"
   },
   "outputs": [],
   "source": [
    "from sklearn.tree import plot_tree,export_text"
   ]
  },
  {
   "cell_type": "code",
   "execution_count": 83,
   "metadata": {
    "colab": {
     "base_uri": "https://localhost:8080/",
     "height": 1000
    },
    "executionInfo": {
     "elapsed": 3269,
     "status": "ok",
     "timestamp": 1635308131289,
     "user": {
      "displayName": "Nouhaila Bouanane",
      "photoUrl": "https://lh3.googleusercontent.com/a-/AOh14Gibt5TeymiB1HISp8umASDl5e8Z0WKFiZZfiJER=s64",
      "userId": "14306738336085774049"
     },
     "user_tz": -180
    },
    "id": "rAAMb_SIB6tz",
    "outputId": "297e9d27-4920-4bfe-d000-d44044e3fd3d"
   },
   "outputs": [
    {
     "data": {
      "text/plain": [
       "[Text(1653.0749999999998, 747.4499999999999, 'pickup_longitude <= 0.793\\nmse = 27430672.263\\nsamples = 1458644\\nvalue = 959.492'),\n",
       " Text(850.9499999999999, 611.55, 'dropoff_longitude <= 0.792\\nmse = 16538214.58\\nsamples = 1386286\\nvalue = 891.381'),\n",
       " Text(446.4, 475.65, 'dropoff_latitude <= 0.726\\nmse = 16535683.285\\nsamples = 1338013\\nvalue = 848.659'),\n",
       " Text(223.2, 339.74999999999994, 'pickup_latitude <= 0.363\\nmse = 10439169.602\\nsamples = 48495\\nvalue = 1473.992'),\n",
       " Text(111.6, 203.8499999999999, 'dropoff_latitude <= 0.726\\nmse = 10709106.916\\nsamples = 23687\\nvalue = 1022.715'),\n",
       " Text(55.8, 67.94999999999993, '\\n  (...)  \\n'),\n",
       " Text(167.39999999999998, 67.94999999999993, '\\n  (...)  \\n'),\n",
       " Text(334.79999999999995, 203.8499999999999, 'pickup_latitude <= 0.363\\nmse = 9801319.204\\nsamples = 24808\\nvalue = 1904.878'),\n",
       " Text(279.0, 67.94999999999993, '\\n  (...)  \\n'),\n",
       " Text(390.59999999999997, 67.94999999999993, '\\n  (...)  \\n'),\n",
       " Text(669.5999999999999, 339.74999999999994, 'dropoff_latitude <= 0.728\\nmse = 16749696.325\\nsamples = 1289518\\nvalue = 825.142'),\n",
       " Text(558.0, 203.8499999999999, 'pickup_latitude <= 0.364\\nmse = 11194863.793\\nsamples = 123249\\nvalue = 1012.053'),\n",
       " Text(502.2, 67.94999999999993, '\\n  (...)  \\n'),\n",
       " Text(613.8, 67.94999999999993, '\\n  (...)  \\n'),\n",
       " Text(781.1999999999999, 203.8499999999999, 'pickup_latitude <= 0.363\\nmse = 17332637.935\\nsamples = 1166269\\nvalue = 805.389'),\n",
       " Text(725.4, 67.94999999999993, '\\n  (...)  \\n'),\n",
       " Text(837.0, 67.94999999999993, '\\n  (...)  \\n'),\n",
       " Text(1255.5, 475.65, 'dropoff_longitude <= 0.794\\nmse = 15155553.969\\nsamples = 48273\\nvalue = 2075.54'),\n",
       " Text(1116.0, 339.74999999999994, 'pickup_longitude <= 0.792\\nmse = 13238356.843\\nsamples = 35512\\nvalue = 1760.972'),\n",
       " Text(1004.4, 203.8499999999999, 'Hour <= 0.543\\nmse = 14074986.154\\nsamples = 28948\\nvalue = 1928.02'),\n",
       " Text(948.5999999999999, 67.94999999999993, '\\n  (...)  \\n'),\n",
       " Text(1060.2, 67.94999999999993, '\\n  (...)  \\n'),\n",
       " Text(1227.6, 203.8499999999999, 'pickup_longitude <= 0.792\\nmse = 8882929.144\\nsamples = 6564\\nvalue = 1024.27'),\n",
       " Text(1171.8, 67.94999999999993, '\\n  (...)  \\n'),\n",
       " Text(1283.3999999999999, 67.94999999999993, '\\n  (...)  \\n'),\n",
       " Text(1395.0, 339.74999999999994, 'dropoff_longitude <= 0.794\\nmse = 19449143.797\\nsamples = 12761\\nvalue = 2950.936'),\n",
       " Text(1339.1999999999998, 203.8499999999999, 'mse = 0.0\\nsamples = 1\\nvalue = 86171.0'),\n",
       " Text(1450.8, 203.8499999999999, 'Hour <= 0.543\\nmse = 18907868.51\\nsamples = 12760\\nvalue = 2944.414'),\n",
       " Text(1395.0, 67.94999999999993, '\\n  (...)  \\n'),\n",
       " Text(1506.6, 67.94999999999993, '\\n  (...)  \\n'),\n",
       " Text(2455.2, 611.55, 'dropoff_longitude <= 0.792\\nmse = 234324409.293\\nsamples = 72358\\nvalue = 2264.418'),\n",
       " Text(2008.8, 475.65, 'pickup_latitude <= 0.361\\nmse = 358212411.905\\nsamples = 46788\\nvalue = 2679.836'),\n",
       " Text(1785.6, 339.74999999999994, 'dropoff_longitude <= 0.792\\nmse = 827013520.732\\nsamples = 19902\\nvalue = 3366.279'),\n",
       " Text(1674.0, 203.8499999999999, 'pickup_latitude <= 0.359\\nmse = 643398838.276\\nsamples = 19746\\nvalue = 3270.967'),\n",
       " Text(1618.1999999999998, 67.94999999999993, '\\n  (...)  \\n'),\n",
       " Text(1729.8, 67.94999999999993, '\\n  (...)  \\n'),\n",
       " Text(1897.1999999999998, 203.8499999999999, 'Hour <= 0.022\\nmse = 23921696349.974\\nsamples = 156\\nvalue = 15430.641'),\n",
       " Text(1841.3999999999999, 67.94999999999993, '\\n  (...)  \\n'),\n",
       " Text(1953.0, 67.94999999999993, '\\n  (...)  \\n'),\n",
       " Text(2232.0, 339.74999999999994, 'Hour <= 0.804\\nmse = 10581695.992\\nsamples = 26886\\nvalue = 2171.706'),\n",
       " Text(2120.4, 203.8499999999999, 'Hour <= 0.283\\nmse = 10239496.389\\nsamples = 18799\\nvalue = 2385.615'),\n",
       " Text(2064.6, 67.94999999999993, '\\n  (...)  \\n'),\n",
       " Text(2176.2, 67.94999999999993, '\\n  (...)  \\n'),\n",
       " Text(2343.6, 203.8499999999999, 'dropoff_longitude <= 0.791\\nmse = 11023547.033\\nsamples = 8087\\nvalue = 1674.456'),\n",
       " Text(2287.7999999999997, 67.94999999999993, '\\n  (...)  \\n'),\n",
       " Text(2399.4, 67.94999999999993, '\\n  (...)  \\n'),\n",
       " Text(2901.6, 475.65, 'dropoff_longitude <= 0.793\\nmse = 6740497.022\\nsamples = 25570\\nvalue = 1504.284'),\n",
       " Text(2678.3999999999996, 339.74999999999994, 'pickup_longitude <= 0.794\\nmse = 6396791.554\\nsamples = 12210\\nvalue = 1835.515'),\n",
       " Text(2566.7999999999997, 203.8499999999999, 'dropoff_latitude <= 0.725\\nmse = 4702084.999\\nsamples = 6719\\nvalue = 1400.135'),\n",
       " Text(2511.0, 67.94999999999993, '\\n  (...)  \\n'),\n",
       " Text(2622.6, 67.94999999999993, '\\n  (...)  \\n'),\n",
       " Text(2790.0, 203.8499999999999, 'Hour <= 0.804\\nmse = 7954733.567\\nsamples = 5491\\nvalue = 2368.262'),\n",
       " Text(2734.2, 67.94999999999993, '\\n  (...)  \\n'),\n",
       " Text(2845.7999999999997, 67.94999999999993, '\\n  (...)  \\n'),\n",
       " Text(3124.7999999999997, 339.74999999999994, 'dropoff_latitude <= 0.732\\nmse = 6862708.199\\nsamples = 13360\\nvalue = 1201.565'),\n",
       " Text(3013.2, 203.8499999999999, 'Hour <= 0.239\\nmse = 6639611.515\\nsamples = 11673\\nvalue = 1104.032'),\n",
       " Text(2957.3999999999996, 67.94999999999993, '\\n  (...)  \\n'),\n",
       " Text(3069.0, 67.94999999999993, '\\n  (...)  \\n'),\n",
       " Text(3236.3999999999996, 203.8499999999999, 'pickup_latitude <= 0.364\\nmse = 7885139.071\\nsamples = 1687\\nvalue = 1876.427'),\n",
       " Text(3180.6, 67.94999999999993, '\\n  (...)  \\n'),\n",
       " Text(3292.2, 67.94999999999993, '\\n  (...)  \\n')]"
      ]
     },
     "execution_count": 83,
     "metadata": {},
     "output_type": "execute_result"
    },
    {
     "data": {
      "image/png": "[encoded data removed]",
      "text/plain": [
       "<Figure size 4320x1080 with 1 Axes>"
      ]
     },
     "metadata": {
      "needs_background": "light"
     },
     "output_type": "display_data"
    }
   ],
   "source": [
    "plt.figure(figsize=(60,15))\n",
    "plot_tree(model2,max_depth=4,feature_names=X.columns,impurity=True,filled=True)"
   ]
  },
  {
   "cell_type": "code",
   "execution_count": 84,
   "metadata": {
    "colab": {
     "base_uri": "https://localhost:8080/",
     "height": 137
    },
    "executionInfo": {
     "elapsed": 4091,
     "status": "ok",
     "timestamp": 1635308135374,
     "user": {
      "displayName": "Nouhaila Bouanane",
      "photoUrl": "https://lh3.googleusercontent.com/a-/AOh14Gibt5TeymiB1HISp8umASDl5e8Z0WKFiZZfiJER=s64",
      "userId": "14306738336085774049"
     },
     "user_tz": -180
    },
    "id": "wLB8XQ24B71A",
    "outputId": "dbb75fa6-b45d-49d6-a4fe-20fddc46c3c4"
   },
   "outputs": [
    {
     "data": {
      "application/vnd.google.colaboratory.intrinsic+json": {
       "type": "string"
      },
      "text/plain": [
       "'|--- pickup_longitude <= 0.79\\n|   |--- dropoff_longitude <= 0.79\\n|   |   |--- dropoff_latitude <= 0.73\\n|   |   |   |--- pickup_latitude <= 0.36\\n|   |   |   |   |--- dropoff_latitude <= 0.73\\n|   |   |   |   |   |--- pickup_latitude <= 0.36\\n|   |   |   |   |   |   |--- dropoff_latitude <= 0.72\\n|   |   |   |   |   |   |   |--- dropoff_latitude <= 0.72\\n|   |   |   |   |   |   |   |   |--- pickup_latitude <= 0.36\\n|   |   |   |   |   |   |   |   |   |--- truncated branch of depth 29\\n|   |   |   |   |   |   |   |   |--- pickup_latitude >  0.36\\n|   |   |   |   |   |   |   |   |   |--- truncated branch of depth 25\\n|   |   |   |   |   |   |   |--- dropoff_latitude >  0.72\\n|   |   |   |   |   |   |   |   |--- Hour <= 0.11\\n|   |   |   |   |   |   |   |   |   |--- value: [77473.00]\\n|   |   |   |   |   |   |   |   |--- Hour >  0.11\\n|   |   |   |   |   |   |   |   |   |--- truncated branch of depth 4\\n|   |   |   |   |   |   |--- dropoff_latitude >  0.72\\n|   |   |   |   |   |   |   |--- dropoff_longitude <= 0.79\\n|   |   |   |   |   |   |   |   |--- pickup_longitude <= 0.79\\n|   |   |   |   |   |   |   |   |   |--- truncated branch of depth 36\\n|   |   |   |   |   |   |   |   |--- pickup_longitude >  0.79\\n|   |   |   |   |   |   |   |   |   |--- truncated branch of depth 15\\n|   |   |   |   |   |   |   |--- dropoff_longitude >  0.79\\n|   |   |   |   |   |   |   |   |--- dropoff_longitude <= 0.79\\n|   |   |   |   |   |   |   |   |   |--- truncated branch of depth 16\\n|   |   |   |   |   |   |   |   |--- dropoff_longitude >  0.79\\n|   |   |   |   |   |   |   |   |   |--- truncated branch of depth 28\\n|   |   |   |   |   |--- pickup_latitude >  0.36\\n|   |   |   |   |   |   |--- dropoff_latitude <= 0.72\\n|   |   |   |   |   |   |   |--- Month <= 0.10\\n|   |   |   |   |   |   |   |   |--- dropoff_latitude <= 0.72\\n|   |   |   |   |   |   |   |   |   |--- truncated branch of depth 19\\n|   |   |   |   |   |   |   |   |--- dropoff_latitude >  0.72\\n|   |   |   |   |   |   |   |   |   |--- truncated branch of depth 7\\n|   |   |   |   |   |   |   |--- Month >  0.10\\n|   |   |   |   |   |   |   |   |--- dropoff_longitude <= 0.79\\n|   |   |   |   |   |   |   |   |   |--- truncated branch of depth 28\\n|   |   |   |   |   |   |   |   |--- dropoff_longitude >  0.79\\n|   |   |   |   |   |   |   |   |   |--- truncated branch of depth 26\\n|   |   |   |   |   |   |--- dropoff_latitude >  0.72\\n|   |   |   |   |   |   |   |--- dropoff_longitude <= 0.79\\n|   |   |   |   |   |   |   |   |--- dropoff_latitude <= 0.72\\n|   |   |   |   |   |   |   |   |   |--- truncated branch of depth 7\\n|   |   |   |   |   |   |   |   |--- dropoff_latitude >  0.72\\n|   |   |   |   |   |   |   |   |   |--- truncated branch of depth 20\\n|   |   |   |   |   |   |   |--- dropoff_longitude >  0.79\\n|   |   |   |   |   |   |   |   |--- dropoff_longitude <= 0.79\\n|   |   |   |   |   |   |   |   |   |--- truncated branch of depth 32\\n|   |   |   |   |   |   |   |   |--- dropoff_longitude >  0.79\\n|   |   |   |   |   |   |   |   |   |--- truncated branch of depth 22\\n|   |   |   |   |--- dropoff_latitude >  0.73\\n|   |   |   |   |   |--- Hour <= 0.80\\n|   |   |   |   |   |   |--- Day <= 0.22\\n|   |   |   |   |   |   |   |--- value: [929.00]\\n|   |   |   |   |   |   |--- Day >  0.22\\n|   |   |   |   |   |   |   |--- value: [898.00]\\n|   |   |   |   |   |--- Hour >  0.80\\n|   |   |   |   |   |   |--- value: [84977.00]\\n|   |   |   |--- pickup_latitude >  0.36\\n|   |   |   |   |--- pickup_latitude <= 0.36\\n|   |   |   |   |   |--- dropoff_longitude <= 0.79\\n|   |   |   |   |   |   |--- value: [86142.00]\\n|   |   |   |   |   |--- dropoff_longitude >  0.79\\n|   |   |   |   |   |   |--- Month <= 0.50\\n|   |   |   |   |   |   |   |--- value: [2145.00]\\n|   |   |   |   |   |   |--- Month >  0.50\\n|   |   |   |   |   |   |   |--- pickup_longitude <= 0.79\\n|   |   |   |   |   |   |   |   |--- value: [1615.00]\\n|   |   |   |   |   |   |   |--- pickup_longitude >  0.79\\n|   |   |   |   |   |   |   |   |--- value: [1570.00]\\n|   |   |   |   |--- pickup_latitude >  0.36\\n|   |   |   |   |   |--- pickup_latitude <= 0.36\\n|   |   |   |   |   |   |--- dropoff_longitude <= 0.79\\n|   |   |   |   |   |   |   |--- dropoff_longitude <= 0.79\\n|   |   |   |   |   |   |   |   |--- dropoff_latitude <= 0.73\\n|   |   |   |   |   |   |   |   |   |--- truncated branch of depth 26\\n|   |   |   |   |   |   |   |   |--- dropoff_latitude >  0.73\\n|   |   |   |   |   |   |   |   |   |--- truncated branch of depth 8\\n|   |   |   |   |   |   |   |--- dropoff_longitude >  0.79\\n|   |   |   |   |   |   |   |   |--- value: [86348.00]\\n|   |   |   |   |   |   |--- dropoff_longitude >  0.79\\n|   |   |   |   |   |   |   |--- dropoff_latitude <= 0.72\\n|   |   |   |   |   |   |   |   |--- dropoff_latitude <= 0.72\\n|   |   |   |   |   |   |   |   |   |--- truncated branch of depth 31\\n|   |   |   |   |   |   |   |   |--- dropoff_latitude >  0.72\\n|   |   |   |   |   |   |   |   |   |--- truncated branch of depth 2\\n|   |   |   |   |   |   |   |--- dropoff_latitude >  0.72\\n|   |   |   |   |   |   |   |   |--- dropoff_longitude <= 0.79\\n|   |   |   |   |   |   |   |   |   |--- truncated branch of depth 30\\n|   |   |   |   |   |   |   |   |--- dropoff_longitude >  0.79\\n|   |   |   |   |   |   |   |   |   |--- truncated branch of depth 31\\n|   |   |   |   |   |--- pickup_latitude >  0.36\\n|   |   |   |   |   |   |--- pickup_latitude <= 0.36\\n|   |   |   |   |   |   |   |--- Day <= 0.57\\n|   |   |   |   |   |   |   |   |--- value: [2122.00]\\n|   |   |   |   |   |   |   |--- Day >  0.57\\n|   |   |   |   |   |   |   |   |--- value: [85995.00]\\n|   |   |   |   |   |   |--- pickup_latitude >  0.36\\n|   |   |   |   |   |   |   |--- dropoff_longitude <= 0.79\\n|   |   |   |   |   |   |   |   |--- dropoff_longitude <= 0.79\\n|   |   |   |   |   |   |   |   |   |--- truncated branch of depth 32\\n|   |   |   |   |   |   |   |   |--- dropoff_longitude >  0.79\\n|   |   |   |   |   |   |   |   |   |--- truncated branch of depth 4\\n|   |   |   |   |   |   |   |--- dropoff_longitude >  0.79\\n|   |   |   |   |   |   |   |   |--- dropoff_longitude <= 0.79\\n|   |   |   |   |   |   |   |   |   |--- truncated branch of depth 34\\n|   |   |   |   |   |   |   |   |--- dropoff_longitude >  0.79\\n|   |   |   |   |   |   |   |   |   |--- truncated branch of depth 29\\n|   |   |--- dropoff_latitude >  0.73\\n|   |   |   |--- dropoff_latitude <= 0.73\\n|   |   |   |   |--- pickup_latitude <= 0.36\\n|   |   |   |   |   |--- pickup_latitude <= 0.36\\n|   |   |   |   |   |   |--- dropoff_longitude <= 0.79\\n|   |   |   |   |   |   |   |--- pickup_longitude <= 0.79\\n|   |   |   |   |   |   |   |   |--- dropoff_longitude <= 0.79\\n|   |   |   |   |   |   |   |   |   |--- truncated branch of depth 43\\n|   |   |   |   |   |   |   |   |--- dropoff_longitude >  0.79\\n|   |   |   |   |   |   |   |   |   |--- truncated branch of depth 38\\n|   |   |   |   |   |   |   |--- pickup_longitude >  0.79\\n|   |   |   |   |   |   |   |   |--- dropoff_longitude <= 0.79\\n|   |   |   |   |   |   |   |   |   |--- truncated branch of depth 37\\n|   |   |   |   |   |   |   |   |--- dropoff_longitude >  0.79\\n|   |   |   |   |   |   |   |   |   |--- truncated branch of depth 31\\n|   |   |   |   |   |   |--- dropoff_longitude >  0.79\\n|   |   |   |   |   |   |   |--- pickup_longitude <= 0.79\\n|   |   |   |   |   |   |   |   |--- pickup_longitude <= 0.79\\n|   |   |   |   |   |   |   |   |   |--- truncated branch of depth 41\\n|   |   |   |   |   |   |   |   |--- pickup_longitude >  0.79\\n|   |   |   |   |   |   |   |   |   |--- truncated branch of depth 6\\n|   |   |   |   |   |   |   |--- pickup_longitude >  0.79\\n|   |   |   |   |   |   |   |   |--- pickup_longitude <= 0.79\\n|   |   |   |   |   |   |   |   |   |--- truncated branch of depth 32\\n|   |   |   |   |   |   |   |   |--- pickup_longitude >  0.79\\n|   |   |   |   |   |   |   |   |   |--- truncated branch of depth 20\\n|   |   |   |   |   |--- pickup_latitude >  0.36\\n|   |   |   |   |   |   |--- dropoff_longitude <= 0.79\\n|   |   |   |   |   |   |   |--- dropoff_latitude <= 0.73\\n|   |   |   |   |   |   |   |   |--- pickup_latitude <= 0.36\\n|   |   |   |   |   |   |   |   |   |--- truncated branch of depth 8\\n|   |   |   |   |   |   |   |   |--- pickup_latitude >  0.36\\n|   |   |   |   |   |   |   |   |   |--- truncated branch of depth 44\\n|   |   |   |   |   |   |   |--- dropoff_latitude >  0.73\\n|   |   |   |   |   |   |   |   |--- pickup_longitude <= 0.79\\n|   |   |   |   |   |   |   |   |   |--- value: [86264.00]\\n|   |   |   |   |   |   |   |   |--- pickup_longitude >  0.79\\n|   |   |   |   |   |   |   |   |   |--- truncated branch of depth 5\\n|   |   |   |   |   |   |--- dropoff_longitude >  0.79\\n|   |   |   |   |   |   |   |--- dropoff_longitude <= 0.79\\n|   |   |   |   |   |   |   |   |--- Hour <= 0.98\\n|   |   |   |   |   |   |   |   |   |--- truncated branch of depth 9\\n|   |   |   |   |   |   |   |   |--- Hour >  0.98\\n|   |   |   |   |   |   |   |   |   |--- value: [86283.00]\\n|   |   |   |   |   |   |   |--- dropoff_longitude >  0.79\\n|   |   |   |   |   |   |   |   |--- Day <= 0.98\\n|   |   |   |   |   |   |   |   |   |--- truncated branch of depth 27\\n|   |   |   |   |   |   |   |   |--- Day >  0.98\\n|   |   |   |   |   |   |   |   |   |--- truncated branch of depth 9\\n|   |   |   |   |--- pickup_latitude >  0.36\\n|   |   |   |   |   |--- pickup_latitude <= 0.36\\n|   |   |   |   |   |   |--- pickup_latitude <= 0.36\\n|   |   |   |   |   |   |   |--- pickup_longitude <= 0.79\\n|   |   |   |   |   |   |   |   |--- value: [85330.00]\\n|   |   |   |   |   |   |   |--- pickup_longitude >  0.79\\n|   |   |   |   |   |   |   |   |--- dropoff_latitude <= 0.73\\n|   |   |   |   |   |   |   |   |   |--- value: [1691.00]\\n|   |   |   |   |   |   |   |   |--- dropoff_latitude >  0.73\\n|   |   |   |   |   |   |   |   |   |--- truncated branch of depth 6\\n|   |   |   |   |   |   |--- pickup_latitude >  0.36\\n|   |   |   |   |   |   |   |--- dropoff_longitude <= 0.79\\n|   |   |   |   |   |   |   |   |--- Hour <= 0.33\\n|   |   |   |   |   |   |   |   |   |--- truncated branch of depth 29\\n|   |   |   |   |   |   |   |   |--- Hour >  0.33\\n|   |   |   |   |   |   |   |   |   |--- truncated branch of depth 40\\n|   |   |   |   |   |   |   |--- dropoff_longitude >  0.79\\n|   |   |   |   |   |   |   |   |--- dropoff_longitude <= 0.79\\n|   |   |   |   |   |   |   |   |   |--- value: [86083.00]\\n|   |   |   |   |   |   |   |   |--- dropoff_longitude >  0.79\\n|   |   |   |   |   |   |   |   |   |--- truncated branch of depth 22\\n|   |   |   |   |   |--- pickup_latitude >  0.36\\n|   |   |   |   |   |   |--- pickup_latitude <= 0.36\\n|   |   |   |   |   |   |   |--- pickup_longitude <= 0.79\\n|   |   |   |   |   |   |   |   |--- dropoff_latitude <= 0.73\\n|   |   |   |   |   |   |   |   |   |--- truncated branch of depth 4\\n|   |   |   |   |   |   |   |   |--- dropoff_latitude >  0.73\\n|   |   |   |   |   |   |   |   |   |--- truncated branch of depth 2\\n|   |   |   |   |   |   |   |--- pickup_longitude >  0.79\\n|   |   |   |   |   |   |   |   |--- value: [85263.00]\\n|   |   |   |   |   |   |--- pickup_latitude >  0.36\\n|   |   |   |   |   |   |   |--- dropoff_longitude <= 0.79\\n|   |   |   |   |   |   |   |   |--- Hour <= 0.33\\n|   |   |   |   |   |   |   |   |   |--- truncated branch of depth 31\\n|   |   |   |   |   |   |   |   |--- Hour >  0.33\\n|   |   |   |   |   |   |   |   |   |--- truncated branch of depth 43\\n|   |   |   |   |   |   |   |--- dropoff_longitude >  0.79\\n|   |   |   |   |   |   |   |   |--- dropoff_latitude <= 0.73\\n|   |   |   |   |   |   |   |   |   |--- truncated branch of depth 12\\n|   |   |   |   |   |   |   |   |--- dropoff_latitude >  0.73\\n|   |   |   |   |   |   |   |   |   |--- value: [85889.00]\\n|   |   |   |--- dropoff_latitude >  0.73\\n|   |   |   |   |--- pickup_latitude <= 0.36\\n|   |   |   |   |   |--- dropoff_latitude <= 0.73\\n|   |   |   |   |   |   |--- pickup_longitude <= 0.79\\n|   |   |   |   |   |   |   |--- Hour <= 0.28\\n|   |   |   |   |   |   |   |   |--- value: [84226.00]\\n|   |   |   |   |   |   |   |--- Hour >  0.28\\n|   |   |   |   |   |   |   |   |--- Hour <= 0.87\\n|   |   |   |   |   |   |   |   |   |--- truncated branch of depth 3\\n|   |   |   |   |   |   |   |   |--- Hour >  0.87\\n|   |   |   |   |   |   |   |   |   |--- value: [3798.00]\\n|   |   |   |   |   |   |--- pickup_longitude >  0.79\\n|   |   |   |   |   |   |   |--- dropoff_longitude <= 0.79\\n|   |   |   |   |   |   |   |   |--- pickup_latitude <= 0.36\\n|   |   |   |   |   |   |   |   |   |--- truncated branch of depth 42\\n|   |   |   |   |   |   |   |   |--- pickup_latitude >  0.36\\n|   |   |   |   |   |   |   |   |   |--- truncated branch of depth 42\\n|   |   |   |   |   |   |   |--- dropoff_longitude >  0.79\\n|   |   |   |   |   |   |   |   |--- Day <= 0.70\\n|   |   |   |   |   |   |   |   |   |--- truncated branch of depth 4\\n|   |   |   |   |   |   |   |   |--- Day >  0.70\\n|   |   |   |   |   |   |   |   |   |--- value: [84615.00]\\n|   |   |   |   |   |--- dropoff_latitude >  0.73\\n|   |   |   |   |   |   |--- dropoff_latitude <= 0.73\\n|   |   |   |   |   |   |   |--- Month <= 0.10\\n|   |   |   |   |   |   |   |   |--- value: [84397.00]\\n|   |   |   |   |   |   |   |--- Month >  0.10\\n|   |   |   |   |   |   |   |   |--- Month <= 0.60\\n|   |   |   |   |   |   |   |   |   |--- value: [1500.00]\\n|   |   |   |   |   |   |   |   |--- Month >  0.60\\n|   |   |   |   |   |   |   |   |   |--- value: [667.00]\\n|   |   |   |   |   |   |--- dropoff_latitude >  0.73\\n|   |   |   |   |   |   |   |--- pickup_longitude <= 0.79\\n|   |   |   |   |   |   |   |   |--- dropoff_latitude <= 0.73\\n|   |   |   |   |   |   |   |   |   |--- truncated branch of depth 41\\n|   |   |   |   |   |   |   |   |--- dropoff_latitude >  0.73\\n|   |   |   |   |   |   |   |   |   |--- truncated branch of depth 37\\n|   |   |   |   |   |   |   |--- pickup_longitude >  0.79\\n|   |   |   |   |   |   |   |   |--- pickup_longitude <= 0.79\\n|   |   |   |   |   |   |   |   |   |--- value: [86262.00]\\n|   |   |   |   |   |   |   |   |--- pickup_longitude >  0.79\\n|   |   |   |   |   |   |   |   |   |--- truncated branch of depth 7\\n|   |   |   |   |--- pickup_latitude >  0.36\\n|   |   |   |   |   |--- dropoff_longitude <= 0.79\\n|   |   |   |   |   |   |--- pickup_longitude <= 0.79\\n|   |   |   |   |   |   |   |--- Hour <= 0.33\\n|   |   |   |   |   |   |   |   |--- pickup_latitude <= 0.36\\n|   |   |   |   |   |   |   |   |   |--- truncated branch of depth 44\\n|   |   |   |   |   |   |   |   |--- pickup_latitude >  0.36\\n|   |   |   |   |   |   |   |   |   |--- truncated branch of depth 47\\n|   |   |   |   |   |   |   |--- Hour >  0.33\\n|   |   |   |   |   |   |   |   |--- dropoff_latitude <= 0.73\\n|   |   |   |   |   |   |   |   |   |--- truncated branch of depth 55\\n|   |   |   |   |   |   |   |   |--- dropoff_latitude >  0.73\\n|   |   |   |   |   |   |   |   |   |--- truncated branch of depth 56\\n|   |   |   |   |   |   |--- pickup_longitude >  0.79\\n|   |   |   |   |   |   |   |--- pickup_longitude <= 0.79\\n|   |   |   |   |   |   |   |   |--- pickup_latitude <= 0.36\\n|   |   |   |   |   |   |   |   |   |--- value: [2049578.00]\\n|   |   |   |   |   |   |   |   |--- pickup_latitude >  0.36\\n|   |   |   |   |   |   |   |   |   |--- truncated branch of depth 12\\n|   |   |   |   |   |   |   |--- pickup_longitude >  0.79\\n|   |   |   |   |   |   |   |   |--- dropoff_longitude <= 0.79\\n|   |   |   |   |   |   |   |   |   |--- truncated branch of depth 9\\n|   |   |   |   |   |   |   |   |--- dropoff_longitude >  0.79\\n|   |   |   |   |   |   |   |   |   |--- truncated branch of depth 26\\n|   |   |   |   |   |--- dropoff_longitude >  0.79\\n|   |   |   |   |   |   |--- pickup_longitude <= 0.79\\n|   |   |   |   |   |   |   |--- pickup_longitude <= 0.79\\n|   |   |   |   |   |   |   |   |--- Hour <= 0.54\\n|   |   |   |   |   |   |   |   |   |--- truncated branch of depth 33\\n|   |   |   |   |   |   |   |   |--- Hour >  0.54\\n|   |   |   |   |   |   |   |   |   |--- truncated branch of depth 34\\n|   |   |   |   |   |   |   |--- pickup_longitude >  0.79\\n|   |   |   |   |   |   |   |   |--- Hour <= 0.33\\n|   |   |   |   |   |   |   |   |   |--- truncated branch of depth 26\\n|   |   |   |   |   |   |   |   |--- Hour >  0.33\\n|   |   |   |   |   |   |   |   |   |--- truncated branch of depth 26\\n|   |   |   |   |   |   |--- pickup_longitude >  0.79\\n|   |   |   |   |   |   |   |--- pickup_longitude <= 0.79\\n|   |   |   |   |   |   |   |   |--- dropoff_latitude <= 0.73\\n|   |   |   |   |   |   |   |   |   |--- truncated branch of depth 32\\n|   |   |   |   |   |   |   |   |--- dropoff_latitude >  0.73\\n|   |   |   |   |   |   |   |   |   |--- truncated branch of depth 31\\n|   |   |   |   |   |   |   |--- pickup_longitude >  0.79\\n|   |   |   |   |   |   |   |   |--- dropoff_latitude <= 0.73\\n|   |   |   |   |   |   |   |   |   |--- truncated branch of depth 40\\n|   |   |   |   |   |   |   |   |--- dropoff_latitude >  0.73\\n|   |   |   |   |   |   |   |   |   |--- truncated branch of depth 33\\n|   |--- dropoff_longitude >  0.79\\n|   |   |--- dropoff_longitude <= 0.79\\n|   |   |   |--- pickup_longitude <= 0.79\\n|   |   |   |   |--- Hour <= 0.54\\n|   |   |   |   |   |--- dropoff_latitude <= 0.73\\n|   |   |   |   |   |   |--- dropoff_latitude <= 0.73\\n|   |   |   |   |   |   |   |--- pickup_latitude <= 0.36\\n|   |   |   |   |   |   |   |   |--- pickup_longitude <= 0.79\\n|   |   |   |   |   |   |   |   |   |--- truncated branch of depth 21\\n|   |   |   |   |   |   |   |   |--- pickup_longitude >  0.79\\n|   |   |   |   |   |   |   |   |   |--- truncated branch of depth 17\\n|   |   |   |   |   |   |   |--- pickup_latitude >  0.36\\n|   |   |   |   |   |   |   |   |--- pickup_latitude <= 0.36\\n|   |   |   |   |   |   |   |   |   |--- value: [84741.00]\\n|   |   |   |   |   |   |   |   |--- pickup_latitude >  0.36\\n|   |   |   |   |   |   |   |   |   |--- truncated branch of depth 22\\n|   |   |   |   |   |   |--- dropoff_latitude >  0.73\\n|   |   |   |   |   |   |   |--- pickup_longitude <= 0.79\\n|   |   |   |   |   |   |   |   |--- value: [3433.00]\\n|   |   |   |   |   |   |   |--- pickup_longitude >  0.79\\n|   |   |   |   |   |   |   |   |--- value: [86314.00]\\n|   |   |   |   |   |--- dropoff_latitude >  0.73\\n|   |   |   |   |   |   |--- Hour <= 0.28\\n|   |   |   |   |   |   |   |--- dropoff_latitude <= 0.74\\n|   |   |   |   |   |   |   |   |--- dropoff_longitude <= 0.79\\n|   |   |   |   |   |   |   |   |   |--- truncated branch of depth 33\\n|   |   |   |   |   |   |   |   |--- dropoff_longitude >  0.79\\n|   |   |   |   |   |   |   |   |   |--- truncated branch of depth 22\\n|   |   |   |   |   |   |   |--- dropoff_latitude >  0.74\\n|   |   |   |   |   |   |   |   |--- dropoff_latitude <= 0.74\\n|   |   |   |   |   |   |   |   |   |--- value: [85504.00]\\n|   |   |   |   |   |   |   |   |--- dropoff_latitude >  0.74\\n|   |   |   |   |   |   |   |   |   |--- truncated branch of depth 23\\n|   |   |   |   |   |   |--- Hour >  0.28\\n|   |   |   |   |   |   |   |--- pickup_longitude <= 0.79\\n|   |   |   |   |   |   |   |   |--- pickup_longitude <= 0.79\\n|   |   |   |   |   |   |   |   |   |--- truncated branch of depth 26\\n|   |   |   |   |   |   |   |   |--- pickup_longitude >  0.79\\n|   |   |   |   |   |   |   |   |   |--- truncated branch of depth 5\\n|   |   |   |   |   |   |   |--- pickup_longitude >  0.79\\n|   |   |   |   |   |   |   |   |--- pickup_latitude <= 0.37\\n|   |   |   |   |   |   |   |   |   |--- truncated branch of depth 29\\n|   |   |   |   |   |   |   |   |--- pickup_latitude >  0.37\\n|   |   |   |   |   |   |   |   |   |--- truncated branch of depth 35\\n|   |   |   |   |--- Hour >  0.54\\n|   |   |   |   |   |--- dropoff_latitude <= 0.73\\n|   |   |   |   |   |   |--- dropoff_latitude <= 0.73\\n|   |   |   |   |   |   |   |--- Day <= 0.98\\n|   |   |   |   |   |   |   |   |--- pickup_longitude <= 0.79\\n|   |   |   |   |   |   |   |   |   |--- truncated branch of depth 10\\n|   |   |   |   |   |   |   |   |--- pickup_longitude >  0.79\\n|   |   |   |   |   |   |   |   |   |--- truncated branch of depth 21\\n|   |   |   |   |   |   |   |--- Day >  0.98\\n|   |   |   |   |   |   |   |   |--- pickup_longitude <= 0.79\\n|   |   |   |   |   |   |   |   |   |--- value: [86295.00]\\n|   |   |   |   |   |   |   |   |--- pickup_longitude >  0.79\\n|   |   |   |   |   |   |   |   |   |--- truncated branch of depth 5\\n|   |   |   |   |   |   |--- dropoff_latitude >  0.73\\n|   |   |   |   |   |   |   |--- Day <= 0.72\\n|   |   |   |   |   |   |   |   |--- value: [2163.00]\\n|   |   |   |   |   |   |   |--- Day >  0.72\\n|   |   |   |   |   |   |   |   |--- value: [86148.00]\\n|   |   |   |   |   |--- dropoff_latitude >  0.73\\n|   |   |   |   |   |   |--- Hour <= 0.80\\n|   |   |   |   |   |   |   |--- pickup_longitude <= 0.79\\n|   |   |   |   |   |   |   |   |--- pickup_longitude <= 0.79\\n|   |   |   |   |   |   |   |   |   |--- truncated branch of depth 31\\n|   |   |   |   |   |   |   |   |--- pickup_longitude >  0.79\\n|   |   |   |   |   |   |   |   |   |--- truncated branch of depth 7\\n|   |   |   |   |   |   |   |--- pickup_longitude >  0.79\\n|   |   |   |   |   |   |   |   |--- dropoff_latitude <= 0.74\\n|   |   |   |   |   |   |   |   |   |--- truncated branch of depth 32\\n|   |   |   |   |   |   |   |   |--- dropoff_latitude >  0.74\\n|   |   |   |   |   |   |   |   |   |--- truncated branch of depth 15\\n|   |   |   |   |   |   |--- Hour >  0.80\\n|   |   |   |   |   |   |   |--- pickup_longitude <= 0.79\\n|   |   |   |   |   |   |   |   |--- pickup_longitude <= 0.79\\n|   |   |   |   |   |   |   |   |   |--- truncated branch of depth 29\\n|   |   |   |   |   |   |   |   |--- pickup_longitude >  0.79\\n|   |   |   |   |   |   |   |   |   |--- truncated branch of depth 26\\n|   |   |   |   |   |   |   |--- pickup_longitude >  0.79\\n|   |   |   |   |   |   |   |   |--- dropoff_longitude <= 0.79\\n|   |   |   |   |   |   |   |   |   |--- value: [85555.00]\\n|   |   |   |   |   |   |   |   |--- dropoff_longitude >  0.79\\n|   |   |   |   |   |   |   |   |   |--- truncated branch of depth 4\\n|   |   |   |--- pickup_longitude >  0.79\\n|   |   |   |   |--- pickup_longitude <= 0.79\\n|   |   |   |   |   |--- pickup_longitude <= 0.79\\n|   |   |   |   |   |   |--- dropoff_latitude <= 0.72\\n|   |   |   |   |   |   |   |--- dropoff_latitude <= 0.72\\n|   |   |   |   |   |   |   |   |--- pickup_latitude <= 0.37\\n|   |   |   |   |   |   |   |   |   |--- truncated branch of depth 8\\n|   |   |   |   |   |   |   |   |--- pickup_latitude >  0.37\\n|   |   |   |   |   |   |   |   |   |--- truncated branch of depth 2\\n|   |   |   |   |   |   |   |--- dropoff_latitude >  0.72\\n|   |   |   |   |   |   |   |   |--- value: [56467.00]\\n|   |   |   |   |   |   |--- dropoff_latitude >  0.72\\n|   |   |   |   |   |   |   |--- Hour <= 0.50\\n|   |   |   |   |   |   |   |   |--- dropoff_longitude <= 0.79\\n|   |   |   |   |   |   |   |   |   |--- truncated branch of depth 31\\n|   |   |   |   |   |   |   |   |--- dropoff_longitude >  0.79\\n|   |   |   |   |   |   |   |   |   |--- truncated branch of depth 17\\n|   |   |   |   |   |   |   |--- Hour >  0.50\\n|   |   |   |   |   |   |   |   |--- dropoff_longitude <= 0.79\\n|   |   |   |   |   |   |   |   |   |--- truncated branch of depth 22\\n|   |   |   |   |   |   |   |   |--- dropoff_longitude >  0.79\\n|   |   |   |   |   |   |   |   |   |--- truncated branch of depth 19\\n|   |   |   |   |   |--- pickup_longitude >  0.79\\n|   |   |   |   |   |   |--- Month <= 0.10\\n|   |   |   |   |   |   |   |--- pickup_latitude <= 0.37\\n|   |   |   |   |   |   |   |   |--- value: [1723.00]\\n|   |   |   |   |   |   |   |--- pickup_latitude >  0.37\\n|   |   |   |   |   |   |   |   |--- value: [81681.00]\\n|   |   |   |   |   |   |--- Month >  0.10\\n|   |   |   |   |   |   |   |--- pickup_latitude <= 0.37\\n|   |   |   |   |   |   |   |   |--- Day <= 0.30\\n|   |   |   |   |   |   |   |   |   |--- truncated branch of depth 3\\n|   |   |   |   |   |   |   |   |--- Day >  0.30\\n|   |   |   |   |   |   |   |   |   |--- truncated branch of depth 2\\n|   |   |   |   |   |   |   |--- pickup_latitude >  0.37\\n|   |   |   |   |   |   |   |   |--- pickup_latitude <= 0.37\\n|   |   |   |   |   |   |   |   |   |--- value: [429.00]\\n|   |   |   |   |   |   |   |   |--- pickup_latitude >  0.37\\n|   |   |   |   |   |   |   |   |   |--- value: [695.00]\\n|   |   |   |   |--- pickup_longitude >  0.79\\n|   |   |   |   |   |--- dropoff_longitude <= 0.79\\n|   |   |   |   |   |   |--- pickup_longitude <= 0.79\\n|   |   |   |   |   |   |   |--- pickup_longitude <= 0.79\\n|   |   |   |   |   |   |   |   |--- pickup_latitude <= 0.36\\n|   |   |   |   |   |   |   |   |   |--- truncated branch of depth 12\\n|   |   |   |   |   |   |   |   |--- pickup_latitude >  0.36\\n|   |   |   |   |   |   |   |   |   |--- truncated branch of depth 24\\n|   |   |   |   |   |   |   |--- pickup_longitude >  0.79\\n|   |   |   |   |   |   |   |   |--- Hour <= 0.04\\n|   |   |   |   |   |   |   |   |   |--- value: [84613.00]\\n|   |   |   |   |   |   |   |   |--- Hour >  0.04\\n|   |   |   |   |   |   |   |   |   |--- truncated branch of depth 4\\n|   |   |   |   |   |   |--- pickup_longitude >  0.79\\n|   |   |   |   |   |   |   |--- dropoff_longitude <= 0.79\\n|   |   |   |   |   |   |   |   |--- dropoff_latitude <= 0.73\\n|   |   |   |   |   |   |   |   |   |--- truncated branch of depth 16\\n|   |   |   |   |   |   |   |   |--- dropoff_latitude >  0.73\\n|   |   |   |   |   |   |   |   |   |--- truncated branch of depth 26\\n|   |   |   |   |   |   |   |--- dropoff_longitude >  0.79\\n|   |   |   |   |   |   |   |   |--- dropoff_longitude <= 0.79\\n|   |   |   |   |   |   |   |   |   |--- truncated branch of depth 24\\n|   |   |   |   |   |   |   |   |--- dropoff_longitude >  0.79\\n|   |   |   |   |   |   |   |   |   |--- truncated branch of depth 18\\n|   |   |   |   |   |--- dropoff_longitude >  0.79\\n|   |   |   |   |   |   |--- dropoff_longitude <= 0.79\\n|   |   |   |   |   |   |   |--- value: [85021.00]\\n|   |   |   |   |   |   |--- dropoff_longitude >  0.79\\n|   |   |   |   |   |   |   |--- Day <= 0.02\\n|   |   |   |   |   |   |   |   |--- pickup_longitude <= 0.79\\n|   |   |   |   |   |   |   |   |   |--- truncated branch of depth 8\\n|   |   |   |   |   |   |   |   |--- pickup_longitude >  0.79\\n|   |   |   |   |   |   |   |   |   |--- truncated branch of depth 4\\n|   |   |   |   |   |   |   |--- Day >  0.02\\n|   |   |   |   |   |   |   |   |--- dropoff_latitude <= 0.73\\n|   |   |   |   |   |   |   |   |   |--- truncated branch of depth 12\\n|   |   |   |   |   |   |   |   |--- dropoff_latitude >  0.73\\n|   |   |   |   |   |   |   |   |   |--- truncated branch of depth 19\\n|   |   |--- dropoff_longitude >  0.79\\n|   |   |   |--- dropoff_longitude <= 0.79\\n|   |   |   |   |--- value: [86171.00]\\n|   |   |   |--- dropoff_longitude >  0.79\\n|   |   |   |   |--- Hour <= 0.54\\n|   |   |   |   |   |--- pickup_latitude <= 0.33\\n|   |   |   |   |   |   |--- value: [23440.00]\\n|   |   |   |   |   |--- pickup_latitude >  0.33\\n|   |   |   |   |   |   |--- Hour <= 0.33\\n|   |   |   |   |   |   |   |--- Hour <= 0.07\\n|   |   |   |   |   |   |   |   |--- pickup_longitude <= 0.79\\n|   |   |   |   |   |   |   |   |   |--- truncated branch of depth 20\\n|   |   |   |   |   |   |   |   |--- pickup_longitude >  0.79\\n|   |   |   |   |   |   |   |   |   |--- truncated branch of depth 12\\n|   |   |   |   |   |   |   |--- Hour >  0.07\\n|   |   |   |   |   |   |   |   |--- dropoff_latitude <= 0.72\\n|   |   |   |   |   |   |   |   |   |--- truncated branch of depth 26\\n|   |   |   |   |   |   |   |   |--- dropoff_latitude >  0.72\\n|   |   |   |   |   |   |   |   |   |--- truncated branch of depth 34\\n|   |   |   |   |   |   |--- Hour >  0.33\\n|   |   |   |   |   |   |   |--- dropoff_longitude <= 0.80\\n|   |   |   |   |   |   |   |   |--- pickup_longitude <= 0.79\\n|   |   |   |   |   |   |   |   |   |--- truncated branch of depth 32\\n|   |   |   |   |   |   |   |   |--- pickup_longitude >  0.79\\n|   |   |   |   |   |   |   |   |   |--- truncated branch of depth 10\\n|   |   |   |   |   |   |   |--- dropoff_longitude >  0.80\\n|   |   |   |   |   |   |   |   |--- dropoff_longitude <= 0.80\\n|   |   |   |   |   |   |   |   |   |--- truncated branch of depth 2\\n|   |   |   |   |   |   |   |   |--- dropoff_longitude >  0.80\\n|   |   |   |   |   |   |   |   |   |--- truncated branch of depth 10\\n|   |   |   |   |--- Hour >  0.54\\n|   |   |   |   |   |--- Hour <= 0.80\\n|   |   |   |   |   |   |--- Hour <= 0.63\\n|   |   |   |   |   |   |   |--- dropoff_longitude <= 0.79\\n|   |   |   |   |   |   |   |   |--- Month <= 0.80\\n|   |   |   |   |   |   |   |   |   |--- truncated branch of depth 3\\n|   |   |   |   |   |   |   |   |--- Month >  0.80\\n|   |   |   |   |   |   |   |   |   |--- value: [85540.00]\\n|   |   |   |   |   |   |   |--- dropoff_longitude >  0.79\\n|   |   |   |   |   |   |   |   |--- Day <= 0.98\\n|   |   |   |   |   |   |   |   |   |--- truncated branch of depth 26\\n|   |   |   |   |   |   |   |   |--- Day >  0.98\\n|   |   |   |   |   |   |   |   |   |--- truncated branch of depth 12\\n|   |   |   |   |   |   |--- Hour >  0.63\\n|   |   |   |   |   |   |   |--- pickup_latitude <= 0.37\\n|   |   |   |   |   |   |   |   |--- pickup_longitude <= 0.79\\n|   |   |   |   |   |   |   |   |   |--- truncated branch of depth 27\\n|   |   |   |   |   |   |   |   |--- pickup_longitude >  0.79\\n|   |   |   |   |   |   |   |   |   |--- truncated branch of depth 28\\n|   |   |   |   |   |   |   |--- pickup_latitude >  0.37\\n|   |   |   |   |   |   |   |   |--- pickup_latitude <= 0.37\\n|   |   |   |   |   |   |   |   |   |--- value: [82134.00]\\n|   |   |   |   |   |   |   |   |--- pickup_latitude >  0.37\\n|   |   |   |   |   |   |   |   |   |--- truncated branch of depth 6\\n|   |   |   |   |   |--- Hour >  0.80\\n|   |   |   |   |   |   |--- dropoff_latitude <= 0.76\\n|   |   |   |   |   |   |   |--- Hour <= 0.89\\n|   |   |   |   |   |   |   |   |--- pickup_longitude <= 0.79\\n|   |   |   |   |   |   |   |   |   |--- truncated branch of depth 30\\n|   |   |   |   |   |   |   |   |--- pickup_longitude >  0.79\\n|   |   |   |   |   |   |   |   |   |--- truncated branch of depth 20\\n|   |   |   |   |   |   |   |--- Hour >  0.89\\n|   |   |   |   |   |   |   |   |--- dropoff_longitude <= 0.80\\n|   |   |   |   |   |   |   |   |   |--- truncated branch of depth 25\\n|   |   |   |   |   |   |   |   |--- dropoff_longitude >  0.80\\n|   |   |   |   |   |   |   |   |   |--- truncated branch of depth 12\\n|   |   |   |   |   |   |--- dropoff_latitude >  0.76\\n|   |   |   |   |   |   |   |--- Month <= 0.10\\n|   |   |   |   |   |   |   |   |--- value: [85828.00]\\n|   |   |   |   |   |   |   |--- Month >  0.10\\n|   |   |   |   |   |   |   |   |--- dropoff_latitude <= 0.77\\n|   |   |   |   |   |   |   |   |   |--- truncated branch of depth 3\\n|   |   |   |   |   |   |   |   |--- dropoff_latitude >  0.77\\n|   |   |   |   |   |   |   |   |   |--- truncated branch of depth 2\\n|--- pickup_longitude >  0.79\\n|   |--- dropoff_longitude <= 0.79\\n|   |   |--- pickup_latitude <= 0.36\\n|   |   |   |--- dropoff_longitude <= 0.79\\n|   |   |   |   |--- pickup_latitude <= 0.36\\n|   |   |   |   |   |--- Hour <= 0.80\\n|   |   |   |   |   |   |--- Hour <= 0.24\\n|   |   |   |   |   |   |   |--- pickup_latitude <= 0.36\\n|   |   |   |   |   |   |   |   |--- pickup_latitude <= 0.36\\n|   |   |   |   |   |   |   |   |   |--- truncated branch of depth 15\\n|   |   |   |   |   |   |   |   |--- pickup_latitude >  0.36\\n|   |   |   |   |   |   |   |   |   |--- value: [83926.00]\\n|   |   |   |   |   |   |   |--- pickup_latitude >  0.36\\n|   |   |   |   |   |   |   |   |--- Hour <= 0.07\\n|   |   |   |   |   |   |   |   |   |--- truncated branch of depth 28\\n|   |   |   |   |   |   |   |   |--- Hour >  0.07\\n|   |   |   |   |   |   |   |   |   |--- truncated branch of depth 25\\n|   |   |   |   |   |   |--- Hour >  0.24\\n|   |   |   |   |   |   |   |--- Month <= 0.70\\n|   |   |   |   |   |   |   |   |--- dropoff_longitude <= 0.79\\n|   |   |   |   |   |   |   |   |   |--- truncated branch of depth 34\\n|   |   |   |   |   |   |   |   |--- dropoff_longitude >  0.79\\n|   |   |   |   |   |   |   |   |   |--- truncated branch of depth 29\\n|   |   |   |   |   |   |   |--- Month >  0.70\\n|   |   |   |   |   |   |   |   |--- pickup_longitude <= 0.79\\n|   |   |   |   |   |   |   |   |   |--- truncated branch of depth 4\\n|   |   |   |   |   |   |   |   |--- pickup_longitude >  0.79\\n|   |   |   |   |   |   |   |   |   |--- truncated branch of depth 33\\n|   |   |   |   |   |--- Hour >  0.80\\n|   |   |   |   |   |   |--- dropoff_longitude <= 0.79\\n|   |   |   |   |   |   |   |--- dropoff_longitude <= 0.79\\n|   |   |   |   |   |   |   |   |--- dropoff_longitude <= 0.79\\n|   |   |   |   |   |   |   |   |   |--- truncated branch of depth 7\\n|   |   |   |   |   |   |   |   |--- dropoff_longitude >  0.79\\n|   |   |   |   |   |   |   |   |   |--- truncated branch of depth 8\\n|   |   |   |   |   |   |   |--- dropoff_longitude >  0.79\\n|   |   |   |   |   |   |   |   |--- value: [85102.00]\\n|   |   |   |   |   |   |--- dropoff_longitude >  0.79\\n|   |   |   |   |   |   |   |--- pickup_latitude <= 0.36\\n|   |   |   |   |   |   |   |   |--- pickup_latitude <= 0.36\\n|   |   |   |   |   |   |   |   |   |--- truncated branch of depth 11\\n|   |   |   |   |   |   |   |   |--- pickup_latitude >  0.36\\n|   |   |   |   |   |   |   |   |   |--- value: [81917.00]\\n|   |   |   |   |   |   |   |--- pickup_latitude >  0.36\\n|   |   |   |   |   |   |   |   |--- Month <= 0.90\\n|   |   |   |   |   |   |   |   |   |--- truncated branch of depth 30\\n|   |   |   |   |   |   |   |   |--- Month >  0.90\\n|   |   |   |   |   |   |   |   |   |--- truncated branch of depth 24\\n|   |   |   |   |--- pickup_latitude >  0.36\\n|   |   |   |   |   |--- pickup_latitude <= 0.36\\n|   |   |   |   |   |   |--- Hour <= 0.93\\n|   |   |   |   |   |   |   |--- dropoff_longitude <= 0.79\\n|   |   |   |   |   |   |   |   |--- dropoff_longitude <= 0.79\\n|   |   |   |   |   |   |   |   |   |--- truncated branch of depth 3\\n|   |   |   |   |   |   |   |   |--- dropoff_longitude >  0.79\\n|   |   |   |   |   |   |   |   |   |--- truncated branch of depth 3\\n|   |   |   |   |   |   |   |--- dropoff_longitude >  0.79\\n|   |   |   |   |   |   |   |   |--- pickup_longitude <= 0.79\\n|   |   |   |   |   |   |   |   |   |--- truncated branch of depth 5\\n|   |   |   |   |   |   |   |   |--- pickup_longitude >  0.79\\n|   |   |   |   |   |   |   |   |   |--- truncated branch of depth 6\\n|   |   |   |   |   |   |--- Hour >  0.93\\n|   |   |   |   |   |   |   |--- Day <= 0.38\\n|   |   |   |   |   |   |   |   |--- dropoff_longitude <= 0.79\\n|   |   |   |   |   |   |   |   |   |--- truncated branch of depth 2\\n|   |   |   |   |   |   |   |   |--- dropoff_longitude >  0.79\\n|   |   |   |   |   |   |   |   |   |--- value: [1438.00]\\n|   |   |   |   |   |   |   |--- Day >  0.38\\n|   |   |   |   |   |   |   |   |--- value: [3526282.00]\\n|   |   |   |   |   |--- pickup_latitude >  0.36\\n|   |   |   |   |   |   |--- dropoff_latitude <= 0.73\\n|   |   |   |   |   |   |   |--- Hour <= 0.85\\n|   |   |   |   |   |   |   |   |--- pickup_latitude <= 0.36\\n|   |   |   |   |   |   |   |   |   |--- truncated branch of depth 28\\n|   |   |   |   |   |   |   |   |--- pickup_latitude >  0.36\\n|   |   |   |   |   |   |   |   |   |--- truncated branch of depth 15\\n|   |   |   |   |   |   |   |--- Hour >  0.85\\n|   |   |   |   |   |   |   |   |--- Month <= 0.70\\n|   |   |   |   |   |   |   |   |   |--- truncated branch of depth 18\\n|   |   |   |   |   |   |   |   |--- Month >  0.70\\n|   |   |   |   |   |   |   |   |   |--- truncated branch of depth 15\\n|   |   |   |   |   |   |--- dropoff_latitude >  0.73\\n|   |   |   |   |   |   |   |--- dropoff_latitude <= 0.73\\n|   |   |   |   |   |   |   |   |--- value: [82826.00]\\n|   |   |   |   |   |   |   |--- dropoff_latitude >  0.73\\n|   |   |   |   |   |   |   |   |--- dropoff_longitude <= 0.79\\n|   |   |   |   |   |   |   |   |   |--- truncated branch of depth 10\\n|   |   |   |   |   |   |   |   |--- dropoff_longitude >  0.79\\n|   |   |   |   |   |   |   |   |   |--- value: [80527.00]\\n|   |   |   |--- dropoff_longitude >  0.79\\n|   |   |   |   |--- Hour <= 0.02\\n|   |   |   |   |   |--- dropoff_longitude <= 0.79\\n|   |   |   |   |   |   |--- value: [1939736.00]\\n|   |   |   |   |   |--- dropoff_longitude >  0.79\\n|   |   |   |   |   |   |--- pickup_latitude <= 0.36\\n|   |   |   |   |   |   |   |--- value: [1910.00]\\n|   |   |   |   |   |   |--- pickup_latitude >  0.36\\n|   |   |   |   |   |   |   |--- dropoff_longitude <= 0.79\\n|   |   |   |   |   |   |   |   |--- pickup_longitude <= 0.79\\n|   |   |   |   |   |   |   |   |   |--- value: [1753.00]\\n|   |   |   |   |   |   |   |   |--- pickup_longitude >  0.79\\n|   |   |   |   |   |   |   |   |   |--- truncated branch of depth 4\\n|   |   |   |   |   |   |   |--- dropoff_longitude >  0.79\\n|   |   |   |   |   |   |   |   |--- Day <= 0.42\\n|   |   |   |   |   |   |   |   |   |--- value: [1654.00]\\n|   |   |   |   |   |   |   |   |--- Day >  0.42\\n|   |   |   |   |   |   |   |   |   |--- truncated branch of depth 2\\n|   |   |   |   |--- Hour >  0.02\\n|   |   |   |   |   |--- Hour <= 0.28\\n|   |   |   |   |   |   |--- pickup_longitude <= 0.79\\n|   |   |   |   |   |   |   |--- value: [62759.00]\\n|   |   |   |   |   |   |--- pickup_longitude >  0.79\\n|   |   |   |   |   |   |   |--- Day <= 0.88\\n|   |   |   |   |   |   |   |   |--- Hour <= 0.24\\n|   |   |   |   |   |   |   |   |   |--- truncated branch of depth 4\\n|   |   |   |   |   |   |   |   |--- Hour >  0.24\\n|   |   |   |   |   |   |   |   |   |--- truncated branch of depth 3\\n|   |   |   |   |   |   |   |--- Day >  0.88\\n|   |   |   |   |   |   |   |   |--- value: [5188.00]\\n|   |   |   |   |   |--- Hour >  0.28\\n|   |   |   |   |   |   |--- pickup_latitude <= 0.36\\n|   |   |   |   |   |   |   |--- Hour <= 0.80\\n|   |   |   |   |   |   |   |   |--- Hour <= 0.33\\n|   |   |   |   |   |   |   |   |   |--- truncated branch of depth 8\\n|   |   |   |   |   |   |   |   |--- Hour >  0.33\\n|   |   |   |   |   |   |   |   |   |--- truncated branch of depth 12\\n|   |   |   |   |   |   |   |--- Hour >  0.80\\n|   |   |   |   |   |   |   |   |--- Month <= 0.90\\n|   |   |   |   |   |   |   |   |   |--- truncated branch of depth 9\\n|   |   |   |   |   |   |   |   |--- Month >  0.90\\n|   |   |   |   |   |   |   |   |   |--- truncated branch of depth 4\\n|   |   |   |   |   |   |--- pickup_latitude >  0.36\\n|   |   |   |   |   |   |   |--- pickup_latitude <= 0.36\\n|   |   |   |   |   |   |   |   |--- value: [37856.00]\\n|   |   |   |   |   |   |   |--- pickup_latitude >  0.36\\n|   |   |   |   |   |   |   |   |--- pickup_longitude <= 0.79\\n|   |   |   |   |   |   |   |   |   |--- truncated branch of depth 2\\n|   |   |   |   |   |   |   |   |--- pickup_longitude >  0.79\\n|   |   |   |   |   |   |   |   |   |--- truncated branch of depth 5\\n|   |   |--- pickup_latitude >  0.36\\n|   |   |   |--- Hour <= 0.80\\n|   |   |   |   |--- Hour <= 0.28\\n|   |   |   |   |   |--- Day <= 0.05\\n|   |   |   |   |   |   |--- dropoff_longitude <= 0.79\\n|   |   |   |   |   |   |   |--- Hour <= 0.07\\n|   |   |   |   |   |   |   |   |--- dropoff_longitude <= 0.79\\n|   |   |   |   |   |   |   |   |   |--- truncated branch of depth 9\\n|   |   |   |   |   |   |   |   |--- dropoff_longitude >  0.79\\n|   |   |   |   |   |   |   |   |   |--- truncated branch of depth 8\\n|   |   |   |   |   |   |   |--- Hour >  0.07\\n|   |   |   |   |   |   |   |   |--- pickup_latitude <= 0.37\\n|   |   |   |   |   |   |   |   |   |--- truncated branch of depth 8\\n|   |   |   |   |   |   |   |   |--- pickup_latitude >  0.37\\n|   |   |   |   |   |   |   |   |   |--- value: [749.00]\\n|   |   |   |   |   |   |--- dropoff_longitude >  0.79\\n|   |   |   |   |   |   |   |--- dropoff_longitude <= 0.79\\n|   |   |   |   |   |   |   |   |--- value: [80089.00]\\n|   |   |   |   |   |   |   |--- dropoff_longitude >  0.79\\n|   |   |   |   |   |   |   |   |--- Hour <= 0.17\\n|   |   |   |   |   |   |   |   |   |--- truncated branch of depth 6\\n|   |   |   |   |   |   |   |   |--- Hour >  0.17\\n|   |   |   |   |   |   |   |   |   |--- truncated branch of depth 2\\n|   |   |   |   |   |--- Day >  0.05\\n|   |   |   |   |   |   |--- dropoff_longitude <= 0.79\\n|   |   |   |   |   |   |   |--- dropoff_longitude <= 0.79\\n|   |   |   |   |   |   |   |   |--- pickup_latitude <= 0.37\\n|   |   |   |   |   |   |   |   |   |--- truncated branch of depth 5\\n|   |   |   |   |   |   |   |   |--- pickup_latitude >  0.37\\n|   |   |   |   |   |   |   |   |   |--- truncated branch of depth 2\\n|   |   |   |   |   |   |   |--- dropoff_longitude >  0.79\\n|   |   |   |   |   |   |   |   |--- Month <= 0.90\\n|   |   |   |   |   |   |   |   |   |--- truncated branch of depth 4\\n|   |   |   |   |   |   |   |   |--- Month >  0.90\\n|   |   |   |   |   |   |   |   |   |--- truncated branch of depth 2\\n|   |   |   |   |   |   |--- dropoff_longitude >  0.79\\n|   |   |   |   |   |   |   |--- Hour <= 0.24\\n|   |   |   |   |   |   |   |   |--- dropoff_longitude <= 0.79\\n|   |   |   |   |   |   |   |   |   |--- truncated branch of depth 24\\n|   |   |   |   |   |   |   |   |--- dropoff_longitude >  0.79\\n|   |   |   |   |   |   |   |   |   |--- truncated branch of depth 23\\n|   |   |   |   |   |   |   |--- Hour >  0.24\\n|   |   |   |   |   |   |   |   |--- dropoff_longitude <= 0.79\\n|   |   |   |   |   |   |   |   |   |--- truncated branch of depth 9\\n|   |   |   |   |   |   |   |   |--- dropoff_longitude >  0.79\\n|   |   |   |   |   |   |   |   |   |--- truncated branch of depth 16\\n|   |   |   |   |--- Hour >  0.28\\n|   |   |   |   |   |--- dropoff_longitude <= 0.79\\n|   |   |   |   |   |   |--- Month <= 0.50\\n|   |   |   |   |   |   |   |--- dropoff_latitude <= 0.73\\n|   |   |   |   |   |   |   |   |--- dropoff_longitude <= 0.79\\n|   |   |   |   |   |   |   |   |   |--- truncated branch of depth 31\\n|   |   |   |   |   |   |   |   |--- dropoff_longitude >  0.79\\n|   |   |   |   |   |   |   |   |   |--- truncated branch of depth 30\\n|   |   |   |   |   |   |   |--- dropoff_latitude >  0.73\\n|   |   |   |   |   |   |   |   |--- pickup_latitude <= 0.37\\n|   |   |   |   |   |   |   |   |   |--- truncated branch of depth 18\\n|   |   |   |   |   |   |   |   |--- pickup_latitude >  0.37\\n|   |   |   |   |   |   |   |   |   |--- truncated branch of depth 25\\n|   |   |   |   |   |   |--- Month >  0.50\\n|   |   |   |   |   |   |   |--- dropoff_latitude <= 0.73\\n|   |   |   |   |   |   |   |   |--- dropoff_longitude <= 0.79\\n|   |   |   |   |   |   |   |   |   |--- truncated branch of depth 26\\n|   |   |   |   |   |   |   |   |--- dropoff_longitude >  0.79\\n|   |   |   |   |   |   |   |   |   |--- truncated branch of depth 27\\n|   |   |   |   |   |   |   |--- dropoff_latitude >  0.73\\n|   |   |   |   |   |   |   |   |--- dropoff_latitude <= 0.73\\n|   |   |   |   |   |   |   |   |   |--- truncated branch of depth 8\\n|   |   |   |   |   |   |   |   |--- dropoff_latitude >  0.73\\n|   |   |   |   |   |   |   |   |   |--- truncated branch of depth 33\\n|   |   |   |   |   |--- dropoff_longitude >  0.79\\n|   |   |   |   |   |   |--- dropoff_latitude <= 0.72\\n|   |   |   |   |   |   |   |--- dropoff_latitude <= 0.72\\n|   |   |   |   |   |   |   |   |--- pickup_latitude <= 0.37\\n|   |   |   |   |   |   |   |   |   |--- truncated branch of depth 12\\n|   |   |   |   |   |   |   |   |--- pickup_latitude >  0.37\\n|   |   |   |   |   |   |   |   |   |--- truncated branch of depth 21\\n|   |   |   |   |   |   |   |--- dropoff_latitude >  0.72\\n|   |   |   |   |   |   |   |   |--- pickup_longitude <= 0.79\\n|   |   |   |   |   |   |   |   |   |--- value: [84406.00]\\n|   |   |   |   |   |   |   |   |--- pickup_longitude >  0.79\\n|   |   |   |   |   |   |   |   |   |--- value: [3281.00]\\n|   |   |   |   |   |   |--- dropoff_latitude >  0.72\\n|   |   |   |   |   |   |   |--- Month <= 0.50\\n|   |   |   |   |   |   |   |   |--- Hour <= 0.41\\n|   |   |   |   |   |   |   |   |   |--- truncated branch of depth 21\\n|   |   |   |   |   |   |   |   |--- Hour >  0.41\\n|   |   |   |   |   |   |   |   |   |--- truncated branch of depth 26\\n|   |   |   |   |   |   |   |--- Month >  0.50\\n|   |   |   |   |   |   |   |   |--- pickup_longitude <= 0.79\\n|   |   |   |   |   |   |   |   |   |--- truncated branch of depth 30\\n|   |   |   |   |   |   |   |   |--- pickup_longitude >  0.79\\n|   |   |   |   |   |   |   |   |   |--- truncated branch of depth 15\\n|   |   |   |--- Hour >  0.80\\n|   |   |   |   |--- dropoff_longitude <= 0.79\\n|   |   |   |   |   |--- dropoff_longitude <= 0.79\\n|   |   |   |   |   |   |--- dropoff_latitude <= 0.73\\n|   |   |   |   |   |   |   |--- dropoff_longitude <= 0.79\\n|   |   |   |   |   |   |   |   |--- dropoff_longitude <= 0.79\\n|   |   |   |   |   |   |   |   |   |--- truncated branch of depth 24\\n|   |   |   |   |   |   |   |   |--- dropoff_longitude >  0.79\\n|   |   |   |   |   |   |   |   |   |--- value: [83527.00]\\n|   |   |   |   |   |   |   |--- dropoff_longitude >  0.79\\n|   |   |   |   |   |   |   |   |--- pickup_latitude <= 0.37\\n|   |   |   |   |   |   |   |   |   |--- truncated branch of depth 21\\n|   |   |   |   |   |   |   |   |--- pickup_latitude >  0.37\\n|   |   |   |   |   |   |   |   |   |--- truncated branch of depth 31\\n|   |   |   |   |   |   |--- dropoff_latitude >  0.73\\n|   |   |   |   |   |   |   |--- dropoff_latitude <= 0.73\\n|   |   |   |   |   |   |   |   |--- dropoff_latitude <= 0.73\\n|   |   |   |   |   |   |   |   |   |--- truncated branch of depth 16\\n|   |   |   |   |   |   |   |   |--- dropoff_latitude >  0.73\\n|   |   |   |   |   |   |   |   |   |--- value: [84774.00]\\n|   |   |   |   |   |   |   |--- dropoff_latitude >  0.73\\n|   |   |   |   |   |   |   |   |--- Hour <= 0.85\\n|   |   |   |   |   |   |   |   |   |--- truncated branch of depth 10\\n|   |   |   |   |   |   |   |   |--- Hour >  0.85\\n|   |   |   |   |   |   |   |   |   |--- truncated branch of depth 21\\n|   |   |   |   |   |--- dropoff_longitude >  0.79\\n|   |   |   |   |   |   |--- dropoff_latitude <= 0.73\\n|   |   |   |   |   |   |   |--- Hour <= 0.93\\n|   |   |   |   |   |   |   |   |--- value: [1647.00]\\n|   |   |   |   |   |   |   |--- Hour >  0.93\\n|   |   |   |   |   |   |   |   |--- value: [80135.00]\\n|   |   |   |   |   |   |--- dropoff_latitude >  0.73\\n|   |   |   |   |   |   |   |--- Month <= 0.90\\n|   |   |   |   |   |   |   |   |--- dropoff_latitude <= 0.73\\n|   |   |   |   |   |   |   |   |   |--- truncated branch of depth 3\\n|   |   |   |   |   |   |   |   |--- dropoff_latitude >  0.73\\n|   |   |   |   |   |   |   |   |   |--- truncated branch of depth 5\\n|   |   |   |   |   |   |   |--- Month >  0.90\\n|   |   |   |   |   |   |   |   |--- pickup_longitude <= 0.79\\n|   |   |   |   |   |   |   |   |   |--- truncated branch of depth 2\\n|   |   |   |   |   |   |   |   |--- pickup_longitude >  0.79\\n|   |   |   |   |   |   |   |   |   |--- value: [2200.00]\\n|   |   |   |   |--- dropoff_longitude >  0.79\\n|   |   |   |   |   |--- dropoff_latitude <= 0.74\\n|   |   |   |   |   |   |--- dropoff_latitude <= 0.72\\n|   |   |   |   |   |   |   |--- Hour <= 0.85\\n|   |   |   |   |   |   |   |   |--- dropoff_latitude <= 0.72\\n|   |   |   |   |   |   |   |   |   |--- truncated branch of depth 9\\n|   |   |   |   |   |   |   |   |--- dropoff_latitude >  0.72\\n|   |   |   |   |   |   |   |   |   |--- truncated branch of depth 10\\n|   |   |   |   |   |   |   |--- Hour >  0.85\\n|   |   |   |   |   |   |   |   |--- dropoff_latitude <= 0.72\\n|   |   |   |   |   |   |   |   |   |--- truncated branch of depth 4\\n|   |   |   |   |   |   |   |   |--- dropoff_latitude >  0.72\\n|   |   |   |   |   |   |   |   |   |--- truncated branch of depth 16\\n|   |   |   |   |   |   |--- dropoff_latitude >  0.72\\n|   |   |   |   |   |   |   |--- dropoff_latitude <= 0.73\\n|   |   |   |   |   |   |   |   |--- dropoff_latitude <= 0.72\\n|   |   |   |   |   |   |   |   |   |--- truncated branch of depth 15\\n|   |   |   |   |   |   |   |   |--- dropoff_latitude >  0.72\\n|   |   |   |   |   |   |   |   |   |--- truncated branch of depth 24\\n|   |   |   |   |   |   |   |--- dropoff_latitude >  0.73\\n|   |   |   |   |   |   |   |   |--- dropoff_latitude <= 0.73\\n|   |   |   |   |   |   |   |   |   |--- value: [84875.00]\\n|   |   |   |   |   |   |   |   |--- dropoff_latitude >  0.73\\n|   |   |   |   |   |   |   |   |   |--- truncated branch of depth 31\\n|   |   |   |   |   |--- dropoff_latitude >  0.74\\n|   |   |   |   |   |   |--- dropoff_latitude <= 0.74\\n|   |   |   |   |   |   |   |--- value: [85613.00]\\n|   |   |   |   |   |   |--- dropoff_latitude >  0.74\\n|   |   |   |   |   |   |   |--- Day <= 0.30\\n|   |   |   |   |   |   |   |   |--- Hour <= 0.96\\n|   |   |   |   |   |   |   |   |   |--- truncated branch of depth 4\\n|   |   |   |   |   |   |   |   |--- Hour >  0.96\\n|   |   |   |   |   |   |   |   |   |--- value: [1246.00]\\n|   |   |   |   |   |   |   |--- Day >  0.30\\n|   |   |   |   |   |   |   |   |--- Month <= 0.50\\n|   |   |   |   |   |   |   |   |   |--- truncated branch of depth 6\\n|   |   |   |   |   |   |   |   |--- Month >  0.50\\n|   |   |   |   |   |   |   |   |   |--- truncated branch of depth 2\\n|   |--- dropoff_longitude >  0.79\\n|   |   |--- dropoff_longitude <= 0.79\\n|   |   |   |--- pickup_longitude <= 0.79\\n|   |   |   |   |--- dropoff_latitude <= 0.73\\n|   |   |   |   |   |--- dropoff_latitude <= 0.72\\n|   |   |   |   |   |   |--- pickup_latitude <= 0.36\\n|   |   |   |   |   |   |   |--- pickup_latitude <= 0.36\\n|   |   |   |   |   |   |   |   |--- pickup_latitude <= 0.36\\n|   |   |   |   |   |   |   |   |   |--- value: [805.00]\\n|   |   |   |   |   |   |   |   |--- pickup_latitude >  0.36\\n|   |   |   |   |   |   |   |   |   |--- truncated branch of depth 2\\n|   |   |   |   |   |   |   |--- pickup_latitude >  0.36\\n|   |   |   |   |   |   |   |   |--- Day <= 0.20\\n|   |   |   |   |   |   |   |   |   |--- value: [2520.00]\\n|   |   |   |   |   |   |   |   |--- Day >  0.20\\n|   |   |   |   |   |   |   |   |   |--- truncated branch of depth 4\\n|   |   |   |   |   |   |--- pickup_latitude >  0.36\\n|   |   |   |   |   |   |   |--- Hour <= 0.80\\n|   |   |   |   |   |   |   |   |--- Hour <= 0.17\\n|   |   |   |   |   |   |   |   |   |--- truncated branch of depth 7\\n|   |   |   |   |   |   |   |   |--- Hour >  0.17\\n|   |   |   |   |   |   |   |   |   |--- truncated branch of depth 13\\n|   |   |   |   |   |   |   |--- Hour >  0.80\\n|   |   |   |   |   |   |   |   |--- pickup_longitude <= 0.79\\n|   |   |   |   |   |   |   |   |   |--- truncated branch of depth 7\\n|   |   |   |   |   |   |   |   |--- pickup_longitude >  0.79\\n|   |   |   |   |   |   |   |   |   |--- truncated branch of depth 7\\n|   |   |   |   |   |--- dropoff_latitude >  0.72\\n|   |   |   |   |   |   |--- Hour <= 0.80\\n|   |   |   |   |   |   |   |--- Hour <= 0.33\\n|   |   |   |   |   |   |   |   |--- pickup_longitude <= 0.79\\n|   |   |   |   |   |   |   |   |   |--- truncated branch of depth 13\\n|   |   |   |   |   |   |   |   |--- pickup_longitude >  0.79\\n|   |   |   |   |   |   |   |   |   |--- truncated branch of depth 9\\n|   |   |   |   |   |   |   |--- Hour >  0.33\\n|   |   |   |   |   |   |   |   |--- Hour <= 0.59\\n|   |   |   |   |   |   |   |   |   |--- truncated branch of depth 23\\n|   |   |   |   |   |   |   |   |--- Hour >  0.59\\n|   |   |   |   |   |   |   |   |   |--- truncated branch of depth 18\\n|   |   |   |   |   |   |--- Hour >  0.80\\n|   |   |   |   |   |   |   |--- dropoff_latitude <= 0.72\\n|   |   |   |   |   |   |   |   |--- Hour <= 0.98\\n|   |   |   |   |   |   |   |   |   |--- truncated branch of depth 12\\n|   |   |   |   |   |   |   |   |--- Hour >  0.98\\n|   |   |   |   |   |   |   |   |   |--- truncated branch of depth 6\\n|   |   |   |   |   |   |   |--- dropoff_latitude >  0.72\\n|   |   |   |   |   |   |   |   |--- Hour <= 0.89\\n|   |   |   |   |   |   |   |   |   |--- truncated branch of depth 12\\n|   |   |   |   |   |   |   |   |--- Hour >  0.89\\n|   |   |   |   |   |   |   |   |   |--- truncated branch of depth 17\\n|   |   |   |   |--- dropoff_latitude >  0.73\\n|   |   |   |   |   |--- Hour <= 0.80\\n|   |   |   |   |   |   |--- dropoff_longitude <= 0.79\\n|   |   |   |   |   |   |   |--- dropoff_longitude <= 0.79\\n|   |   |   |   |   |   |   |   |--- dropoff_longitude <= 0.79\\n|   |   |   |   |   |   |   |   |   |--- truncated branch of depth 29\\n|   |   |   |   |   |   |   |   |--- dropoff_longitude >  0.79\\n|   |   |   |   |   |   |   |   |   |--- truncated branch of depth 10\\n|   |   |   |   |   |   |   |--- dropoff_longitude >  0.79\\n|   |   |   |   |   |   |   |   |--- Day <= 0.62\\n|   |   |   |   |   |   |   |   |   |--- truncated branch of depth 4\\n|   |   |   |   |   |   |   |   |--- Day >  0.62\\n|   |   |   |   |   |   |   |   |   |--- value: [84336.00]\\n|   |   |   |   |   |   |--- dropoff_longitude >  0.79\\n|   |   |   |   |   |   |   |--- Day <= 0.02\\n|   |   |   |   |   |   |   |   |--- pickup_longitude <= 0.79\\n|   |   |   |   |   |   |   |   |   |--- value: [83359.00]\\n|   |   |   |   |   |   |   |   |--- pickup_longitude >  0.79\\n|   |   |   |   |   |   |   |   |   |--- truncated branch of depth 12\\n|   |   |   |   |   |   |   |--- Day >  0.02\\n|   |   |   |   |   |   |   |   |--- dropoff_latitude <= 0.74\\n|   |   |   |   |   |   |   |   |   |--- truncated branch of depth 25\\n|   |   |   |   |   |   |   |   |--- dropoff_latitude >  0.74\\n|   |   |   |   |   |   |   |   |   |--- truncated branch of depth 15\\n|   |   |   |   |   |--- Hour >  0.80\\n|   |   |   |   |   |   |--- dropoff_latitude <= 0.73\\n|   |   |   |   |   |   |   |--- dropoff_longitude <= 0.79\\n|   |   |   |   |   |   |   |   |--- Hour <= 0.85\\n|   |   |   |   |   |   |   |   |   |--- truncated branch of depth 14\\n|   |   |   |   |   |   |   |   |--- Hour >  0.85\\n|   |   |   |   |   |   |   |   |   |--- truncated branch of depth 24\\n|   |   |   |   |   |   |   |--- dropoff_longitude >  0.79\\n|   |   |   |   |   |   |   |   |--- dropoff_latitude <= 0.73\\n|   |   |   |   |   |   |   |   |   |--- truncated branch of depth 16\\n|   |   |   |   |   |   |   |   |--- dropoff_latitude >  0.73\\n|   |   |   |   |   |   |   |   |   |--- truncated branch of depth 22\\n|   |   |   |   |   |   |--- dropoff_latitude >  0.73\\n|   |   |   |   |   |   |   |--- dropoff_latitude <= 0.73\\n|   |   |   |   |   |   |   |   |--- value: [82798.00]\\n|   |   |   |   |   |   |   |--- dropoff_latitude >  0.73\\n|   |   |   |   |   |   |   |   |--- dropoff_latitude <= 0.74\\n|   |   |   |   |   |   |   |   |   |--- truncated branch of depth 25\\n|   |   |   |   |   |   |   |   |--- dropoff_latitude >  0.74\\n|   |   |   |   |   |   |   |   |   |--- truncated branch of depth 24\\n|   |   |   |--- pickup_longitude >  0.79\\n|   |   |   |   |--- Hour <= 0.80\\n|   |   |   |   |   |--- Hour <= 0.11\\n|   |   |   |   |   |   |--- dropoff_latitude <= 0.73\\n|   |   |   |   |   |   |   |--- dropoff_longitude <= 0.79\\n|   |   |   |   |   |   |   |   |--- dropoff_latitude <= 0.72\\n|   |   |   |   |   |   |   |   |   |--- truncated branch of depth 7\\n|   |   |   |   |   |   |   |   |--- dropoff_latitude >  0.72\\n|   |   |   |   |   |   |   |   |   |--- truncated branch of depth 19\\n|   |   |   |   |   |   |   |--- dropoff_longitude >  0.79\\n|   |   |   |   |   |   |   |   |--- dropoff_latitude <= 0.73\\n|   |   |   |   |   |   |   |   |   |--- truncated branch of depth 13\\n|   |   |   |   |   |   |   |   |--- dropoff_latitude >  0.73\\n|   |   |   |   |   |   |   |   |   |--- truncated branch of depth 7\\n|   |   |   |   |   |   |--- dropoff_latitude >  0.73\\n|   |   |   |   |   |   |   |--- Day <= 0.15\\n|   |   |   |   |   |   |   |   |--- dropoff_longitude <= 0.79\\n|   |   |   |   |   |   |   |   |   |--- truncated branch of depth 5\\n|   |   |   |   |   |   |   |   |--- dropoff_longitude >  0.79\\n|   |   |   |   |   |   |   |   |   |--- truncated branch of depth 8\\n|   |   |   |   |   |   |   |--- Day >  0.15\\n|   |   |   |   |   |   |   |   |--- dropoff_latitude <= 0.74\\n|   |   |   |   |   |   |   |   |   |--- truncated branch of depth 11\\n|   |   |   |   |   |   |   |   |--- dropoff_latitude >  0.74\\n|   |   |   |   |   |   |   |   |   |--- truncated branch of depth 13\\n|   |   |   |   |   |--- Hour >  0.11\\n|   |   |   |   |   |   |--- Hour <= 0.15\\n|   |   |   |   |   |   |   |--- dropoff_latitude <= 0.73\\n|   |   |   |   |   |   |   |   |--- Day <= 0.15\\n|   |   |   |   |   |   |   |   |   |--- value: [1060.00]\\n|   |   |   |   |   |   |   |   |--- Day >  0.15\\n|   |   |   |   |   |   |   |   |   |--- truncated branch of depth 6\\n|   |   |   |   |   |   |   |--- dropoff_latitude >  0.73\\n|   |   |   |   |   |   |   |   |--- dropoff_longitude <= 0.79\\n|   |   |   |   |   |   |   |   |   |--- value: [2876.00]\\n|   |   |   |   |   |   |   |   |--- dropoff_longitude >  0.79\\n|   |   |   |   |   |   |   |   |   |--- truncated branch of depth 2\\n|   |   |   |   |   |   |--- Hour >  0.15\\n|   |   |   |   |   |   |   |--- dropoff_longitude <= 0.79\\n|   |   |   |   |   |   |   |   |--- dropoff_latitude <= 0.72\\n|   |   |   |   |   |   |   |   |   |--- truncated branch of depth 26\\n|   |   |   |   |   |   |   |   |--- dropoff_latitude >  0.72\\n|   |   |   |   |   |   |   |   |   |--- truncated branch of depth 29\\n|   |   |   |   |   |   |   |--- dropoff_longitude >  0.79\\n|   |   |   |   |   |   |   |   |--- dropoff_latitude <= 0.72\\n|   |   |   |   |   |   |   |   |   |--- value: [82378.00]\\n|   |   |   |   |   |   |   |   |--- dropoff_latitude >  0.72\\n|   |   |   |   |   |   |   |   |   |--- truncated branch of depth 8\\n|   |   |   |   |--- Hour >  0.80\\n|   |   |   |   |   |--- dropoff_longitude <= 0.79\\n|   |   |   |   |   |   |--- dropoff_longitude <= 0.79\\n|   |   |   |   |   |   |   |--- Hour <= 0.89\\n|   |   |   |   |   |   |   |   |--- Day <= 0.12\\n|   |   |   |   |   |   |   |   |   |--- truncated branch of depth 10\\n|   |   |   |   |   |   |   |   |--- Day >  0.12\\n|   |   |   |   |   |   |   |   |   |--- truncated branch of depth 16\\n|   |   |   |   |   |   |   |--- Hour >  0.89\\n|   |   |   |   |   |   |   |   |--- dropoff_latitude <= 0.73\\n|   |   |   |   |   |   |   |   |   |--- truncated branch of depth 17\\n|   |   |   |   |   |   |   |   |--- dropoff_latitude >  0.73\\n|   |   |   |   |   |   |   |   |   |--- truncated branch of depth 8\\n|   |   |   |   |   |   |--- dropoff_longitude >  0.79\\n|   |   |   |   |   |   |   |--- dropoff_longitude <= 0.79\\n|   |   |   |   |   |   |   |   |--- value: [84344.00]\\n|   |   |   |   |   |   |   |--- dropoff_longitude >  0.79\\n|   |   |   |   |   |   |   |   |--- pickup_longitude <= 0.79\\n|   |   |   |   |   |   |   |   |   |--- value: [4483.00]\\n|   |   |   |   |   |   |   |   |--- pickup_longitude >  0.79\\n|   |   |   |   |   |   |   |   |   |--- truncated branch of depth 6\\n|   |   |   |   |   |--- dropoff_longitude >  0.79\\n|   |   |   |   |   |   |--- Hour <= 0.93\\n|   |   |   |   |   |   |   |--- dropoff_latitude <= 0.74\\n|   |   |   |   |   |   |   |   |--- dropoff_longitude <= 0.79\\n|   |   |   |   |   |   |   |   |   |--- truncated branch of depth 21\\n|   |   |   |   |   |   |   |   |--- dropoff_longitude >  0.79\\n|   |   |   |   |   |   |   |   |   |--- truncated branch of depth 21\\n|   |   |   |   |   |   |   |--- dropoff_latitude >  0.74\\n|   |   |   |   |   |   |   |   |--- Month <= 0.90\\n|   |   |   |   |   |   |   |   |   |--- truncated branch of depth 16\\n|   |   |   |   |   |   |   |   |--- Month >  0.90\\n|   |   |   |   |   |   |   |   |   |--- truncated branch of depth 8\\n|   |   |   |   |   |   |--- Hour >  0.93\\n|   |   |   |   |   |   |   |--- dropoff_latitude <= 0.73\\n|   |   |   |   |   |   |   |   |--- dropoff_longitude <= 0.79\\n|   |   |   |   |   |   |   |   |   |--- truncated branch of depth 18\\n|   |   |   |   |   |   |   |   |--- dropoff_longitude >  0.79\\n|   |   |   |   |   |   |   |   |   |--- truncated branch of depth 21\\n|   |   |   |   |   |   |   |--- dropoff_latitude >  0.73\\n|   |   |   |   |   |   |   |   |--- dropoff_latitude <= 0.74\\n|   |   |   |   |   |   |   |   |   |--- truncated branch of depth 15\\n|   |   |   |   |   |   |   |   |--- dropoff_latitude >  0.74\\n|   |   |   |   |   |   |   |   |   |--- truncated branch of depth 14\\n|   |   |--- dropoff_longitude >  0.79\\n|   |   |   |--- dropoff_latitude <= 0.73\\n|   |   |   |   |--- Hour <= 0.24\\n|   |   |   |   |   |--- pickup_latitude <= 0.36\\n|   |   |   |   |   |   |--- dropoff_latitude <= 0.73\\n|   |   |   |   |   |   |   |--- dropoff_latitude <= 0.72\\n|   |   |   |   |   |   |   |   |--- pickup_latitude <= 0.36\\n|   |   |   |   |   |   |   |   |   |--- truncated branch of depth 4\\n|   |   |   |   |   |   |   |   |--- pickup_latitude >  0.36\\n|   |   |   |   |   |   |   |   |   |--- truncated branch of depth 14\\n|   |   |   |   |   |   |   |--- dropoff_latitude >  0.72\\n|   |   |   |   |   |   |   |   |--- dropoff_latitude <= 0.72\\n|   |   |   |   |   |   |   |   |   |--- truncated branch of depth 14\\n|   |   |   |   |   |   |   |   |--- dropoff_latitude >  0.72\\n|   |   |   |   |   |   |   |   |   |--- truncated branch of depth 19\\n|   |   |   |   |   |   |--- dropoff_latitude >  0.73\\n|   |   |   |   |   |   |   |--- pickup_latitude <= 0.36\\n|   |   |   |   |   |   |   |   |--- dropoff_longitude <= 0.79\\n|   |   |   |   |   |   |   |   |   |--- value: [1606.00]\\n|   |   |   |   |   |   |   |   |--- dropoff_longitude >  0.79\\n|   |   |   |   |   |   |   |   |   |--- value: [5610.00]\\n|   |   |   |   |   |   |   |--- pickup_latitude >  0.36\\n|   |   |   |   |   |   |   |   |--- dropoff_latitude <= 0.73\\n|   |   |   |   |   |   |   |   |   |--- truncated branch of depth 16\\n|   |   |   |   |   |   |   |   |--- dropoff_latitude >  0.73\\n|   |   |   |   |   |   |   |   |   |--- truncated branch of depth 20\\n|   |   |   |   |   |--- pickup_latitude >  0.36\\n|   |   |   |   |   |   |--- dropoff_longitude <= 0.79\\n|   |   |   |   |   |   |   |--- dropoff_latitude <= 0.73\\n|   |   |   |   |   |   |   |   |--- pickup_latitude <= 0.36\\n|   |   |   |   |   |   |   |   |   |--- truncated branch of depth 16\\n|   |   |   |   |   |   |   |   |--- pickup_latitude >  0.36\\n|   |   |   |   |   |   |   |   |   |--- truncated branch of depth 18\\n|   |   |   |   |   |   |   |--- dropoff_latitude >  0.73\\n|   |   |   |   |   |   |   |   |--- pickup_latitude <= 0.36\\n|   |   |   |   |   |   |   |   |   |--- truncated branch of depth 9\\n|   |   |   |   |   |   |   |   |--- pickup_latitude >  0.36\\n|   |   |   |   |   |   |   |   |   |--- truncated branch of depth 30\\n|   |   |   |   |   |   |--- dropoff_longitude >  0.79\\n|   |   |   |   |   |   |   |--- pickup_longitude <= 0.79\\n|   |   |   |   |   |   |   |   |--- dropoff_longitude <= 0.80\\n|   |   |   |   |   |   |   |   |   |--- truncated branch of depth 11\\n|   |   |   |   |   |   |   |   |--- dropoff_longitude >  0.80\\n|   |   |   |   |   |   |   |   |   |--- truncated branch of depth 9\\n|   |   |   |   |   |   |   |--- pickup_longitude >  0.79\\n|   |   |   |   |   |   |   |   |--- pickup_longitude <= 0.79\\n|   |   |   |   |   |   |   |   |   |--- truncated branch of depth 8\\n|   |   |   |   |   |   |   |   |--- pickup_longitude >  0.79\\n|   |   |   |   |   |   |   |   |   |--- truncated branch of depth 13\\n|   |   |   |   |--- Hour >  0.24\\n|   |   |   |   |   |--- dropoff_latitude <= 0.72\\n|   |   |   |   |   |   |--- pickup_latitude <= 0.36\\n|   |   |   |   |   |   |   |--- dropoff_longitude <= 0.79\\n|   |   |   |   |   |   |   |   |--- dropoff_longitude <= 0.79\\n|   |   |   |   |   |   |   |   |   |--- truncated branch of depth 19\\n|   |   |   |   |   |   |   |   |--- dropoff_longitude >  0.79\\n|   |   |   |   |   |   |   |   |   |--- truncated branch of depth 31\\n|   |   |   |   |   |   |   |--- dropoff_longitude >  0.79\\n|   |   |   |   |   |   |   |   |--- dropoff_longitude <= 0.79\\n|   |   |   |   |   |   |   |   |   |--- truncated branch of depth 9\\n|   |   |   |   |   |   |   |   |--- dropoff_longitude >  0.79\\n|   |   |   |   |   |   |   |   |   |--- truncated branch of depth 20\\n|   |   |   |   |   |   |--- pickup_latitude >  0.36\\n|   |   |   |   |   |   |   |--- dropoff_longitude <= 0.79\\n|   |   |   |   |   |   |   |   |--- dropoff_longitude <= 0.79\\n|   |   |   |   |   |   |   |   |   |--- truncated branch of depth 6\\n|   |   |   |   |   |   |   |   |--- dropoff_longitude >  0.79\\n|   |   |   |   |   |   |   |   |   |--- value: [85057.00]\\n|   |   |   |   |   |   |   |--- dropoff_longitude >  0.79\\n|   |   |   |   |   |   |   |   |--- dropoff_longitude <= 0.80\\n|   |   |   |   |   |   |   |   |   |--- truncated branch of depth 26\\n|   |   |   |   |   |   |   |   |--- dropoff_longitude >  0.80\\n|   |   |   |   |   |   |   |   |   |--- truncated branch of depth 5\\n|   |   |   |   |   |--- dropoff_latitude >  0.72\\n|   |   |   |   |   |   |--- dropoff_latitude <= 0.72\\n|   |   |   |   |   |   |   |--- pickup_latitude <= 0.36\\n|   |   |   |   |   |   |   |   |--- value: [83419.00]\\n|   |   |   |   |   |   |   |--- pickup_latitude >  0.36\\n|   |   |   |   |   |   |   |   |--- value: [701.00]\\n|   |   |   |   |   |   |--- dropoff_latitude >  0.72\\n|   |   |   |   |   |   |   |--- pickup_latitude <= 0.36\\n|   |   |   |   |   |   |   |   |--- dropoff_latitude <= 0.73\\n|   |   |   |   |   |   |   |   |   |--- truncated branch of depth 25\\n|   |   |   |   |   |   |   |   |--- dropoff_latitude >  0.73\\n|   |   |   |   |   |   |   |   |   |--- truncated branch of depth 29\\n|   |   |   |   |   |   |   |--- pickup_latitude >  0.36\\n|   |   |   |   |   |   |   |   |--- dropoff_longitude <= 0.79\\n|   |   |   |   |   |   |   |   |   |--- truncated branch of depth 34\\n|   |   |   |   |   |   |   |   |--- dropoff_longitude >  0.79\\n|   |   |   |   |   |   |   |   |   |--- truncated branch of depth 22\\n|   |   |   |--- dropoff_latitude >  0.73\\n|   |   |   |   |--- pickup_latitude <= 0.36\\n|   |   |   |   |   |--- dropoff_latitude <= 0.75\\n|   |   |   |   |   |   |--- dropoff_longitude <= 0.80\\n|   |   |   |   |   |   |   |--- dropoff_latitude <= 0.74\\n|   |   |   |   |   |   |   |   |--- dropoff_latitude <= 0.73\\n|   |   |   |   |   |   |   |   |   |--- truncated branch of depth 16\\n|   |   |   |   |   |   |   |   |--- dropoff_latitude >  0.73\\n|   |   |   |   |   |   |   |   |   |--- truncated branch of depth 19\\n|   |   |   |   |   |   |   |--- dropoff_latitude >  0.74\\n|   |   |   |   |   |   |   |   |--- Hour <= 0.85\\n|   |   |   |   |   |   |   |   |   |--- truncated branch of depth 23\\n|   |   |   |   |   |   |   |   |--- Hour >  0.85\\n|   |   |   |   |   |   |   |   |   |--- truncated branch of depth 12\\n|   |   |   |   |   |   |--- dropoff_longitude >  0.80\\n|   |   |   |   |   |   |   |--- dropoff_longitude <= 0.80\\n|   |   |   |   |   |   |   |   |--- dropoff_longitude <= 0.80\\n|   |   |   |   |   |   |   |   |   |--- value: [4175.00]\\n|   |   |   |   |   |   |   |   |--- dropoff_longitude >  0.80\\n|   |   |   |   |   |   |   |   |   |--- value: [32338.00]\\n|   |   |   |   |   |   |   |--- dropoff_longitude >  0.80\\n|   |   |   |   |   |   |   |   |--- dropoff_longitude <= 0.80\\n|   |   |   |   |   |   |   |   |   |--- truncated branch of depth 9\\n|   |   |   |   |   |   |   |   |--- dropoff_longitude >  0.80\\n|   |   |   |   |   |   |   |   |   |--- truncated branch of depth 3\\n|   |   |   |   |   |--- dropoff_latitude >  0.75\\n|   |   |   |   |   |   |--- dropoff_latitude <= 0.75\\n|   |   |   |   |   |   |   |--- value: [58583.00]\\n|   |   |   |   |   |   |--- dropoff_latitude >  0.75\\n|   |   |   |   |   |   |   |--- dropoff_latitude <= 0.77\\n|   |   |   |   |   |   |   |   |--- Hour <= 0.80\\n|   |   |   |   |   |   |   |   |   |--- truncated branch of depth 12\\n|   |   |   |   |   |   |   |   |--- Hour >  0.80\\n|   |   |   |   |   |   |   |   |   |--- truncated branch of depth 9\\n|   |   |   |   |   |   |   |--- dropoff_latitude >  0.77\\n|   |   |   |   |   |   |   |   |--- dropoff_longitude <= 0.80\\n|   |   |   |   |   |   |   |   |   |--- truncated branch of depth 2\\n|   |   |   |   |   |   |   |   |--- dropoff_longitude >  0.80\\n|   |   |   |   |   |   |   |   |   |--- truncated branch of depth 2\\n|   |   |   |   |--- pickup_latitude >  0.36\\n|   |   |   |   |   |--- pickup_longitude <= 0.79\\n|   |   |   |   |   |   |--- pickup_latitude <= 0.37\\n|   |   |   |   |   |   |   |--- dropoff_latitude <= 0.74\\n|   |   |   |   |   |   |   |   |--- pickup_latitude <= 0.37\\n|   |   |   |   |   |   |   |   |   |--- truncated branch of depth 25\\n|   |   |   |   |   |   |   |   |--- pickup_latitude >  0.37\\n|   |   |   |   |   |   |   |   |   |--- truncated branch of depth 12\\n|   |   |   |   |   |   |   |--- dropoff_latitude >  0.74\\n|   |   |   |   |   |   |   |   |--- dropoff_longitude <= 0.80\\n|   |   |   |   |   |   |   |   |   |--- truncated branch of depth 21\\n|   |   |   |   |   |   |   |   |--- dropoff_longitude >  0.80\\n|   |   |   |   |   |   |   |   |   |--- truncated branch of depth 3\\n|   |   |   |   |   |   |--- pickup_latitude >  0.37\\n|   |   |   |   |   |   |   |--- dropoff_longitude <= 0.79\\n|   |   |   |   |   |   |   |   |--- Day <= 0.35\\n|   |   |   |   |   |   |   |   |   |--- truncated branch of depth 2\\n|   |   |   |   |   |   |   |   |--- Day >  0.35\\n|   |   |   |   |   |   |   |   |   |--- truncated branch of depth 5\\n|   |   |   |   |   |   |   |--- dropoff_longitude >  0.79\\n|   |   |   |   |   |   |   |   |--- value: [86283.00]\\n|   |   |   |   |   |--- pickup_longitude >  0.79\\n|   |   |   |   |   |   |--- pickup_latitude <= 0.37\\n|   |   |   |   |   |   |   |--- dropoff_latitude <= 0.73\\n|   |   |   |   |   |   |   |   |--- pickup_latitude <= 0.37\\n|   |   |   |   |   |   |   |   |   |--- truncated branch of depth 6\\n|   |   |   |   |   |   |   |   |--- pickup_latitude >  0.37\\n|   |   |   |   |   |   |   |   |   |--- value: [1801.00]\\n|   |   |   |   |   |   |   |--- dropoff_latitude >  0.73\\n|   |   |   |   |   |   |   |   |--- Month <= 0.40\\n|   |   |   |   |   |   |   |   |   |--- truncated branch of depth 5\\n|   |   |   |   |   |   |   |   |--- Month >  0.40\\n|   |   |   |   |   |   |   |   |   |--- truncated branch of depth 3\\n|   |   |   |   |   |   |--- pickup_latitude >  0.37\\n|   |   |   |   |   |   |   |--- dropoff_longitude <= 0.79\\n|   |   |   |   |   |   |   |   |--- pickup_latitude <= 0.37\\n|   |   |   |   |   |   |   |   |   |--- value: [1816.00]\\n|   |   |   |   |   |   |   |   |--- pickup_latitude >  0.37\\n|   |   |   |   |   |   |   |   |   |--- truncated branch of depth 12\\n|   |   |   |   |   |   |   |--- dropoff_longitude >  0.79\\n|   |   |   |   |   |   |   |   |--- pickup_latitude <= 0.37\\n|   |   |   |   |   |   |   |   |   |--- truncated branch of depth 17\\n|   |   |   |   |   |   |   |   |--- pickup_latitude >  0.37\\n|   |   |   |   |   |   |   |   |   |--- truncated branch of depth 15\\n'"
      ]
     },
     "execution_count": 84,
     "metadata": {},
     "output_type": "execute_result"
    }
   ],
   "source": [
    "tree_txt=export_text(model2,max_depth=8,feature_names=list(X.columns))\n",
    "tree_txt"
   ]
  },
  {
   "cell_type": "code",
   "execution_count": 85,
   "metadata": {
    "colab": {
     "base_uri": "https://localhost:8080/"
    },
    "executionInfo": {
     "elapsed": 58,
     "status": "ok",
     "timestamp": 1635308135383,
     "user": {
      "displayName": "Nouhaila Bouanane",
      "photoUrl": "https://lh3.googleusercontent.com/a-/AOh14Gibt5TeymiB1HISp8umASDl5e8Z0WKFiZZfiJER=s64",
      "userId": "14306738336085774049"
     },
     "user_tz": -180
    },
    "id": "TdzKE68sB_65",
    "outputId": "453216df-cfae-4b35-8a0d-125a94e9aeb2"
   },
   "outputs": [
    {
     "data": {
      "text/plain": [
       "array([6.90081028e-02, 1.86619175e-01, 1.53829636e-01, 2.03830712e-01,\n",
       "       1.96443832e-02, 2.65047015e-01, 1.01925581e-01, 8.92782311e-05,\n",
       "       6.11590321e-06])"
      ]
     },
     "execution_count": 85,
     "metadata": {},
     "output_type": "execute_result"
    }
   ],
   "source": [
    "model2.feature_importances_"
   ]
  },
  {
   "cell_type": "code",
   "execution_count": 86,
   "metadata": {
    "executionInfo": {
     "elapsed": 24,
     "status": "ok",
     "timestamp": 1635308135384,
     "user": {
      "displayName": "Nouhaila Bouanane",
      "photoUrl": "https://lh3.googleusercontent.com/a-/AOh14Gibt5TeymiB1HISp8umASDl5e8Z0WKFiZZfiJER=s64",
      "userId": "14306738336085774049"
     },
     "user_tz": -180
    },
    "id": "dzZynhLGCDCF"
   },
   "outputs": [],
   "source": [
    "importance=pd.DataFrame({\n",
    "    'features':X.columns,\n",
    "    'importance':model2.feature_importances_\n",
    "}).sort_values('importance',ascending=False)"
   ]
  },
  {
   "cell_type": "code",
   "execution_count": 87,
   "metadata": {
    "colab": {
     "base_uri": "https://localhost:8080/",
     "height": 328
    },
    "executionInfo": {
     "elapsed": 24,
     "status": "ok",
     "timestamp": 1635308135385,
     "user": {
      "displayName": "Nouhaila Bouanane",
      "photoUrl": "https://lh3.googleusercontent.com/a-/AOh14Gibt5TeymiB1HISp8umASDl5e8Z0WKFiZZfiJER=s64",
      "userId": "14306738336085774049"
     },
     "user_tz": -180
    },
    "id": "Lj3gfH-OCFSI",
    "outputId": "ca55b5fe-9146-4726-ec90-1366d3ab03bd"
   },
   "outputs": [
    {
     "data": {
      "text/html": [
       "<div>\n",
       "<style scoped>\n",
       "    .dataframe tbody tr th:only-of-type {\n",
       "        vertical-align: middle;\n",
       "    }\n",
       "\n",
       "    .dataframe tbody tr th {\n",
       "        vertical-align: top;\n",
       "    }\n",
       "\n",
       "    .dataframe thead th {\n",
       "        text-align: right;\n",
       "    }\n",
       "</style>\n",
       "<table border=\"1\" class=\"dataframe\">\n",
       "  <thead>\n",
       "    <tr style=\"text-align: right;\">\n",
       "      <th></th>\n",
       "      <th>features</th>\n",
       "      <th>importance</th>\n",
       "    </tr>\n",
       "  </thead>\n",
       "  <tbody>\n",
       "    <tr>\n",
       "      <th>5</th>\n",
       "      <td>Day</td>\n",
       "      <td>0.265047</td>\n",
       "    </tr>\n",
       "    <tr>\n",
       "      <th>3</th>\n",
       "      <td>dropoff_latitude</td>\n",
       "      <td>0.203831</td>\n",
       "    </tr>\n",
       "    <tr>\n",
       "      <th>1</th>\n",
       "      <td>pickup_latitude</td>\n",
       "      <td>0.186619</td>\n",
       "    </tr>\n",
       "    <tr>\n",
       "      <th>2</th>\n",
       "      <td>dropoff_longitude</td>\n",
       "      <td>0.153830</td>\n",
       "    </tr>\n",
       "    <tr>\n",
       "      <th>6</th>\n",
       "      <td>Hour</td>\n",
       "      <td>0.101926</td>\n",
       "    </tr>\n",
       "    <tr>\n",
       "      <th>0</th>\n",
       "      <td>pickup_longitude</td>\n",
       "      <td>0.069008</td>\n",
       "    </tr>\n",
       "    <tr>\n",
       "      <th>4</th>\n",
       "      <td>Month</td>\n",
       "      <td>0.019644</td>\n",
       "    </tr>\n",
       "    <tr>\n",
       "      <th>7</th>\n",
       "      <td>store_and_fwd_flag_N</td>\n",
       "      <td>0.000089</td>\n",
       "    </tr>\n",
       "    <tr>\n",
       "      <th>8</th>\n",
       "      <td>store_and_fwd_flag_Y</td>\n",
       "      <td>0.000006</td>\n",
       "    </tr>\n",
       "  </tbody>\n",
       "</table>\n",
       "</div>"
      ],
      "text/plain": [
       "               features  importance\n",
       "5                   Day    0.265047\n",
       "3      dropoff_latitude    0.203831\n",
       "1       pickup_latitude    0.186619\n",
       "2     dropoff_longitude    0.153830\n",
       "6                  Hour    0.101926\n",
       "0      pickup_longitude    0.069008\n",
       "4                 Month    0.019644\n",
       "7  store_and_fwd_flag_N    0.000089\n",
       "8  store_and_fwd_flag_Y    0.000006"
      ]
     },
     "execution_count": 87,
     "metadata": {},
     "output_type": "execute_result"
    }
   ],
   "source": [
    "importance"
   ]
  },
  {
   "cell_type": "markdown",
   "metadata": {
    "id": "5gEOHXKlCIVh"
   },
   "source": [
    "**Hyperparameter Tunning and Overfitting**\n"
   ]
  },
  {
   "cell_type": "code",
   "execution_count": 88,
   "metadata": {
    "executionInfo": {
     "elapsed": 22,
     "status": "ok",
     "timestamp": 1635308135385,
     "user": {
      "displayName": "Nouhaila Bouanane",
      "photoUrl": "https://lh3.googleusercontent.com/a-/AOh14Gibt5TeymiB1HISp8umASDl5e8Z0WKFiZZfiJER=s64",
      "userId": "14306738336085774049"
     },
     "user_tz": -180
    },
    "id": "LQfx5GomCJVN"
   },
   "outputs": [],
   "source": [
    "model2=DecisionTreeRegressor(random_state=42,max_depth=4)"
   ]
  },
  {
   "cell_type": "code",
   "execution_count": 89,
   "metadata": {
    "colab": {
     "base_uri": "https://localhost:8080/"
    },
    "executionInfo": {
     "elapsed": 4296,
     "status": "ok",
     "timestamp": 1635308139659,
     "user": {
      "displayName": "Nouhaila Bouanane",
      "photoUrl": "https://lh3.googleusercontent.com/a-/AOh14Gibt5TeymiB1HISp8umASDl5e8Z0WKFiZZfiJER=s64",
      "userId": "14306738336085774049"
     },
     "user_tz": -180
    },
    "id": "Vvd8hKsICMxh",
    "outputId": "63727b4c-512d-4abc-ec8b-5edd17bed7f8"
   },
   "outputs": [
    {
     "data": {
      "text/plain": [
       "DecisionTreeRegressor(ccp_alpha=0.0, criterion='mse', max_depth=4,\n",
       "                      max_features=None, max_leaf_nodes=None,\n",
       "                      min_impurity_decrease=0.0, min_impurity_split=None,\n",
       "                      min_samples_leaf=1, min_samples_split=2,\n",
       "                      min_weight_fraction_leaf=0.0, presort='deprecated',\n",
       "                      random_state=42, splitter='best')"
      ]
     },
     "execution_count": 89,
     "metadata": {},
     "output_type": "execute_result"
    }
   ],
   "source": [
    "model2.fit(X,targets)"
   ]
  },
  {
   "cell_type": "code",
   "execution_count": 90,
   "metadata": {
    "executionInfo": {
     "elapsed": 15,
     "status": "ok",
     "timestamp": 1635308139660,
     "user": {
      "displayName": "Nouhaila Bouanane",
      "photoUrl": "https://lh3.googleusercontent.com/a-/AOh14Gibt5TeymiB1HISp8umASDl5e8Z0WKFiZZfiJER=s64",
      "userId": "14306738336085774049"
     },
     "user_tz": -180
    },
    "id": "4imXVBCmCPsn"
   },
   "outputs": [],
   "source": [
    "preds=model2.predict(X)"
   ]
  },
  {
   "cell_type": "code",
   "execution_count": 91,
   "metadata": {
    "colab": {
     "base_uri": "https://localhost:8080/"
    },
    "executionInfo": {
     "elapsed": 14,
     "status": "ok",
     "timestamp": 1635308139660,
     "user": {
      "displayName": "Nouhaila Bouanane",
      "photoUrl": "https://lh3.googleusercontent.com/a-/AOh14Gibt5TeymiB1HISp8umASDl5e8Z0WKFiZZfiJER=s64",
      "userId": "14306738336085774049"
     },
     "user_tz": -180
    },
    "id": "M_1KA7-cCQyk",
    "outputId": "9d6ae379-d13b-4d71-b757-f8bdf09f77b3"
   },
   "outputs": [
    {
     "data": {
      "text/plain": [
       "27204830.95565043"
      ]
     },
     "execution_count": 91,
     "metadata": {},
     "output_type": "execute_result"
    }
   ],
   "source": [
    "rmse=mean_squared_error(targets,preds)\n",
    "rmse"
   ]
  },
  {
   "cell_type": "code",
   "execution_count": 92,
   "metadata": {
    "executionInfo": {
     "elapsed": 8577,
     "status": "ok",
     "timestamp": 1635308148227,
     "user": {
      "displayName": "Nouhaila Bouanane",
      "photoUrl": "https://lh3.googleusercontent.com/a-/AOh14Gibt5TeymiB1HISp8umASDl5e8Z0WKFiZZfiJER=s64",
      "userId": "14306738336085774049"
     },
     "user_tz": -180
    },
    "id": "2K9YYQXdCStw"
   },
   "outputs": [],
   "source": [
    "model2=DecisionTreeRegressor(random_state=42,max_leaf_nodes=35).fit(X,targets)"
   ]
  },
  {
   "cell_type": "code",
   "execution_count": 93,
   "metadata": {
    "colab": {
     "base_uri": "https://localhost:8080/"
    },
    "executionInfo": {
     "elapsed": 17,
     "status": "ok",
     "timestamp": 1635308148229,
     "user": {
      "displayName": "Nouhaila Bouanane",
      "photoUrl": "https://lh3.googleusercontent.com/a-/AOh14Gibt5TeymiB1HISp8umASDl5e8Z0WKFiZZfiJER=s64",
      "userId": "14306738336085774049"
     },
     "user_tz": -180
    },
    "id": "uihqEFhDCXT7",
    "outputId": "399b2fd6-a7ce-49fa-c50b-2b8d2d8d4fe1"
   },
   "outputs": [
    {
     "data": {
      "text/plain": [
       "13222787.192269713"
      ]
     },
     "execution_count": 93,
     "metadata": {},
     "output_type": "execute_result"
    }
   ],
   "source": [
    "rmse=mean_squared_error(targets,model2.predict(X))\n",
    "rmse"
   ]
  },
  {
   "cell_type": "code",
   "execution_count": null,
   "metadata": {
    "id": "1RJgnZXoCauy"
   },
   "outputs": [],
   "source": [
    "model2=DecisionTreeRegressor(random_state=42,max_leaf_nodes=55).fit(X,targets)"
   ]
  },
  {
   "cell_type": "code",
   "execution_count": null,
   "metadata": {
    "id": "mnUN5fkPCfq7"
   },
   "outputs": [],
   "source": [
    "rmse=mean_squared_error(targets,model2.predict(X))\n",
    "rmse"
   ]
  },
  {
   "cell_type": "code",
   "execution_count": null,
   "metadata": {
    "id": "dxotYZj_Cpg5"
   },
   "outputs": [],
   "source": [
    "model2=DecisionTreeRegressor(random_state=42, min_samples_leaf=4, max_features=0.4).fit(X,targets)"
   ]
  },
  {
   "cell_type": "code",
   "execution_count": null,
   "metadata": {
    "id": "LqIQrenjCsEP"
   },
   "outputs": [],
   "source": [
    "preds=model2.predict(X)"
   ]
  },
  {
   "cell_type": "code",
   "execution_count": null,
   "metadata": {
    "id": "a-py7EOqCt2P"
   },
   "outputs": [],
   "source": [
    "rmse=mean_squared_error(targets,preds)\n",
    "rmse"
   ]
  },
  {
   "cell_type": "markdown",
   "metadata": {
    "id": "A79MMX9VC07Z"
   },
   "source": [
    "**I will get the prediction of the test data based on the model That has less rmse**"
   ]
  },
  {
   "cell_type": "code",
   "execution_count": null,
   "metadata": {
    "id": "5GfZBZQZDNdw"
   },
   "outputs": [],
   "source": [
    "model2=DecisionTreeRegressor(random_state=42)"
   ]
  },
  {
   "cell_type": "code",
   "execution_count": null,
   "metadata": {
    "id": "43mhdebWDPoy"
   },
   "outputs": [],
   "source": [
    "model2.fit(X,targets)"
   ]
  },
  {
   "cell_type": "code",
   "execution_count": null,
   "metadata": {
    "id": "YZ7J4JZDDRaz"
   },
   "outputs": [],
   "source": [
    "preds_train=model2.predict(X)"
   ]
  },
  {
   "cell_type": "code",
   "execution_count": null,
   "metadata": {
    "id": "1pDY6BeADTD1"
   },
   "outputs": [],
   "source": [
    "rmse_train=mean_squared_error(targets,preds_train)\n",
    "rmse_train"
   ]
  },
  {
   "cell_type": "markdown",
   "metadata": {
    "id": "Mk7U8F5mDX2J"
   },
   "source": [
    "**`Making Prediction on the test`**"
   ]
  },
  {
   "cell_type": "code",
   "execution_count": null,
   "metadata": {
    "id": "Qlsz_QrMDYr-"
   },
   "outputs": [],
   "source": [
    "X_test"
   ]
  },
  {
   "cell_type": "code",
   "execution_count": null,
   "metadata": {
    "id": "_-eI4r-XDdba"
   },
   "outputs": [],
   "source": [
    "X_test.info()"
   ]
  },
  {
   "cell_type": "code",
   "execution_count": null,
   "metadata": {
    "id": "c9y10n7CDgJz"
   },
   "outputs": [],
   "source": [
    "test_preds=model2.predict(X_test)\n",
    "test_preds"
   ]
  },
  {
   "cell_type": "code",
   "execution_count": null,
   "metadata": {
    "id": "wrHVZzW6DjAE"
   },
   "outputs": [],
   "source": [
    "jovian.commit()"
   ]
  },
  {
   "cell_type": "markdown",
   "metadata": {
    "id": "5vNdUX36mpcf"
   },
   "source": [
    "# **References:**\n",
    "https://www.youtube.com/watch?v=L_dQrZZjGDg and\n",
    "https://www.kaggle.com/pirsqrd/predictingtripduration"
   ]
  },
  {
   "cell_type": "markdown",
   "metadata": {
    "id": "b9cASEQvntCI"
   },
   "source": [
    "# **Conclusion:**\n",
    "I choose in this project model 2 which is Decision Tree because it gives me less Rmse and I feel it is more accurate than the Linear Regression. Also, I applied in this model so many techniques that I learned during this course."
   ]
  },
  {
   "cell_type": "code",
   "execution_count": null,
   "metadata": {
    "id": "YLuxwsikoxcq"
   },
   "outputs": [],
   "source": [
    "jovian.submit(assignment=\"zerotogbms-project\")"
   ]
  }
 ],
 "metadata": {
  "colab": {
   "collapsed_sections": [],
   "name": "projectjovianfinal.ipynb",
   "provenance": []
  },
  "language_info": {
   "codemirror_mode": {
    "name": "ipython",
    "version": 3
   },
   "file_extension": ".py",
   "mimetype": "text/x-python",
   "name": "python",
   "nbconvert_exporter": "python",
   "pygments_lexer": "ipython3",
   "version": "3.9.6"
  }
 },
 "nbformat": 4,
 "nbformat_minor": 0
}